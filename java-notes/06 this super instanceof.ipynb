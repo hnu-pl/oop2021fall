{
 "cells": [
  {
   "cell_type": "markdown",
   "id": "abac06e1-a087-4883-8d11-ceb41ce520b2",
   "metadata": {
    "tags": []
   },
   "source": [
    "# 06 `this` `super` `instanceof`\n",
    "\n",
    "- `this`의 두가지 용도\n",
    "  - 인스턴스 메소드에서 객체 자신을 참조\n",
    "  - 생성자에서 같은 클래스의 다른 생성자를 호출\n",
    "\n",
    "\n",
    "- `super`의 두가지 용도\n",
    "  - 상위 클래스 메소드 접근 (특히 오버라이드된 경우에 활용)\n",
    "  - 하위 클래스 생성자에서 상위 클래스 생성자 호출\n",
    "\n",
    "\n",
    "- `instanceof`와 다운캐스팅\n",
    "  - 다운캐스팅은 가능한 한 피하는 것이 좋다 \n",
    "    - 가능하다면 메소드 오버라이딩으로 동적 디스패치를 하는 것이 바람직\n",
    "  - 다운캐스팅이 필요한 경우에는 `instanceof`로 확인한 후에 진행해야\n",
    "  - (특히 제네릭이 나오기 이전의 구형) 라이브러리 활용시\n",
    "    - Object 타입 객체를 더 구체적인 클래스 타입으로 다운캐스팅할 때"
   ]
  },
  {
   "cell_type": "markdown",
   "id": "b50fc9ba-b068-45d7-98f0-051267ca7dbc",
   "metadata": {},
   "source": [
    "---\n",
    "## `this`로 객체 자신을 참조"
   ]
  },
  {
   "cell_type": "code",
   "execution_count": 1,
   "id": "467fa4f8-7dc1-4a54-aa03-1ac0fe976227",
   "metadata": {},
   "outputs": [],
   "source": [
    "class Point { // 2차원 좌표 (x,y)를 나타내는 클래스\n",
    "    int x;\n",
    "    int y;\n",
    "    \n",
    "    Point(int x, int y) {\n",
    "        this.x = x; // this는 객체 자신을 참조하므로 this.x는 멤버 변수 x를 의미\n",
    "        this.y = y; // this는 객체 자신을 참조하므로 this.y는 멤버 변수 y를 의미\n",
    "    }\n",
    "    \n",
    "    @Override\n",
    "    public String toString() {\n",
    "        // 같은 클래스의 안에서 인스턴스 멤버 변수 또는 메소드를 사용할 때는\n",
    "        // 이름 앞에 this.이 생략되어 있다고 생각하면 이해하기 쉽다\n",
    "        return \"(\"+ this.x + \",\" + this.y + \")\"; \n",
    "        // return \"(\"+ x + \",\" + y + \")\";\n",
    "    }\n",
    "}"
   ]
  },
  {
   "cell_type": "markdown",
   "id": "ef308a01-108b-4502-98d7-b714c68b400c",
   "metadata": {},
   "source": [
    "인스턴스 메소드에서 객체 자신을 참조"
   ]
  },
  {
   "cell_type": "code",
   "execution_count": 2,
   "id": "faed45df-d020-4feb-b599-366ab1496ab7",
   "metadata": {},
   "outputs": [
    {
     "name": "stdout",
     "output_type": "stream",
     "text": [
      "(1,1)\n"
     ]
    }
   ],
   "source": [
    "var p0 = new Point(1,1);\n",
    "\n",
    "System.out.println( p0 );"
   ]
  },
  {
   "cell_type": "code",
   "execution_count": 3,
   "id": "c92b40a3-d8d4-4d40-9752-acd68a396027",
   "metadata": {},
   "outputs": [
    {
     "data": {
      "text/plain": [
       "(4,5)"
      ]
     },
     "execution_count": 3,
     "metadata": {},
     "output_type": "execute_result"
    }
   ],
   "source": [
    "new Point(4,5)"
   ]
  },
  {
   "cell_type": "markdown",
   "id": "09cc84ac-c5e7-4251-83ac-47020d0cbdec",
   "metadata": {},
   "source": [
    "## `this`로 생성자 호출\n",
    "생성자에서 같은 클래스의 다른 생성자를 호출"
   ]
  },
  {
   "cell_type": "code",
   "execution_count": 4,
   "id": "601fdb9f-2b52-4886-9538-8d8bdecbbc8c",
   "metadata": {},
   "outputs": [],
   "source": [
    "class Point2D { // 2차원 좌표 (x,y)를 나타내는 클래스\n",
    "    int x;\n",
    "    int y;\n",
    "    \n",
    "    // // 생성자 호출은 new로 하는 건 맞는데 이러면 자기 자신이 아니라 새로운 별개의 Point2D 객체가 만들어진다\n",
    "    // Point2D() { new Point2D(1,1);  } // 디폴트(기본) 생성자가 (0,0)이 아닌 (1,1)을 만들게 하고 싶다\n",
    "    \n",
    "    Point2D() { this(1,1);  } // 디폴트(기본) 생성자가 (0,0)이 아닌 (1,1)을 만들게 하고 싶다\n",
    "    \n",
    "    Point2D(int x, int y) { this.x = x; this.y = y; }\n",
    "    \n",
    "    @Override\n",
    "    public String toString() { return \"(\"+ this.x + \",\" + this.y + \")\"; }\n",
    "}"
   ]
  },
  {
   "cell_type": "code",
   "execution_count": 5,
   "id": "790777e3-2fe1-472f-a485-17f3d3edcb4e",
   "metadata": {},
   "outputs": [
    {
     "data": {
      "text/plain": [
       "(3,4)"
      ]
     },
     "execution_count": 5,
     "metadata": {},
     "output_type": "execute_result"
    }
   ],
   "source": [
    "new Point2D(3,4)"
   ]
  },
  {
   "cell_type": "code",
   "execution_count": 6,
   "id": "fab5d3e9-4505-4909-a8fb-ff180a4187c1",
   "metadata": {},
   "outputs": [
    {
     "data": {
      "text/plain": [
       "(0,0)"
      ]
     },
     "execution_count": 6,
     "metadata": {},
     "output_type": "execute_result"
    }
   ],
   "source": [
    "new Point2D(0,0)"
   ]
  },
  {
   "cell_type": "code",
   "execution_count": 7,
   "id": "afb7fafe-593d-4aee-be7b-6899e006057d",
   "metadata": {},
   "outputs": [
    {
     "data": {
      "text/plain": [
       "(1,1)"
      ]
     },
     "execution_count": 7,
     "metadata": {},
     "output_type": "execute_result"
    }
   ],
   "source": [
    "new Point2D()"
   ]
  },
  {
   "cell_type": "markdown",
   "id": "9a666a38-e41b-4776-8b0b-5c0866300b32",
   "metadata": {},
   "source": [
    "---\n",
    "## 메소드에서 `this`를 리턴\n",
    "`this` 키워드(예약어)를 이럴 때 많이 활용하게 됩니다.\n",
    "\n",
    "이것도 자기 자신을 참조하는 기능인데 멤버 변수나 메소드가 아닌 this만 사용하는 형태로 따로 나중에 설명"
   ]
  },
  {
   "cell_type": "markdown",
   "id": "da5d0626-9247-4f4b-b0f4-2f3ad56da055",
   "metadata": {},
   "source": [
    "---\n",
    "## `super`로 상위 클래스 메소드 접근\n",
    "특히 오버라이드된 경우에 활용"
   ]
  },
  {
   "cell_type": "code",
   "execution_count": 8,
   "id": "0b8cecda-4971-4440-be94-4204de6bce37",
   "metadata": {},
   "outputs": [],
   "source": [
    "class A {\n",
    "    void move() { System.out.println(\"A move\"); }\n",
    "}\n",
    "\n",
    "class B extends A {\n",
    "    void move() {\n",
    "        // 실제로는 오버라이드하는 메소드 안에서 상위 클래스 메소드의 내용을 그대로 실행시킨 뒤에\n",
    "        // 추가적인 일만 정의해서 오버라이드 하고 싶은 경우에도 많이 이런 식으로 활용된다\n",
    "        super.move();\n",
    "\n",
    "        System.out.println(\"B move\");\n",
    "    }\n",
    "    \n",
    "    void f() {\n",
    "        super.move(); // 상위 클래스의 move 메소드 호출\n",
    "    }\n",
    "}"
   ]
  },
  {
   "cell_type": "code",
   "execution_count": 9,
   "id": "62143eeb-0aa4-457e-9b0a-e71d0de4d89d",
   "metadata": {},
   "outputs": [
    {
     "name": "stdout",
     "output_type": "stream",
     "text": [
      "A move\n"
     ]
    }
   ],
   "source": [
    "A a = new A();\n",
    "\n",
    "a.move();"
   ]
  },
  {
   "cell_type": "code",
   "execution_count": 10,
   "id": "93174c8a-7416-4262-a0af-d4dcbf399f29",
   "metadata": {},
   "outputs": [
    {
     "name": "stdout",
     "output_type": "stream",
     "text": [
      "A move\n",
      "B move\n"
     ]
    }
   ],
   "source": [
    "B b = new B();\n",
    "\n",
    "b.move();"
   ]
  },
  {
   "cell_type": "code",
   "execution_count": 11,
   "id": "85b056b4-de05-433b-a6ce-85460aad376c",
   "metadata": {},
   "outputs": [
    {
     "name": "stdout",
     "output_type": "stream",
     "text": [
      "A move\n",
      "B move\n"
     ]
    }
   ],
   "source": [
    "A a2 = new B();\n",
    "\n",
    "a2.move(); // 동적 타입에 따라 오버라이드된 메소드로 동작"
   ]
  },
  {
   "cell_type": "code",
   "execution_count": 12,
   "id": "4245dd10-d6ef-45b7-be3b-049e583495bb",
   "metadata": {},
   "outputs": [
    {
     "name": "stdout",
     "output_type": "stream",
     "text": [
      "A move\n"
     ]
    }
   ],
   "source": [
    "b.f();"
   ]
  },
  {
   "cell_type": "code",
   "execution_count": 13,
   "id": "fed1530f-3c60-4fd5-a3eb-c7403eaf179f",
   "metadata": {},
   "outputs": [
    {
     "ename": "CompilationException",
     "evalue": "",
     "output_type": "error",
     "traceback": [
      "\u001b[1m\u001b[30m|   \u001b[1m\u001b[30m\u001b[0m\u001b[1m\u001b[30m\u001b[41ma2.f\u001b[0m\u001b[1m\u001b[30m(); // 이건 왜 컴파일 에러일까?\u001b[0m",
      "\u001b[1m\u001b[31mcannot find symbol\u001b[0m",
      "\u001b[1m\u001b[31m  symbol:   method f()\u001b[0m",
      ""
     ]
    }
   ],
   "source": [
    "a2.f(); // 이건 왜 컴파일 에러일까?"
   ]
  },
  {
   "cell_type": "markdown",
   "id": "5d516028-a8ce-4eee-8115-3b48444c685a",
   "metadata": {},
   "source": [
    "## `super`로 상위 클래스 생성자 호출\n",
    "하위 클래스 생성자에서 상위 클래스 생성자 호출"
   ]
  },
  {
   "cell_type": "code",
   "execution_count": 14,
   "id": "7ef7f573-b634-434c-ab02-e0459bf397bc",
   "metadata": {},
   "outputs": [],
   "source": [
    "class Person {\n",
    "    String name;\n",
    "    int age;\n",
    "    \n",
    "    Person(String name, int age) {\n",
    "        this.name = name;\n",
    "        this.age = age;\n",
    "    }\n",
    "    \n",
    "    @Override\n",
    "    public String toString() { return \"name=\"+name+\", age=\"+age; }\n",
    "}"
   ]
  },
  {
   "cell_type": "code",
   "execution_count": 15,
   "id": "fc419f6b-3b38-4e6e-a900-e8aad2c94adf",
   "metadata": {},
   "outputs": [
    {
     "data": {
      "text/plain": [
       "name=홍길동, age=32"
      ]
     },
     "execution_count": 15,
     "metadata": {},
     "output_type": "execute_result"
    }
   ],
   "source": [
    "new Person(\"홍길동\",32);"
   ]
  },
  {
   "cell_type": "code",
   "execution_count": 16,
   "id": "ee8d0104-0531-4825-9e86-efc16d3a206d",
   "metadata": {},
   "outputs": [],
   "source": [
    "class Student extends Person {\n",
    "    String major; // 전공\n",
    "    int number;   // 학번\n",
    "    Student(String name, int age, String major, int number) {      \n",
    "        super(name, age);\n",
    "        this.major = major;\n",
    "        this.number = number;\n",
    "    }\n",
    "\n",
    "    @Override\n",
    "    public String toString() { return super.toString() + \", major=\"+major+\", number=\"+number; }\n",
    "}"
   ]
  },
  {
   "cell_type": "code",
   "execution_count": 17,
   "id": "5129b7d3-7804-40f3-8e56-8c3ce7c8da8e",
   "metadata": {},
   "outputs": [
    {
     "data": {
      "text/plain": [
       "name=김철수, age=23, major=컴퓨터공학, number=20190123"
      ]
     },
     "execution_count": 17,
     "metadata": {},
     "output_type": "execute_result"
    }
   ],
   "source": [
    "new Student(\"김철수\",23,\"컴퓨터공학\",20190123)"
   ]
  },
  {
   "cell_type": "markdown",
   "id": "c1114dde-e2f6-4094-ad1f-32a15f701457",
   "metadata": {},
   "source": [
    "---\n",
    "## 다운캐스팅\n",
    "\n",
    "업캐스팅이 있으니까 그 반대의 방향을 다운캐스팅\n",
    "- 업캐스팅: 자녀(하위) 클래스 타입에서 부모(상위) 클래스 타입 쪽으로 위쪽 방향 (묵시적 - 따로 뭘 안적어도 알아서 소리소문없이)\n",
    "    - 항상 잘 됨\n",
    "- 다운캐스팅: 부모(상위) 클래스 타입에서 자녀(하위) 클래스 타입 쪽으로 위쪽 방향 (명시적 - 어떤 타입으로 바꿀건지 표시해 줘야)\n",
    "    - 문제가 생길 수도 있음!!"
   ]
  },
  {
   "cell_type": "code",
   "execution_count": 18,
   "id": "78f4942e-9f73-4788-9612-4369ad207f9c",
   "metadata": {},
   "outputs": [],
   "source": [
    "Person p = new Student(\"김철수\",23,\"컴퓨터공학\",20190123); // 업캐스팅"
   ]
  },
  {
   "cell_type": "code",
   "execution_count": 19,
   "id": "6bf936b3-dbad-4a84-acdd-090814060e55",
   "metadata": {},
   "outputs": [],
   "source": [
    "Student s1 = new Student(\"김철수\",23,\"컴퓨터공학\",20190123);\n",
    "Person p1 = s1; // 업캐스팅\n",
    "\n",
    "Student s2 = (Student)p1; // 다운캐스팅"
   ]
  },
  {
   "cell_type": "markdown",
   "id": "ccfdf25c-53a4-4087-ad8c-f4edae4fe258",
   "metadata": {},
   "source": [
    "## `instaneof`로 다운캐스팅 가능한지 확인"
   ]
  },
  {
   "cell_type": "code",
   "execution_count": 20,
   "id": "3af93a3c-e20d-4d46-a57e-f1dabc01ce36",
   "metadata": {},
   "outputs": [
    {
     "ename": "EvalException",
     "evalue": "class REPL.$JShell$30$Person cannot be cast to class REPL.$JShell$32$Student (REPL.$JShell$30$Person and REPL.$JShell$32$Student are in unnamed module of loader jdk.jshell.execution.DefaultLoaderDelegate$RemoteClassLoader @28eaa59a)",
     "output_type": "error",
     "traceback": [
      "\u001b[1m\u001b[31m---------------------------------------------------------------------------\u001b[0m",
      "\u001b[1m\u001b[31mjava.lang.ClassCastException: class REPL.$JShell$30$Person cannot be cast to class REPL.$JShell$32$Student (REPL.$JShell$30$Person and REPL.$JShell$32$Student are in unnamed module of loader jdk.jshell.execution.DefaultLoaderDelegate$RemoteClassLoader @28eaa59a)\u001b[0m",
      "\u001b[1m\u001b[31m\tat .(#39:3)\u001b[0m"
     ]
    }
   ],
   "source": [
    "Person p3 = new Person(\"이영희\",45); // 학생이 아닌 그냥 사람\n",
    "\n",
    "Student s3 = (Student)p3; // 실행 오류가 나는 무리한 다운캐스팅"
   ]
  },
  {
   "cell_type": "code",
   "execution_count": 21,
   "id": "741d4eff-dcc9-47da-ac6d-031ceed537f4",
   "metadata": {},
   "outputs": [
    {
     "name": "stdout",
     "output_type": "stream",
     "text": [
      "p4 는 학생이 아닙니다!\n"
     ]
    }
   ],
   "source": [
    "// Person p4 = new Student(\"이영희\",45,\"영문학\",19951234);\n",
    "Person p4 = new Person(\"이영희\",45);\n",
    "\n",
    "Student s4;\n",
    "if (p4 instanceof Student) {\n",
    "    s4 = (Student)p4;\n",
    "} else {\n",
    "    System.out.println(\"p4 는 학생이 아닙니다!\");\n",
    "}"
   ]
  },
  {
   "cell_type": "code",
   "execution_count": null,
   "id": "93dd1268-1a79-4b5e-a1f4-ea225d17d2e4",
   "metadata": {},
   "outputs": [],
   "source": []
  }
 ],
 "metadata": {
  "kernelspec": {
   "display_name": "Java",
   "language": "java",
   "name": "java"
  },
  "language_info": {
   "codemirror_mode": "java",
   "file_extension": ".jshell",
   "mimetype": "text/x-java-source",
   "name": "Java",
   "pygments_lexer": "java",
   "version": "11.0.8+10-LTS"
  }
 },
 "nbformat": 4,
 "nbformat_minor": 5
}
