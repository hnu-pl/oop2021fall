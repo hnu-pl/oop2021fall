{
 "cells": [
  {
   "cell_type": "markdown",
   "id": "9bb783c9-7617-42d3-a437-d8f398739d3d",
   "metadata": {},
   "source": [
    "# 04주차 강의노트\n",
    "\n",
    "- 교재 05장과 06장 관련 내용들 (3주차에 안 다룬 것들)\n",
    "  - 생성자\n",
    "- equals, toString 등 참조타입 객체의 공통적인 메서드 "
   ]
  },
  {
   "cell_type": "markdown",
   "id": "2d9c918b-8520-4b1a-84d7-2465e098788b",
   "metadata": {},
   "source": [
    "---\n",
    "### 동전(Coin) 클래스의 equals 메소드\n",
    "\n",
    "동전의 속성 두가지\n",
    " - 액면가\n",
    " - 발행연도\n",
    " \n",
    "그러면 동전을 equals로 **내용이 같다**고 비교하는 개념은 정확히 뭘까?\n",
    "\n",
    "내가 어떤 내용을 중요하게 관심을 가지고 보느냐에 따라 다르게 정의할 수 있다! \n",
    " - 동전을 화폐 고유의 목적(지불 수단)으로 생각하면 액면가만 기준으로 비교해도 됨\n",
    " - 내 관심이 동전 수집이라면 액면가 뿐만 아니라 발행 연도도 중요해 진다!\n",
    "\n",
    "그러니까 같은 속성으로 이루어진/정의된 클래스라 하더라도 equals의 의미가 미리 딱 하나로 정해져 있지는 않다!\n",
    "\n",
    "같은 속성들로 정의된 클래스라도 `equals`를 활용 의도에 따라 다르게 정의할 수 있어야 ...\n",
    "\n",
    "그래서 Java의 경우에 `equals`의 기본 동작은 그냥 `==`랑 똑같이 해놨다.\n",
    "\n",
    "그래서 클래스를 정의하는 프로그래머가 필요에 따라 재정의(override)해야 함."
   ]
  },
  {
   "cell_type": "code",
   "execution_count": 1,
   "id": "6e76ecdc-e64e-450e-a9be-0e231da06f33",
   "metadata": {},
   "outputs": [],
   "source": [
    "class Coin {\n",
    "    int value; // 액면가\n",
    "    int year;  // 발행연도\n",
    "    \n",
    "    Coin(int v, int y) {\n",
    "        value = v;\n",
    "        year = y;\n",
    "    }\n",
    "    \n",
    "    /* // equals의 기본동작\n",
    "    public boolean equals(Object o) {\n",
    "        return this == o;\n",
    "    }\n",
    "    */\n",
    "    \n",
    "    /* // 동전을 화폐 고유의 목적(지불 수단)으로 생각하면 액면가만 기준으로 비교\n",
    "    public boolean equals(Object o) {\n",
    "        return value == ((Coin)o).value; // 액면가가 같은 동전끼리 equals가 성립하도록 정의\n",
    "    }\n",
    "    */\n",
    "    \n",
    "    // 내 관심이 동전 수집이라면 액면가 뿐만 아니라 발행 연도도\n",
    "    public boolean equals(Object o) {\n",
    "        return value == ((Coin)o).value\n",
    "            && year == ((Coin)o).year;\n",
    "    }\n",
    "}"
   ]
  },
  {
   "cell_type": "code",
   "execution_count": 2,
   "id": "600c2daa-7f21-46ff-af87-ae35c495e380",
   "metadata": {},
   "outputs": [
    {
     "data": {
      "text/plain": [
       "false"
      ]
     },
     "execution_count": 2,
     "metadata": {},
     "output_type": "execute_result"
    }
   ],
   "source": [
    "Coin c1 = new Coin(100,1999);\n",
    "/*\n",
    "Coin c1 = new Coin();\n",
    "c1.value = 100;\n",
    "c1.year = 1999;\n",
    "*/\n",
    "\n",
    "Coin c2 = new Coin(100,1999);\n",
    "/*\n",
    "Coin c2 = new Coin();\n",
    "c2.value = 100;\n",
    "c2.year = 1999;\n",
    "*/\n",
    "\n",
    "c1 == c2"
   ]
  },
  {
   "cell_type": "code",
   "execution_count": 3,
   "id": "ace793b5-f8b1-47f7-a4ca-555c781596a6",
   "metadata": {},
   "outputs": [
    {
     "data": {
      "text/plain": [
       "true"
      ]
     },
     "execution_count": 3,
     "metadata": {},
     "output_type": "execute_result"
    }
   ],
   "source": [
    "c1.equals(c2) // 같은 100원짜리 동전이네 그리고 발행 연도도 같았고"
   ]
  },
  {
   "cell_type": "code",
   "execution_count": 4,
   "id": "747c8278-e87f-412e-a649-19f13d4e1247",
   "metadata": {},
   "outputs": [
    {
     "data": {
      "text/plain": [
       "false"
      ]
     },
     "execution_count": 4,
     "metadata": {},
     "output_type": "execute_result"
    }
   ],
   "source": [
    "Coin c3 = new Coin(100,2010);\n",
    "/*\n",
    "Coin c3 = new Coin();\n",
    "c3.value = 100;\n",
    "c3.year = 2010;\n",
    "*/\n",
    "\n",
    "c1.equals(c3) // 발행 연도는 다르지만 같은 100원짜리 동전"
   ]
  },
  {
   "cell_type": "markdown",
   "id": "7aaecd37-bffe-49e3-b196-5532c1d43918",
   "metadata": {},
   "source": [
    "----\n",
    "### toString 메소드\n",
    "equals 처럼 기본적으로 클래스를 정의하면 제공되는 메소드.\n",
    "\n",
    "equals와 마찬가지로 기본적으로 제공되는 toString의 동작은 그다지 영양가 있는 정보가 아니기 때문에 재정의(override)해서 쓰는 경우가 많다. 특히나 equals를 재정의하는 상황이라면 toString도 알맞게 재정의하는 것이 좋다."
   ]
  },
  {
   "cell_type": "code",
   "execution_count": 5,
   "id": "22207443-8b9e-4fe9-9ab5-814a2c2c0796",
   "metadata": {},
   "outputs": [
    {
     "name": "stdout",
     "output_type": "stream",
     "text": [
      "hello world\n"
     ]
    }
   ],
   "source": [
    "System.out.println(\"hello world\") // 문자열 출력"
   ]
  },
  {
   "cell_type": "code",
   "execution_count": 6,
   "id": "a95be0fa-a836-4882-a205-650557826a3f",
   "metadata": {},
   "outputs": [
    {
     "name": "stdout",
     "output_type": "stream",
     "text": [
      "123\n"
     ]
    }
   ],
   "source": [
    "System.out.println(123) // 정수 출력"
   ]
  },
  {
   "cell_type": "code",
   "execution_count": 7,
   "id": "362f50bd-c5ee-470c-931c-645f1ab39657",
   "metadata": {},
   "outputs": [
    {
     "name": "stdout",
     "output_type": "stream",
     "text": [
      "REPL.$JShell$12$Coin@34994d6f\n"
     ]
    }
   ],
   "source": [
    "System.out.println(c3) // 레퍼런스 타입의 객체(오브젝트)도 출력 가능"
   ]
  },
  {
   "cell_type": "markdown",
   "id": "a1ea4424-8790-44f0-8abc-81375550d600",
   "metadata": {},
   "source": [
    "레퍼런스 타입의 객체가 출력 가능한 이유?\n",
    "- toString()의 메소드가 리턴하는 문자열을 출력하기 때문!"
   ]
  },
  {
   "cell_type": "code",
   "execution_count": 8,
   "id": "db314471-0dc4-4629-97e4-9290519f2bfc",
   "metadata": {},
   "outputs": [
    {
     "data": {
      "text/plain": [
       "REPL.$JShell$12$Coin@34994d6f"
      ]
     },
     "execution_count": 8,
     "metadata": {},
     "output_type": "execute_result"
    }
   ],
   "source": [
    "c3.toString()"
   ]
  },
  {
   "cell_type": "markdown",
   "id": "8c774cd0-9a4a-45bb-a337-cccbe4915897",
   "metadata": {},
   "source": [
    "레퍼런스 타입의 객체 `c3`를 `System.out.println`을 한다는 것은\n",
    "`c3.toString()`해서 나오는 문자열을 출력하도록 되어 있다. \n",
    "(두잇 자바 교재 p.151 관련 내용 참고)"
   ]
  },
  {
   "cell_type": "code",
   "execution_count": 9,
   "id": "832ee863-1e30-4aeb-8000-40182496d26e",
   "metadata": {},
   "outputs": [
    {
     "name": "stdout",
     "output_type": "stream",
     "text": [
      "REPL.$JShell$12$Coin@34994d6f\n"
     ]
    }
   ],
   "source": [
    "System.out.println( c3.toString() ) "
   ]
  },
  {
   "cell_type": "markdown",
   "id": "f35187b0-dabe-41bd-ae6a-b466a28aba5b",
   "metadata": {},
   "source": [
    "Coin클래스의 객체인 c3에 대해서 액면가나 발행연도 같은 내용을 보통 더 알고 싶다.\n",
    "그래서 toString을 재정의하면 원하는 내용을 출력하게 할 수 있다.\n",
    "\n",
    "앞의 지난 영상에서 작성한 코드와 헷갈리지 않기 위해서 Coin2라는 별도의 이름으로 클래스를 정의해서 toString을 재정의(override) 하겠다."
   ]
  },
  {
   "cell_type": "code",
   "execution_count": 10,
   "id": "79924bad-f19a-4958-869a-f2a8f621f243",
   "metadata": {},
   "outputs": [],
   "source": [
    "class Coin2 {\n",
    "    int value; // 액면가\n",
    "    int year;  // 발행연도\n",
    "    \n",
    "    Coin2(int v, int y) {\n",
    "        value = v;\n",
    "        year = y;\n",
    "    }\n",
    "    \n",
    "    // 내 관심이 동전 수집이라면 액면가 뿐만 아니라 발행 연도도\n",
    "    public boolean equals(Object o) {\n",
    "        return value == ((Coin)o).value\n",
    "            && year == ((Coin)o).year;\n",
    "    }\n",
    "    \n",
    "    public String toString() {\n",
    "        return \"액면가: \" + value + \", 발행연도: \" + year;\n",
    "    }\n",
    "}"
   ]
  },
  {
   "cell_type": "code",
   "execution_count": 11,
   "id": "3e24d894-06c1-4fcd-b3b9-0b1b228ffaab",
   "metadata": {},
   "outputs": [
    {
     "data": {
      "text/plain": [
       "11.0.8"
      ]
     },
     "execution_count": 11,
     "metadata": {},
     "output_type": "execute_result"
    }
   ],
   "source": [
    "// https://docs.oracle.com/ 에서 자바 버전에 맞는 문서를 검색\n",
    "System.getProperty(\"java.version\") // 자바 11 버전"
   ]
  },
  {
   "cell_type": "code",
   "execution_count": 12,
   "id": "725b7a2a-68c1-4f94-b2c1-1bfe8d5b56f3",
   "metadata": {},
   "outputs": [
    {
     "data": {
      "text/plain": [
       "153"
      ]
     },
     "execution_count": 12,
     "metadata": {},
     "output_type": "execute_result"
    }
   ],
   "source": [
    "// 정수를 String으로 변환하는 간단한 방법\n",
    "\"\" + 153"
   ]
  },
  {
   "cell_type": "code",
   "execution_count": 13,
   "id": "44d334d9-9e46-4b2f-9715-cc86ee0c3117",
   "metadata": {},
   "outputs": [],
   "source": [
    "// toString으로 재정의한 Coin2 클래스의 객체를 생성\n",
    "Coin2 c4 = new Coin2(500,2020);"
   ]
  },
  {
   "cell_type": "code",
   "execution_count": 14,
   "id": "780da108-73cd-49d2-b534-a00bce1c7b90",
   "metadata": {},
   "outputs": [
    {
     "data": {
      "text/plain": [
       "액면가: 500, 발행연도: 2020"
      ]
     },
     "execution_count": 14,
     "metadata": {},
     "output_type": "execute_result"
    }
   ],
   "source": [
    "c4 // 주피터 환경에서 출력되는 내용도 toString의 내용을 그대로 출력하는 경우가 대부분"
   ]
  },
  {
   "cell_type": "code",
   "execution_count": 15,
   "id": "80076d32-4fea-4bb3-a541-8095e2dd3be4",
   "metadata": {},
   "outputs": [
    {
     "data": {
      "text/plain": [
       "액면가: 500, 발행연도: 2020"
      ]
     },
     "execution_count": 15,
     "metadata": {},
     "output_type": "execute_result"
    }
   ],
   "source": [
    "c4.toString()"
   ]
  },
  {
   "cell_type": "code",
   "execution_count": 16,
   "id": "82d122b4-6769-470b-b933-d3692098664a",
   "metadata": {},
   "outputs": [
    {
     "name": "stdout",
     "output_type": "stream",
     "text": [
      "액면가: 500, 발행연도: 2020\n"
     ]
    }
   ],
   "source": [
    "System.out.println(c4)"
   ]
  },
  {
   "cell_type": "markdown",
   "id": "4a138fd1-44d9-407e-8d73-01314137af86",
   "metadata": {},
   "source": [
    "----\n",
    "### 생성자에 대해 조금 더\n",
    "- 어떤 클래스 `C`의 기본 생성자는 `new C()` 처럼 파라메터 없이 호출하는 생성자\n",
    "- 기본 생성자는 기본적으로 제공되지만 생성자를 직접 정의하기 시작하면 없어짐\n",
    "- 그래서 필요하다면 기본 생성자를 직접 정의하는 것이 가능"
   ]
  },
  {
   "cell_type": "code",
   "execution_count": 17,
   "id": "1a459037-c4ea-45ad-a993-e74e045016d0",
   "metadata": {},
   "outputs": [],
   "source": [
    "// 앞의 예제와 헷갈려서 꼬이지 않기 위해서 C라는 이름으로\n",
    "class C {\n",
    "    int value; // 액면가\n",
    "    int year;  // 발행연도\n",
    "    \n",
    "    // 내 관심이 동전 수집이라면 액면가 뿐만 아니라 발행 연도도\n",
    "    public boolean equals(Object o) {\n",
    "        // 참고로 이건 최대한 간단히 개념만 보여주기 위한거고\n",
    "        // 조금 더 까다롭게 신경써야 할 부분들이 있으므로\n",
    "        // 실제로는  equals를 이것보다 좀더 신경써서 작성해야 함!!! (교재)\n",
    "        return value == ((C)o).value\n",
    "            && year == ((C)o).year;\n",
    "    }\n",
    "    \n",
    "    public String toString() {\n",
    "        return \"액면가: \" + value + \", 발행연도: \" + year;\n",
    "    }\n",
    "}"
   ]
  },
  {
   "cell_type": "code",
   "execution_count": 18,
   "id": "d9d7c247-36cd-4e1d-8651-d62b76d7a8d6",
   "metadata": {},
   "outputs": [],
   "source": [
    "// 생성자를 전혀 정의하지 않은 C 클래스는 기본 생성자가 제공\n",
    "C c10 = new C();"
   ]
  },
  {
   "cell_type": "code",
   "execution_count": 19,
   "id": "cad97a2d-1d6c-45f3-a281-bdd4038e066e",
   "metadata": {},
   "outputs": [
    {
     "data": {
      "text/plain": [
       "액면가: 0, 발행연도: 0"
      ]
     },
     "execution_count": 19,
     "metadata": {},
     "output_type": "execute_result"
    }
   ],
   "source": [
    "c10 // 기본적으로 제공되는 기본 생성자는 모든 속성(멤버 변수를) 기본값으로 초기화"
   ]
  },
  {
   "cell_type": "code",
   "execution_count": 20,
   "id": "12569ffd-1c00-4415-885b-389a29f3979c",
   "metadata": {},
   "outputs": [
    {
     "name": "stdout",
     "output_type": "stream",
     "text": [
      "0\n"
     ]
    }
   ],
   "source": [
    "int v10; // 초기화되지 않은 int 변수 v10의 값을 실제로 알아보면\n",
    "\n",
    "System.out.println(v10)"
   ]
  },
  {
   "cell_type": "code",
   "execution_count": 21,
   "id": "e25511e7-e03e-47ab-8133-16b88527d159",
   "metadata": {},
   "outputs": [
    {
     "name": "stdout",
     "output_type": "stream",
     "text": [
      "null\n"
     ]
    }
   ],
   "source": [
    "// 참고로 레퍼런스 타입의 변수는 초기화하지 않으면 null로 초기화됨\n",
    "String s10; // 초기화 안한 String 변수 s10\n",
    "\n",
    "System.out.println(s10);"
   ]
  },
  {
   "cell_type": "code",
   "execution_count": 22,
   "id": "df015b6e-1c8e-4f66-a996-eb45d7856a25",
   "metadata": {},
   "outputs": [],
   "source": [
    "// 앞의 예제와 헷갈려서 꼬이지 않기 위해서 C2라는 이름으로\n",
    "class C2 {\n",
    "    int value; // 액면가\n",
    "    int year;  // 발행연도\n",
    "    \n",
    "    // 기본 생성자가 아닌 (즉 파라메터를 받는) 생성자를 직접 클래스 안에 정의 \n",
    "    C2(int v, int y) { value = v; year = y; }\n",
    "    \n",
    "    // 내 관심이 동전 수집이라면 액면가 뿐만 아니라 발행 연도도\n",
    "    public boolean equals(Object o) {\n",
    "        // 참고로 이건 최대한 간단히 개념만 보여주기 위한거고\n",
    "        // 조금 더 까다롭게 신경써야 할 부분들이 있으므로\n",
    "        // 실제로는  equals를 이것보다 좀더 신경써서 작성해야 함!!! (교재)\n",
    "        return value == ((C)o).value\n",
    "            && year == ((C)o).year;\n",
    "    }\n",
    "    \n",
    "    public String toString() {\n",
    "        return \"액면가: \" + value + \", 발행연도: \" + year;\n",
    "    }\n",
    "}"
   ]
  },
  {
   "cell_type": "code",
   "execution_count": 23,
   "id": "768e3bc7-ec95-4001-9f1b-b6347cca3a8c",
   "metadata": {},
   "outputs": [
    {
     "data": {
      "text/plain": [
       "액면가: 50, 발행연도: 1998"
      ]
     },
     "execution_count": 23,
     "metadata": {},
     "output_type": "execute_result"
    }
   ],
   "source": [
    "new C2(50,1998) // 직접 정의한 생성자로 객체를 만들 수 있다"
   ]
  },
  {
   "cell_type": "code",
   "execution_count": 24,
   "id": "20c7ccc1-41f6-4ed8-a4bb-6fa216ea8190",
   "metadata": {},
   "outputs": [
    {
     "ename": "CompilationException",
     "evalue": "",
     "output_type": "error",
     "traceback": [
      "\u001b[1m\u001b[30m|   \u001b[1m\u001b[30m\u001b[0m\u001b[1m\u001b[30m\u001b[41mnew C2()\u001b[0m\u001b[1m\u001b[30m // 기본 생성자는 사라지므로 더 이상 사용할 수 없다\u001b[0m",
      "\u001b[1m\u001b[31mconstructor C2 in class C2 cannot be applied to given types;\u001b[0m",
      "\u001b[1m\u001b[31m  required: int,int\u001b[0m",
      "\u001b[1m\u001b[31m  found: no arguments\u001b[0m",
      "\u001b[1m\u001b[31m  reason: actual and formal argument lists differ in length\u001b[0m",
      ""
     ]
    }
   ],
   "source": [
    "new C2() // 기본 생성자는 사라지므로 더 이상 사용할 수 없다"
   ]
  },
  {
   "cell_type": "code",
   "execution_count": 25,
   "id": "0035d097-b5ab-42ad-8415-91a3d7f5e26b",
   "metadata": {},
   "outputs": [],
   "source": [
    "// 앞의 예제와 헷갈려서 꼬이지 않기 위해서 C3라는 이름으로\n",
    "class C3 {\n",
    "    int value; // 액면가\n",
    "    int year;  // 발행연도\n",
    "    \n",
    "    // 기본 생성자가 아닌 (즉 파라메터를 받는) 생성자를 직접 클래스 안에 정의 \n",
    "    C3(int v, int y) { value = v; year = y; }\n",
    "    \n",
    "    // 기본 생성자를 올해 발행 10원 동전을 생성하도록 다시 정의하고 싶다면\n",
    "    C3() {\n",
    "        value = 10;\n",
    "        year = Calendar.getInstance().get(Calendar.YEAR);\n",
    "    }\n",
    "    \n",
    "    // 내 관심이 동전 수집이라면 액면가 뿐만 아니라 발행 연도도\n",
    "    public boolean equals(Object o) {\n",
    "        // 참고로 이건 최대한 간단히 개념만 보여주기 위한거고\n",
    "        // 조금 더 까다롭게 신경써야 할 부분들이 있으므로\n",
    "        // 실제로는  equals를 이것보다 좀더 신경써서 작성해야 함!!! (교재)\n",
    "        return value == ((C)o).value\n",
    "            && year == ((C)o).year;\n",
    "    }\n",
    "    \n",
    "    public String toString() {\n",
    "        return \"액면가: \" + value + \", 발행연도: \" + year;\n",
    "    }\n",
    "}"
   ]
  },
  {
   "cell_type": "code",
   "execution_count": 26,
   "id": "91daa9ee-e018-42ae-84b0-7a20045a9aa8",
   "metadata": {},
   "outputs": [
    {
     "data": {
      "text/plain": [
       "2021"
      ]
     },
     "execution_count": 26,
     "metadata": {},
     "output_type": "execute_result"
    }
   ],
   "source": [
    "// https://stackoverflow.com/questions/136419/get-integer-value-of-the-current-year-in-java\n",
    "Calendar.getInstance().get(Calendar.YEAR)"
   ]
  },
  {
   "cell_type": "code",
   "execution_count": 27,
   "id": "75120eaf-8da1-4954-8f0d-5c5d1392cba8",
   "metadata": {},
   "outputs": [
    {
     "data": {
      "text/plain": [
       "액면가: 10, 발행연도: 1995"
      ]
     },
     "execution_count": 27,
     "metadata": {},
     "output_type": "execute_result"
    }
   ],
   "source": [
    "new C3(10,1995) // 직접 정의한 생성자로 객체를 만들 수도 있고"
   ]
  },
  {
   "cell_type": "code",
   "execution_count": 28,
   "id": "d1d8a377-d7a0-4db4-99e6-7de69b672db7",
   "metadata": {},
   "outputs": [
    {
     "data": {
      "text/plain": [
       "액면가: 10, 발행연도: 2021"
      ]
     },
     "execution_count": 28,
     "metadata": {},
     "output_type": "execute_result"
    }
   ],
   "source": [
    "new C3() // 기본 생성자로도 객체를 만들 수 있음"
   ]
  },
  {
   "cell_type": "markdown",
   "id": "94c86cca-d8e0-4032-86cb-dacda721d5d4",
   "metadata": {},
   "source": [
    "참고로 C3의 생성자들은 오버로드(overload)되어 있다고 합니다."
   ]
  },
  {
   "cell_type": "code",
   "execution_count": null,
   "id": "b59354d0-d216-416b-9767-484eb7656530",
   "metadata": {},
   "outputs": [],
   "source": []
  }
 ],
 "metadata": {
  "kernelspec": {
   "display_name": "Java",
   "language": "java",
   "name": "java"
  },
  "language_info": {
   "codemirror_mode": "java",
   "file_extension": ".jshell",
   "mimetype": "text/x-java-source",
   "name": "Java",
   "pygments_lexer": "java",
   "version": "11.0.8+10-LTS"
  }
 },
 "nbformat": 4,
 "nbformat_minor": 5
}
