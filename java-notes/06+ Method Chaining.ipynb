{
 "cells": [
  {
   "cell_type": "markdown",
   "id": "762c1d19-49f4-4fc6-8f08-cf6f93ae2ff2",
   "metadata": {},
   "source": [
    "# Method Chaining\n",
    "명절을 맞아 20년도 민속놀이 장면을 하나 감상해 보자"
   ]
  },
  {
   "cell_type": "markdown",
   "id": "27bb6ad3-71c4-4f2d-8ffb-a853eba04c0e",
   "metadata": {},
   "source": [
    "![캐리어](https://i.imgur.com/wjB8g6N.gif)"
   ]
  },
  {
   "cell_type": "code",
   "execution_count": 1,
   "id": "103669e4-38bd-409e-9942-11fcf77ba55f",
   "metadata": {},
   "outputs": [],
   "source": [
    "class Missile {\n",
    "}\n",
    "\n",
    "class Intercepter { // 요격기\n",
    "     Missile launch() { return new Missile(); } // 미사일 발사\n",
    "}\n",
    "\n",
    "class Carrier { // 모함\n",
    "    Intercepter eject() { return new Intercepter(); } // 요격기 출격\n",
    "}\n",
    "\n",
    "class Stargate { // 우주관문: 공중(우주) 전투 부대 소환 장치\n",
    "    Carrier warpIn() { return new Carrier(); }    // 모함 소환\n",
    "}"
   ]
  },
  {
   "cell_type": "code",
   "execution_count": 2,
   "id": "15d78f62-6312-4118-af32-7082a4e73d79",
   "metadata": {},
   "outputs": [
    {
     "data": {
      "text/plain": [
       "REPL.$JShell$12$Missile@b146313"
      ]
     },
     "execution_count": 2,
     "metadata": {},
     "output_type": "execute_result"
    }
   ],
   "source": [
    "Stargate sg1 = new Stargate();\n",
    "Carrier carrier = sg1.warpIn(); // 모함을 하나 소환해서 carrier 변수에 대입\n",
    "Intercepter intercepter = carrier.eject(); // 요격기 하나 출격해서 intercepter 변수에 대입\n",
    "intercepter.launch() // 미사일 발사"
   ]
  },
  {
   "cell_type": "code",
   "execution_count": 3,
   "id": "af560bc4-ccd6-4727-ae87-647fb3b1ecbc",
   "metadata": {},
   "outputs": [
    {
     "data": {
      "text/plain": [
       "REPL.$JShell$12$Missile@1b815988"
      ]
     },
     "execution_count": 3,
     "metadata": {},
     "output_type": "execute_result"
    }
   ],
   "source": [
    "Stargate sg2 = new Stargate();\n",
    "// 위에서 carrier나 intercepter같은 변수로 다시 참조할 일이 없고 미사일만 발사하는 데만 관심이 있다면\n",
    "\n",
    "// 이런 식으로 연달아서 메소드 호출을 하는 것을 거창하게 있어보이는 말로 메소드 체이닝 이라고\n",
    "sg2.warpIn().eject().launch(); // 우주관문에서 모함을 소환해서, 그 모함에서 요격기 출격시키고, 그 요격기에서 미사일 발사!"
   ]
  },
  {
   "cell_type": "markdown",
   "id": "20f5f1ae-908c-4bb3-af56-8bceb857587a",
   "metadata": {},
   "source": [
    "<br>\n",
    "\n",
    "메소드 체이닝이과 비슷한 일을 우리는 초등학교 때부터 사실 하고 있었다.\n",
    "\n",
    "`1 + 2 + 3 + 4` 를 계산한다고 칠때\n",
    " - `1 + 2`를 해서 `x`에 3을 저장하고\n",
    " - `x + 3`을 해서 `y`에 6을 저장하고\n",
    " - `y + 4`를 해서 10을 구하지 않죠!\n",
    " \n",
    "물론 이렇게 중간값을 `x`나 `y`같은 변수로 각 단계마다 이름붙여 가면서 지정해도 되긴 한데 ... 굳이 그럴 필요 없죠 보통은\n",
    "\n",
    "이미 초등학교 때부터 이렇게 했죠\n",
    " - `1 + 2 + 3 + 4 = 3 + 3 + 4 = 6 + 4 = 10` 이러고 끝"
   ]
  },
  {
   "cell_type": "markdown",
   "id": "6adcdf40-7e43-4fd6-a6fb-e2e4ff8115f7",
   "metadata": {},
   "source": [
    "----\n",
    "## `this`를 리턴하는 메소드 체이닝\n",
    "\n",
    "메소드 체이닝은 한 클래스의 메소드로도 계속 진행이 가능"
   ]
  },
  {
   "cell_type": "code",
   "execution_count": 28,
   "id": "ce03f97b-abe9-4e90-b544-8f7a7a08d883",
   "metadata": {},
   "outputs": [],
   "source": [
    "class Point { // 2차원 좌표 위치\n",
    "    final int x; // 불변 속성\n",
    "    final int y; // 불변 속성\n",
    "    Point(int x, int y) { this.x = x; this.y = y; }\n",
    "    @Override public String toString() { return \"(\"+x+\",\"+y+\")\"; }\n",
    "    \n",
    "    Point move(int dx, int dy) { // 이런 식으로 객체의 내용을 변경하지 않는 메소드만 있는 경우 내용(멤버변수)를 불변으로\n",
    "        return new Point(x+dx, y+dy);\n",
    "    }\n",
    "}"
   ]
  },
  {
   "cell_type": "code",
   "execution_count": 29,
   "id": "2b0d28b6-5ecf-4254-ba3e-4bc72740847e",
   "metadata": {},
   "outputs": [],
   "source": [
    "Point p = new Point(1,1);"
   ]
  },
  {
   "cell_type": "code",
   "execution_count": 30,
   "id": "d40a0bf9-3250-42bc-8618-a2c6b1869cd6",
   "metadata": {},
   "outputs": [
    {
     "data": {
      "text/plain": [
       "(1,1)"
      ]
     },
     "execution_count": 30,
     "metadata": {},
     "output_type": "execute_result"
    }
   ],
   "source": [
    "p"
   ]
  },
  {
   "cell_type": "code",
   "execution_count": 31,
   "id": "e48f1176-c1bc-4d5d-a942-6056c0c0cd71",
   "metadata": {},
   "outputs": [
    {
     "data": {
      "text/plain": [
       "(4,6)"
      ]
     },
     "execution_count": 31,
     "metadata": {},
     "output_type": "execute_result"
    }
   ],
   "source": [
    "p.move(3,5)"
   ]
  },
  {
   "cell_type": "code",
   "execution_count": 32,
   "id": "63a6e55b-8ba0-47b2-8189-79b4b4493315",
   "metadata": {},
   "outputs": [
    {
     "data": {
      "text/plain": [
       "(14,26)"
      ]
     },
     "execution_count": 32,
     "metadata": {},
     "output_type": "execute_result"
    }
   ],
   "source": [
    "p.move(3,5).move(10,20)"
   ]
  },
  {
   "cell_type": "code",
   "execution_count": 33,
   "id": "60af41db-9126-4a98-a4b7-8ce3c38aecca",
   "metadata": {},
   "outputs": [
    {
     "data": {
      "text/plain": [
       "(10,20)"
      ]
     },
     "execution_count": 33,
     "metadata": {},
     "output_type": "execute_result"
    }
   ],
   "source": [
    "p.move(3,5).move(10,20).move(-4,-6)"
   ]
  },
  {
   "cell_type": "code",
   "execution_count": 34,
   "id": "a2c47886-b664-4fd9-94be-950c3ed55e1c",
   "metadata": {},
   "outputs": [
    {
     "data": {
      "text/plain": [
       "(1,1)"
      ]
     },
     "execution_count": 34,
     "metadata": {},
     "output_type": "execute_result"
    }
   ],
   "source": [
    "p"
   ]
  },
  {
   "cell_type": "markdown",
   "id": "075c08c9-f529-484f-8eeb-701642927a8b",
   "metadata": {},
   "source": [
    "<br>\n",
    "비슷하지만 move 메소드를 조금 다르게 정의한 클래스를 살펴보자."
   ]
  },
  {
   "cell_type": "code",
   "execution_count": 36,
   "id": "0c6fcb6f-9fd9-4c9c-8325-5e70aad4eb58",
   "metadata": {},
   "outputs": [],
   "source": [
    "class Point2 {\n",
    "    int x;\n",
    "    int y;\n",
    "    Point2(int x, int y) { this.x = x; this.y = y; }\n",
    "    @Override public String toString() { return \"(\"+x+\",\"+y+\")\"; }\n",
    "    \n",
    "    Point2 move(int dx, int dy) { // 객체의 내용(멤버변수)를 변경(다시 대입)할 경우에는 불변으로 하면 안됨\n",
    "        x += dx;\n",
    "        y += dy;\n",
    "        return this;\n",
    "    }\n",
    "}"
   ]
  },
  {
   "cell_type": "code",
   "execution_count": 18,
   "id": "b7d103a7-4e01-46e7-b68b-ade620b80af5",
   "metadata": {},
   "outputs": [],
   "source": [
    "Point2 p2 = new Point2(1,1);"
   ]
  },
  {
   "cell_type": "code",
   "execution_count": 19,
   "id": "1dc43544-bc5d-459c-b4bd-1488e48ddb48",
   "metadata": {},
   "outputs": [
    {
     "data": {
      "text/plain": [
       "(1,1)"
      ]
     },
     "execution_count": 19,
     "metadata": {},
     "output_type": "execute_result"
    }
   ],
   "source": [
    "p2"
   ]
  },
  {
   "cell_type": "code",
   "execution_count": 20,
   "id": "169f560e-4e29-45df-974b-8c974c604669",
   "metadata": {},
   "outputs": [
    {
     "data": {
      "text/plain": [
       "(4,6)"
      ]
     },
     "execution_count": 20,
     "metadata": {},
     "output_type": "execute_result"
    }
   ],
   "source": [
    "p2.move(3,5)"
   ]
  },
  {
   "cell_type": "code",
   "execution_count": 21,
   "id": "7b343d4d-d508-4bd6-a6c3-23273763861d",
   "metadata": {},
   "outputs": [
    {
     "data": {
      "text/plain": [
       "(4,6)"
      ]
     },
     "execution_count": 21,
     "metadata": {},
     "output_type": "execute_result"
    }
   ],
   "source": [
    "p2"
   ]
  },
  {
   "cell_type": "code",
   "execution_count": 23,
   "id": "5b97da0c-e2b2-4061-8cbb-2e7dd413e76a",
   "metadata": {},
   "outputs": [],
   "source": [
    "Point2 p3 = new Point2(1,1);"
   ]
  },
  {
   "cell_type": "code",
   "execution_count": 24,
   "id": "591915fd-f32e-4de8-a1b0-d75ee7e0be5d",
   "metadata": {},
   "outputs": [
    {
     "data": {
      "text/plain": [
       "(1,1)"
      ]
     },
     "execution_count": 24,
     "metadata": {},
     "output_type": "execute_result"
    }
   ],
   "source": [
    "p3"
   ]
  },
  {
   "cell_type": "code",
   "execution_count": 26,
   "id": "ddbc2ad7-6c49-4bf3-9a01-ce7acb527de1",
   "metadata": {},
   "outputs": [
    {
     "data": {
      "text/plain": [
       "(10,20)"
      ]
     },
     "execution_count": 26,
     "metadata": {},
     "output_type": "execute_result"
    }
   ],
   "source": [
    "p3.move(3,5).move(10,20).move(-4,-6)"
   ]
  },
  {
   "cell_type": "code",
   "execution_count": 27,
   "id": "9ff1ff00-2b61-4ac5-a726-4e2e3409b10f",
   "metadata": {},
   "outputs": [
    {
     "data": {
      "text/plain": [
       "(10,20)"
      ]
     },
     "execution_count": 27,
     "metadata": {},
     "output_type": "execute_result"
    }
   ],
   "source": [
    "p3"
   ]
  },
  {
   "cell_type": "code",
   "execution_count": null,
   "id": "1c64e072-eb57-4775-afd2-f7fd24d73d54",
   "metadata": {},
   "outputs": [],
   "source": []
  }
 ],
 "metadata": {
  "kernelspec": {
   "display_name": "Java",
   "language": "java",
   "name": "java"
  },
  "language_info": {
   "codemirror_mode": "java",
   "file_extension": ".jshell",
   "mimetype": "text/x-java-source",
   "name": "Java",
   "pygments_lexer": "java",
   "version": "11.0.8+10-LTS"
  }
 },
 "nbformat": 4,
 "nbformat_minor": 5
}
