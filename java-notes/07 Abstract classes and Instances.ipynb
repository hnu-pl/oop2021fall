{
 "cells": [
  {
   "cell_type": "markdown",
   "id": "77cd32f4-4a2a-41e5-b0d2-a498fa3ea484",
   "metadata": {},
   "source": [
    "# abstract classes and interfaces\n",
    "추상 클래스와 인터페이스"
   ]
  },
  {
   "cell_type": "code",
   "execution_count": null,
   "id": "1bef3343-5043-4877-8d97-597122671163",
   "metadata": {},
   "outputs": [],
   "source": []
  }
 ],
 "metadata": {
  "kernelspec": {
   "display_name": "Java",
   "language": "java",
   "name": "java"
  },
  "language_info": {
   "codemirror_mode": "java",
   "file_extension": ".jshell",
   "mimetype": "text/x-java-source",
   "name": "Java",
   "pygments_lexer": "java",
   "version": "11.0.8+10-LTS"
  }
 },
 "nbformat": 4,
 "nbformat_minor": 5
}
