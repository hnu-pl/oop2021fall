{
 "cells": [
  {
   "cell_type": "markdown",
   "id": "4ee79b42-6e0f-45e2-a667-fc5646a30423",
   "metadata": {},
   "source": [
    "# 03주차 강의노트\n",
    "\n",
    "수업 진행 목표\n",
    "- 교재 05장과 06장 관련 내용들\n",
    "- 지난 02주차 강의노트에서 기본타입, 참조타입 관련 내용 보충\n",
    "\n",
    "접근권한 등 다른 내용들은 책을 스스로 공부하세요."
   ]
  },
  {
   "cell_type": "markdown",
   "id": "f557094c-a3aa-46b0-9102-b2e5bccea3c9",
   "metadata": {},
   "source": [
    "---\n",
    "교재에는 객체 간 **협력**이라 표현하는데,\n",
    "객체 간 **대화**라고 이해하면 더 좋다.\n",
    "\n",
    "택시를 호출해 승객을 목적지까지 이동시키는 시나리오를 생각해 보자.\n",
    "\n",
    "- 택시야 여기로 와 - 호출(`call`) 메시지에는 승객의 위치를 제공\n",
    "  - 호출 메시지에 대한 택시의 동작은\n",
    "    - 택시는 승객의 위치로 이동\n",
    "      - 즉, 택시의 위치를 승객의 위치로 설정\n",
    "- 택시야 이제 탈께 - 탑승(`ride`) 메시지에는 승객 자신을 제공\n",
    "  - 탑승 메시지에 대한 택시의 동작은\n",
    "    - 택시가 승객의 목적지 위치로 이동하여\n",
    "      - 즉, 택시의 위치를 승객의 목적지 위치로 설정\n",
    "    - 승객을 목적지 위치에 내려줌\n",
    "      - 즉, 승객의 위치를 택시의 위치로 설정\n",
    "      \n",
    "위의 시나리오에서\n",
    " - 객체의 종류(클래스)는 2가지: 승객, 택시\n",
    " - 각 종류의 메시지를 그 메시지를 받아서 처리하는 클래스의 `메소드`(멤버 함수)로 정의\n",
    " - 위치와 같은 정보들은 각 클래스의 속성이므로 멤버 변수로 정의\n",
    "   - 승객은 두 개의 속성(현재 위치, 목적지)\n",
    "   - 택시는 한 개의 속성(현재 위치)"
   ]
  },
  {
   "cell_type": "code",
   "execution_count": 1,
   "id": "71244d96-c112-4a6e-8443-2198ca7a3654",
   "metadata": {},
   "outputs": [],
   "source": [
    "// 위치라는 것도 별도의 클래스로 모델링할 수도 있지만 그냥 간단하게 String으로 처리합시다\n",
    "\n",
    "class Passenger { // 승객이라는 개념을 나타내는 클래스\n",
    "    String loc;  // 현재 위치\n",
    "    String dest; // 목적지\n",
    "}\n",
    "\n",
    "class Taxi { // 택시라는 개념을 나타내는 클래스\n",
    "    String loc; // 현재 위치\n",
    "    \n",
    "    void call(String l) { // 승객의 위치 정보를 l을 통해 제공해야 함\n",
    "        loc = l; // 택시는 승객의 위치로 이동\n",
    "    }\n",
    "    void ride(Passenger p) { // 승객이라는 정보를 p를 통해 제공해야 함\n",
    "        loc = p.dest;  // 택시가 승객의 목적지 위치로 이동\n",
    "        p.loc = loc;   // 승객을 목적지 위치(즉 택시의 현재 위치)에 내려줌\n",
    "    }\n",
    "}\n",
    "\n",
    "// 객체지향 프로그래밍의 객체 모델링(객체의 종류, 속성, 상호작용) 단계까지 된것"
   ]
  },
  {
   "cell_type": "code",
   "execution_count": 2,
   "id": "e2dc62dd-4800-4c17-b9e4-9adbc6bb8162",
   "metadata": {},
   "outputs": [
    {
     "name": "stdout",
     "output_type": "stream",
     "text": [
      "호출 전\n",
      "p1의 현재 위치: 한남대\n",
      "t1의 현재 위치: 대덕구청\n",
      "호출 후 택시가 와서 탑승 직전\n",
      "p1의 현재 위치: 한남대\n",
      "t1의 현재 위치: 한남대\n",
      "탑승해 운행 후 목적지 도착해서\n",
      "p1의 현재 위치: 대전역\n",
      "t1의 현재 위치: 대전역\n"
     ]
    }
   ],
   "source": [
    "// 시나리오처럼 동작하는 프로그램을 작성하기 위해서는 클래스의 인스턴스인 객체를 생성해야 한다\n",
    "\n",
    "Passenger p1 = new Passenger(); // 승객 객체를 하나 생성해 p1이라는 이름으로 접근하자\n",
    "// 승객 p1의 속성 지정\n",
    "p1.loc = \"한남대\";\n",
    "p1.dest = \"대전역\";\n",
    "\n",
    "Taxi t1 = new Taxi(); // 택시 객체를 하나 생성해 t1이라는 이름으로 접근하자\n",
    "// 택시 t1의 속성 지정\n",
    "t1.loc = \"대덕구청\";\n",
    "\n",
    "\n",
    "///////////////////////////////////////////////////////////////\n",
    "System.out.println(\"호출 전\");\n",
    "System.out.println(\"p1의 현재 위치: \" + p1.loc);\n",
    "System.out.println(\"t1의 현재 위치: \" + t1.loc);\n",
    "\n",
    "t1.call( p1.loc ); // 택시 t1을 승객 p1의 위치로 호출\n",
    "\n",
    "System.out.println(\"호출 후 택시가 와서 탑승 직전\");\n",
    "System.out.println(\"p1의 현재 위치: \" + p1.loc);\n",
    "System.out.println(\"t1의 현재 위치: \" + t1.loc);\n",
    "\n",
    "t1.ride( p1 );     // 택시 t1에 승객 p1이 탑승해서 운행\n",
    "\n",
    "System.out.println(\"탑승해 운행 후 목적지 도착해서\");\n",
    "System.out.println(\"p1의 현재 위치: \" + p1.loc);\n",
    "System.out.println(\"t1의 현재 위치: \" + t1.loc);"
   ]
  },
  {
   "cell_type": "markdown",
   "id": "71018add-f8ea-4735-820c-d5a8c0c3994e",
   "metadata": {},
   "source": [
    "----\n",
    "#### 기본타입, 참조타입 관련 내용 보충\n",
    "\n",
    "기본타입은 내용이 같은지를 `==`로 비교\n",
    "\n",
    "참조타입은 내용이 아니라 같은 대상(오브젝트, 객체)인지 `==`로 비교\n",
    "\n",
    "하지만 참조타입의 객체들끼리 내용이 같은지 비교하고 싶을 때는? `equals` 메소드\n",
    "\n",
    "기본타입은 애초에 객체가 아니므로 메소드 메서드 그런 게 없죠.\n",
    "\n",
    "`equals` 메소드에 대해서는 교재의 11장에서도 설명"
   ]
  },
  {
   "cell_type": "code",
   "execution_count": 3,
   "id": "f13f29bf-2aa8-497d-83de-62ba6108fc9f",
   "metadata": {},
   "outputs": [],
   "source": [
    "// 실제로는 String은 new를 사용 안해도 되는 좀 유별난 타입이지만 일반적인 참조타입처럼 설명하기 위해\n",
    "String s1 = new String(\"고길동\"); // 둘리네 집 아저씨 고길동\n",
    "String s2 = new String(\"고길동\"); // 동명이인인 다른 동네의 고길동"
   ]
  },
  {
   "cell_type": "code",
   "execution_count": 4,
   "id": "d1e76fcb-7c0d-40df-934a-7ee50795e0d4",
   "metadata": {},
   "outputs": [
    {
     "data": {
      "text/plain": [
       "false"
      ]
     },
     "execution_count": 4,
     "metadata": {},
     "output_type": "execute_result"
    }
   ],
   "source": [
    "s1 == s2 // 내용은 어쩌다 같을지 모르지만 다른 오브젝트"
   ]
  },
  {
   "cell_type": "code",
   "execution_count": 5,
   "id": "65f4abf8-d38a-4303-b4c7-ccc335ac5293",
   "metadata": {},
   "outputs": [
    {
     "data": {
      "text/plain": [
       "true"
      ]
     },
     "execution_count": 5,
     "metadata": {},
     "output_type": "execute_result"
    }
   ],
   "source": [
    "s1.equals(s2)  // 다른 대상이지만 내용이 같은 경우"
   ]
  },
  {
   "cell_type": "code",
   "execution_count": 6,
   "id": "f9a3cb29-9039-4960-8ea9-9db0038dec00",
   "metadata": {},
   "outputs": [
    {
     "data": {
      "text/plain": [
       "true"
      ]
     },
     "execution_count": 6,
     "metadata": {},
     "output_type": "execute_result"
    }
   ],
   "source": [
    "s1.equals(s1) // 같은 대상이면 당연히 내용도 같음"
   ]
  },
  {
   "cell_type": "code",
   "execution_count": 7,
   "id": "d83cc03c-7748-4ea4-a70d-0f05c63bee9f",
   "metadata": {},
   "outputs": [
    {
     "data": {
      "text/plain": [
       "true"
      ]
     },
     "execution_count": 7,
     "metadata": {},
     "output_type": "execute_result"
    }
   ],
   "source": [
    "s2.equals(s2) // 같은 대상이면 당연히 내용도 같음"
   ]
  },
  {
   "cell_type": "markdown",
   "id": "ed720ff7-bd51-4ef0-899f-0d132777fd0f",
   "metadata": {},
   "source": [
    "예고편?!?! 방금 정의한 Passenger나 Taxi의 equals는 어떻게 되는 걸까?"
   ]
  },
  {
   "cell_type": "code",
   "execution_count": 8,
   "id": "eedfde6e-5cf1-48a8-98be-88b2e34b29db",
   "metadata": {},
   "outputs": [
    {
     "data": {
      "text/plain": [
       "true"
      ]
     },
     "execution_count": 8,
     "metadata": {},
     "output_type": "execute_result"
    }
   ],
   "source": [
    "Taxi t2 = new Taxi();\n",
    "t2.loc = \"대덕구청\";\n",
    "\n",
    "Taxi t3 = new Taxi();\n",
    "t3.loc = \"대덕구청\";\n",
    "\n",
    "t2.loc == t3.loc // t2와 t3의 유일한 속성 loc가 같다는 것을 확인"
   ]
  },
  {
   "cell_type": "code",
   "execution_count": 9,
   "id": "6c5238ba-ec2d-4d35-9984-a41a931297aa",
   "metadata": {},
   "outputs": [
    {
     "data": {
      "text/plain": [
       "true"
      ]
     },
     "execution_count": 9,
     "metadata": {},
     "output_type": "execute_result"
    }
   ],
   "source": [
    "( t2.loc ).equals( t3.loc ); // ==로도 같으니까 equals로도 당연히 같을 것"
   ]
  },
  {
   "cell_type": "code",
   "execution_count": 10,
   "id": "53edb99c-7edc-4f49-9a70-0a6798d3be48",
   "metadata": {},
   "outputs": [
    {
     "data": {
      "text/plain": [
       "false"
      ]
     },
     "execution_count": 10,
     "metadata": {},
     "output_type": "execute_result"
    }
   ],
   "source": [
    "t2 == t3 // 내용은 같지만 다른 객체"
   ]
  },
  {
   "cell_type": "code",
   "execution_count": 11,
   "id": "01312b09-52fc-4ee1-9162-4205e6b2a122",
   "metadata": {},
   "outputs": [
    {
     "data": {
      "text/plain": [
       "false"
      ]
     },
     "execution_count": 11,
     "metadata": {},
     "output_type": "execute_result"
    }
   ],
   "source": [
    "t2.equals( t3 ) // 내용이 같으니까 그럼 equals는 성립하겠지? 어라???? 아니네 이게 뭐지???"
   ]
  },
  {
   "cell_type": "markdown",
   "id": "54586172-0325-45cf-95a6-616e231c7d44",
   "metadata": {},
   "source": [
    "----\n",
    "## 03주차 실습 가이드라인\n",
    "교재에서 학생 클래스를 getter, setter를 활용하도록 변경한 것처럼 Passenger와 Taxi도 변경해보기.\n",
    "- 멤버 변수를 private으로\n",
    "- getLoc, setLoc, getDest, setDest 메소드 작성\n",
    "- 기존에 작성된 코드도 그에 맞게 변경"
   ]
  },
  {
   "cell_type": "code",
   "execution_count": null,
   "id": "99c7d8e1-ae94-456c-899b-70a6b5727dd7",
   "metadata": {},
   "outputs": [],
   "source": []
  }
 ],
 "metadata": {
  "kernelspec": {
   "display_name": "Java",
   "language": "java",
   "name": "java"
  },
  "language_info": {
   "codemirror_mode": "java",
   "file_extension": ".jshell",
   "mimetype": "text/x-java-source",
   "name": "Java",
   "pygments_lexer": "java",
   "version": "11.0.8+10-LTS"
  }
 },
 "nbformat": 4,
 "nbformat_minor": 5
}
