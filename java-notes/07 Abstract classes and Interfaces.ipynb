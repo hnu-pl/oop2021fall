{
 "cells": [
  {
   "cell_type": "markdown",
   "metadata": {},
   "source": [
    "# Abstract classes and Interfaces\n",
    "추상 클래스와 인터페이스"
   ]
  },
  {
   "cell_type": "markdown",
   "metadata": {},
   "source": [
    "---\n",
    "## Abstract classes\n",
    "추상 클래스는 계층구조를 잡기 위해서만 정의된 클래스로\n",
    " - `abstract` 키워드를 사용\n",
    " - 직접 new로 생성자를 호출해 객체를 만들 수 없다 (인터페이스와 마찬가지)\n",
    " - 추상클래스의 특징\n",
    "   - 멤버변수와 생성자를 정의할 수 있음!!! (인터페이 차이점)\n",
    "   - 추상메소드(내용이 정의되지 않은 메소드)를 선언할 수 있음\n",
    "     - 이것은 인터페이스와 마찬가지임\n",
    "   - 내용이 있는 메소드도 정의 가능하긴 함 (인터페이스도 최근 자바 버전에서는 디폴트 메소드 정의 가능)\n",
    "     - 템플릿 메소드: 추상클래스에서 내용이 있는 메소드를 유용하게 활용하는 방식 (교재에서 찾아보기)\n",
    "\n",
    "```\n",
    "   포유류\n",
    "     |\n",
    "    개\n",
    "   /  \\\n",
    "푸들   시바\n",
    "```\n",
    "\n",
    "쫑쫑이(푸들), 해피(시바), 토토(그냥 개 잡종? 잘 모름)"
   ]
  },
  {
   "cell_type": "code",
   "execution_count": 1,
   "metadata": {},
   "outputs": [],
   "source": [
    "abstract class Mammal { // 포유류 추상 클래스\n",
    "    int lifeSpan; // 수명\n",
    "    Mammal(int lifeSpan) { this.lifeSpan = lifeSpan; }\n",
    "}\n",
    "\n",
    "class Dog extends Mammal {\n",
    "    Dog() { super(13); } // 개의 수명은 대략 13년\n",
    "}\n",
    "\n",
    "class Poodle extends Dog {\n",
    "}\n",
    "\n",
    "class Shiba extends Dog {\n",
    "}"
   ]
  },
  {
   "cell_type": "code",
   "execution_count": 2,
   "metadata": {},
   "outputs": [],
   "source": [
    "Dog 쫑쫑이 = new Poodle();"
   ]
  },
  {
   "cell_type": "code",
   "execution_count": 3,
   "metadata": {},
   "outputs": [],
   "source": [
    "Dog 해피 = new Shiba();"
   ]
  },
  {
   "cell_type": "code",
   "execution_count": 4,
   "metadata": {},
   "outputs": [],
   "source": [
    "Dog 개 = new Dog();"
   ]
  },
  {
   "cell_type": "code",
   "execution_count": 5,
   "metadata": {},
   "outputs": [
    {
     "ename": "CompilationException",
     "evalue": "",
     "output_type": "error",
     "traceback": [
      "\u001b[1m\u001b[30m|   \u001b[1m\u001b[30mMammal m = \u001b[0m\u001b[1m\u001b[30m\u001b[41mnew Mammal()\u001b[0m\u001b[1m\u001b[30m; // 추상적인 포유류를 직접 new로 Mammal의 생성자를 부르는 건 이상\u001b[0m",
      "\u001b[1m\u001b[31mMammal is abstract; cannot be instantiated\u001b[0m",
      ""
     ]
    }
   ],
   "source": [
    "Mammal m = new Mammal(); // 추상적인 포유류를 직접 new로 Mammal의 생성자를 부르는 건 이상"
   ]
  },
  {
   "cell_type": "markdown",
   "metadata": {},
   "source": [
    "----\n",
    "## Interfaces\n",
    "\n",
    "박쥐는 조류가 아닌 포유류이다. 그런데 조류인 갈매기럼 박쥐도 날개로 나는 동작을 한다.\n",
    "\n",
    "생물 분류도를 따라 대략 다음과 같은 클래스 계층 구조로 표시해 볼 수 있다. 끝에 C자를 붙인 것은 클래스임을 나타내기 위해서이다.\n",
    "```\n",
    "    척추동물C\n",
    "   /      \\\n",
    " 조류C    포유류C\n",
    "  |        |\n",
    "갈매기C    박쥐C\n",
    "```"
   ]
  },
  {
   "cell_type": "code",
   "execution_count": 6,
   "metadata": {},
   "outputs": [],
   "source": [
    "abstract class Vertebrete { // 척추동물 클래스\n",
    "}\n",
    "\n",
    "abstract class Aves // 조류 클래스\n",
    "    extends Vertebrete {\n",
    "}\n",
    "\n",
    "class Seagull // 갈매기 클래스\n",
    "    extends Aves {\n",
    "}\n",
    "\n",
    "abstract class Mammal  // 포유류 클래스\n",
    "    extends Vertebrete {\n",
    "}\n",
    "\n",
    "class Bat // 박쥐 클래스\n",
    "    extends Mammal {\n",
    "}"
   ]
  },
  {
   "cell_type": "markdown",
   "metadata": {},
   "source": [
    "\n",
    "그런데 난다(fly)는 메소드는 어디에 배치하는 것이 좋을까?\n",
    "\n",
    "대부분의 조류가 날 수 있기 때문에 일단 조류에 배치하는 것은 적절하다.\n",
    "타조, 펭귄 등 일부 날지 못하는 새의 경우에 한해서만 예외를 발생시키도록 오버라이딩하면 된다.\n",
    "\n",
    "하지만 조류가 아닌 포유류 중에도 박쥐는 날개로 날 수 있는 동물이다. \n",
    "물론 조류의 fly 메소드와는 별도로 이름만 같은 fly 메소드를 박쥐 클래스에 작성할 수는 있다.\n",
    "하지만 그렇게 할 경우 갈매기 등의 조류와 박쥐를 일괄적으로 처리하면서 fly를 동적 바인딩할 수가 없다.\n",
    "날개로 날 수 있는 동물로만 이루어진 데이터 구조를 순회하며 fly 메소드를 호출한다던가 하는 방식의 Java 프로그램을 작성하기 곤란하다는 말이다.\n",
    "\n",
    "그렇다고 조류와 박쥐를 포함하는 포유류의 공통 상위 클래스인 척추동물에 fly 메소드를 두게 설계하는 것은 무리다.\n",
    "조류처럼 대부분 다 날 수 있는 동물 분류도 있겠지만 척추동물 중에는 헤엄치지 못하는 종들이 상당히 많기 때문이다.\n",
    "특히 포유류의 경우 날지 못하는 동물이 대부분이다.\n",
    "\n",
    "이렇게 이미 설계된 계층구조의 분류를 따르지 않지만 공통점이 있는 다른 특징(주로 공통적인 동작/상호작용 등)을\n",
    "Java와 같은 언어에서는 **인터페이스**로 표현한다.\n",
    "난다(fly)는 메소드를 가진 인터페이스를 `난다I`라고 부르기로 한다면,\n",
    "앞서 클래스 계층 구조에서 조류 클래스와 박쥐 클래스가 `난다I`를 구현한다는 설계까지 포함해 아래와 같이 나타낼 수 있다.\n",
    "\n",
    "```\n",
    "           척추동물C\n",
    "난다I.      /     \\\n",
    "      `.조류C    포유류C\n",
    "         |        |     .난다I\n",
    "       갈매기C    박쥐C.'\n",
    "```\n",
    "\n",
    "어떤 클래스가 상위(부모) 클래스의 특징을 물려받는다는 의미의 *클래스 상속*을 `extends`라는 키워드로 표현하는 것을 지금까지 다룬 예제에서도 보았다.\n",
    "그림으로 나타낼 때 주로 실선 또는 실선으로 된 화살표로 클래스 상속 관계를 표현한다.\n",
    "\n",
    "어떤 클래스가 인터페이스의 특징을 만족한다 의미의 *인터페이스 구현*은 `implements`라는 키워드로 표현한다.\n",
    "그림으로 나타낼 때 주로 점선 또는 점선으로 된 화살표로 인터페이스 구현 관계를 표현한다.\n",
    "*인터페이스 구현* 대신 *인터페이스 상속*이라고 말하는 경우도 있다."
   ]
  },
  {
   "cell_type": "code",
   "execution_count": 7,
   "metadata": {},
   "outputs": [],
   "source": [
    "interface Flying { // 날아다니는 동물에 대한 인터페이스\n",
    "    public void fly ();\n",
    "}\n",
    "\n",
    "abstract class Vertebrete { // 척추동물 클래스\n",
    "}\n",
    "\n",
    "abstract class Aves  // 조류 클래스\n",
    "    extends Vertebrete\n",
    "    implements Flying {\n",
    "    \n",
    "    @Override\n",
    "    public void fly() { System.out.println(\"푸드덕! 푸드덕!\"); }\n",
    "}\n",
    "\n",
    "class Seagull // 갈매기 클래스\n",
    "    extends Aves {\n",
    "}\n",
    "\n",
    "abstract class Mammal  // 포유류 클래스\n",
    "    extends Vertebrete {\n",
    "}\n",
    "\n",
    "class Bat // 박쥐 클래스\n",
    "    extends Mammal\n",
    "    implements Flying {\n",
    "\n",
    "    @Override\n",
    "    public void fly() { System.out.println(\"바드덕? 바드덕?\"); }\n",
    "}"
   ]
  },
  {
   "cell_type": "code",
   "execution_count": 8,
   "metadata": {},
   "outputs": [
    {
     "name": "stdout",
     "output_type": "stream",
     "text": [
      "푸드덕! 푸드덕!\n",
      "바드덕? 바드덕?\n",
      "푸드덕! 푸드덕!\n"
     ]
    }
   ],
   "source": [
    "// Flying 인터페이스를 구현하는 오브젝트로 이루어진 배열 animals 정의\n",
    "Flying[] animals = { new Seagull(), new Bat(), new Seagull() };\n",
    "\n",
    "for (Flying a : animals) a.fly();"
   ]
  },
  {
   "cell_type": "markdown",
   "metadata": {},
   "source": [
    "Java는 여러 하나의 클래스가 여러 부모 클래스의 특징을 한꺼번에 물려받는 *다중 클래스 상속*(multiple class inheritance)을 허용하지 않으므로 인터페이스가 매우 요긴하게 활용된다.\n",
    "참고로 클래스와 달리 인터페이스의 경우는 하나의 클래스가 여러 인터페이스의 특징을 동시에 만족하는 *다중 인터페이스 구현*(multiple interface implementation)이 가능하다.\n",
    "예를 들면 알을 낳는 동물의 특징을 `산란I`라는 인터페이스를 통해 나타낸다면 `조류C`의 경우 `난다I`와 `산란I` 인터페이스를 동시에 구현하도록 설계할 수 있다는 말이다.\n",
    "위의 그림에 `산란I`클래스와 포유류 중에 특이하게 알을 낳는 오리너구리에 대한 클래스를 추가한 계층구조를 아래와 같은 그림으로 나타내 보았다."
   ]
  },
  {
   "cell_type": "markdown",
   "metadata": {},
   "source": [
    "```\n",
    "                   _ 척추동물C _\n",
    "                 _/            \\_\n",
    "난다I,산란I.     /                 \\\n",
    "           `.조류C               포유류C\n",
    "             /        난다I.    /     \\          .산란I\n",
    "         갈매기C            `.박쥐C    오리너구리C.'\n",
    "```"
   ]
  },
  {
   "cell_type": "code",
   "execution_count": 9,
   "metadata": {},
   "outputs": [],
   "source": [
    "interface Flying { // 날아다니는 동물에 대한 인터페이스\n",
    "    public void fly ();\n",
    "}\n",
    "\n",
    "interface EggLaying { // 알을 낳는 동물에 대한 인터페이스\n",
    "    public void layEggs ();\n",
    "}\n",
    "\n",
    "class Vertebrete { // 척추동물 클래스\n",
    "}\n",
    "\n",
    "class Aves  // 조류 클래스\n",
    "    extends Vertebrete\n",
    "    implements Flying, EggLaying { // 다중 인터페이 구현 가능\n",
    "    \n",
    "    @Override\n",
    "    public void fly() { System.out.println(\"푸드덕! 푸드덕!\"); }\n",
    "    \n",
    "    @Override\n",
    "    public void layEggs() { System.out.println(\"새알 퐁퐁\"); }\n",
    "}\n",
    "\n",
    "class Seagull  // 갈매기 클래스\n",
    "    extends Aves {\n",
    "}\n",
    "\n",
    "class Mammal  // 포유류 클래스\n",
    "    extends Vertebrete {\n",
    "}\n",
    "\n",
    "class Bat  // 박쥐 클래스\n",
    "    extends Mammal\n",
    "    implements Flying {\n",
    "\n",
    "    @Override\n",
    "    public void fly() { System.out.println(\"바드덕? 바드덕?\"); }\n",
    "}\n",
    "\n",
    "class Duckbill  // 오리너구리 클래스\n",
    "    extends Mammal\n",
    "    implements EggLaying {\n",
    "    \n",
    "    @Override\n",
    "    public void layEggs() { System.out.println(\"오리너구리 퐁퐁\"); }\n",
    "}"
   ]
  },
  {
   "cell_type": "code",
   "execution_count": 10,
   "metadata": {},
   "outputs": [
    {
     "name": "stdout",
     "output_type": "stream",
     "text": [
      "푸드덕! 푸드덕!\n",
      "바드덕? 바드덕?\n",
      "푸드덕! 푸드덕!\n"
     ]
    }
   ],
   "source": [
    "// Flying 인터페이스를 구현하는 오브젝트로 이루어 배열 fanimals 정의\n",
    "Flying[] fanimals = { new Seagull(), new Bat(), new Seagull() };\n",
    "\n",
    "for (var a : fanimals) a.fly();"
   ]
  },
  {
   "cell_type": "code",
   "execution_count": 11,
   "metadata": {},
   "outputs": [
    {
     "name": "stdout",
     "output_type": "stream",
     "text": [
      "새알 퐁퐁\n",
      "오리너구리 퐁퐁\n",
      "새알 퐁퐁\n"
     ]
    }
   ],
   "source": [
    "// EggLaying 인터페이스를 구현하는 오브젝트로 이루어진 배열 fanimals 정의\n",
    "EggLaying[] eanimals = { new Seagull(), new Duckbill(), new Seagull() };\n",
    "\n",
    "for (var a : eanimals) a.layEggs();"
   ]
  },
  {
   "cell_type": "markdown",
   "metadata": {},
   "source": [
    "## Interface heirarchy\n",
    "\n",
    "인터페이스도 계층 구조를 이루도록 설계할 수 있다.\n",
    "\n",
    "Java에서 클래스는 다중 상속이 되지 않는 반면 인터페이스는 다중상속이 가능하다."
   ]
  },
  {
   "cell_type": "code",
   "execution_count": 12,
   "metadata": {},
   "outputs": [],
   "source": [
    "interface Gasoline {\n",
    "    void reFuel(); // 주유구에 연료 주유\n",
    "}\n",
    "\n",
    "interface Electric {\n",
    "    void reCharge(); // 충전구에 전기 충전\n",
    "}\n",
    "\n",
    "interface PluginHybrid // 충전구, 주유규 둘다 있는 인터페이스\n",
    "    extends Gasoline, Electric {\n",
    "}"
   ]
  },
  {
   "cell_type": "code",
   "execution_count": null,
   "metadata": {},
   "outputs": [],
   "source": []
  }
 ],
 "metadata": {
  "kernelspec": {
   "display_name": "Java",
   "language": "java",
   "name": "java"
  },
  "language_info": {
   "codemirror_mode": "java",
   "file_extension": ".jshell",
   "mimetype": "text/x-java-source",
   "name": "Java",
   "pygments_lexer": "java",
   "version": "11.0.8+10-LTS"
  }
 },
 "nbformat": 4,
 "nbformat_minor": 4
}
