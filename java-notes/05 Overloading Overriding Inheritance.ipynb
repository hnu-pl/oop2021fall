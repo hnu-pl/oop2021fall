{
 "cells": [
  {
   "cell_type": "markdown",
   "id": "b7ea3ae6-6081-463c-b88d-837d66b25cdd",
   "metadata": {},
   "source": [
    "# Overloading, Overriding, Inheritance\n",
    "\n",
    "오버로딩, 오버라이딩, 상속"
   ]
  },
  {
   "cell_type": "markdown",
   "id": "216fbaed-3798-4242-83ee-01123a856d7c",
   "metadata": {},
   "source": [
    "---\n",
    "## Overloading\n",
    "OOP와 직접적으로 관련있는 그런 기능은 아니지만 대부분의 객체지향프로그래밍 언어에서 지원하는 기능\n",
    "\n",
    "비슷하지만 조금씩 다른 작업을 수행하는 여러 함수를 같은 이름으로 여러 개 정의\n",
    "- 요즘 대부분의 많이 쓰는 프로그래밍 언어들은 오버로딩을 지원 (지금은 너무 당연하고 익숙한 프로그래밍언어 기능)\n",
    "- 보통(?) 아니 구태의연한(?) 혹은 기능이 단순한 언어의 경우 하나의 이름으로 하나의 함수만 정의 가능\n",
    "\n",
    "\n",
    "오버로드된 함수들끼리는 함수들은 파라메터의 개수나 타입이 서로 다르다\n",
    "\n",
    "- println - Java SDK 11에서 찾아보면 10개나 오버로드 되어 있음\n",
    "- max - Java SDK 11에서 찾아보면 4개 오버로드 되어 있음\n",
    "- 생성자\n",
    "\n",
    "\n",
    "Java에서 같은 이름의 함수라는 거는 패키지/클래스 까지 포함해서 이야기하는 것!!\n",
    "- 같은 패키지/클래스 C안에서 같은 이름의 함수(메서드) f가 여러 개 정의되어 있으면 오버로딩\n",
    "- 다른 패키지/클래스의 같은 이름의 함수(메서드) f는 오버로딩 X 그냥 별개의 함수\n",
    "\n",
    "```\n",
    "class C1 {\n",
    "    void f() { }        // 여기 이 C1 클래스의 f 메서드\n",
    "    void f(int x) { }   // 두개끼리는 오버로딩 맞죠\n",
    "}\n",
    "\n",
    "class C2 {\n",
    "    void f(double d) { }  // 이거는 C1 클래스의 f 메서드랑은 별개\n",
    "}\n",
    "```\n",
    "\n",
    "\n"
   ]
  },
  {
   "cell_type": "code",
   "execution_count": 1,
   "id": "04fb4caa-0ff1-4006-8c02-a0d7b14266f8",
   "metadata": {},
   "outputs": [
    {
     "name": "stdout",
     "output_type": "stream",
     "text": [
      "36\n"
     ]
    }
   ],
   "source": [
    "System.out.println(36) // int 출력"
   ]
  },
  {
   "cell_type": "code",
   "execution_count": 2,
   "id": "6cede7e3-968f-4858-93fe-f5e71709a1da",
   "metadata": {},
   "outputs": [
    {
     "name": "stdout",
     "output_type": "stream",
     "text": [
      "a\n"
     ]
    }
   ],
   "source": [
    "System.out.println('a') // char 출력"
   ]
  },
  {
   "cell_type": "code",
   "execution_count": 3,
   "id": "49a94429-cf94-408f-a52e-79219fc5d616",
   "metadata": {},
   "outputs": [
    {
     "name": "stdout",
     "output_type": "stream",
     "text": [
      "hello\n"
     ]
    }
   ],
   "source": [
    "System.out.println(\"hello\") // String 출력"
   ]
  },
  {
   "cell_type": "code",
   "execution_count": 4,
   "id": "64b87095-6e29-410a-bbe1-113f24ff1a14",
   "metadata": {},
   "outputs": [
    {
     "name": "stdout",
     "output_type": "stream",
     "text": [
      "REPL.$JShell$15$C@41eaf9e7\n"
     ]
    }
   ],
   "source": [
    "class C { }\n",
    "\n",
    "C c = new C(); // 객체 생성\n",
    "\n",
    "System.out.println(c) // 객체(Object) 출력"
   ]
  },
  {
   "cell_type": "code",
   "execution_count": 5,
   "id": "4f75306c-f892-46a9-88ac-4b0774da413c",
   "metadata": {},
   "outputs": [
    {
     "data": {
      "text/plain": [
       "30"
      ]
     },
     "execution_count": 5,
     "metadata": {},
     "output_type": "execute_result"
    }
   ],
   "source": [
    "Math.max(30,27) // 두 int 값 중에 큰 값"
   ]
  },
  {
   "cell_type": "code",
   "execution_count": 6,
   "id": "9e7e996a-581b-484e-88ee-4b901deb238c",
   "metadata": {},
   "outputs": [
    {
     "data": {
      "text/plain": [
       "3.14"
      ]
     },
     "execution_count": 6,
     "metadata": {},
     "output_type": "execute_result"
    }
   ],
   "source": [
    "Math.max(2.15, 3.14) // 두 double 값 중에 큰 값"
   ]
  },
  {
   "cell_type": "code",
   "execution_count": 7,
   "id": "64b64402-9c24-4428-864f-d9061e33baf5",
   "metadata": {},
   "outputs": [],
   "source": [
    "// 04주차에 다뤘던 예제\n",
    "class C3 {\n",
    "    int value; // 액면가\n",
    "    int year;  // 발행연도\n",
    "    \n",
    "    // 기본 생성자가 아닌 (즉 파라메터를 받는) 생성자를 직접 클래스 안에 정의 \n",
    "    C3(int v, int y) { value = v; year = y; }\n",
    "    \n",
    "    // 기본 생성자를 올해 발행 10원 동전을 생성하도록 다시 정의하고 싶다면\n",
    "    C3() {\n",
    "        value = 10;\n",
    "        year = Calendar.getInstance().get(Calendar.YEAR);\n",
    "    }\n",
    "    \n",
    "    // 내 관심이 동전 수집이라면 액면가 뿐만 아니라 발행 연도도\n",
    "    public boolean equals(Object o) {\n",
    "        // 참고로 이건 최대한 간단히 개념만 보여주기 위한거고\n",
    "        // 조금 더 까다롭게 신경써야 할 부분들이 있으므로\n",
    "        // 실제로는  equals를 이것보다 좀더 신경써서 작성해야 함!!! (교재)\n",
    "        return value == ((C)o).value\n",
    "            && year == ((C)o).year;\n",
    "    }\n",
    "    \n",
    "    public String toString() {\n",
    "        return \"액면가: \" + value + \", 발행연도: \" + year;\n",
    "    }\n",
    "}"
   ]
  },
  {
   "cell_type": "markdown",
   "id": "178ac04a-07f9-466c-bef8-282919577594",
   "metadata": {},
   "source": [
    "---\n",
    "## Overriding and Inheritance\n",
    "상위(부모) 클래스에서 정의되어 상속받은 메서드를 재정의\n",
    " - 재정의하면 새로 재정의한 메서드만 하위(자녀) 클래스의 객체를 통해 사용 가능\n",
    " - 원래 상위(부모) 클래스에서 정의되어 있던 메서드는 하위(자녀) 클래스의 객체를 통해 호출 X\n",
    "\n",
    "오버라이딩과 상속\n",
    "\n",
    "```\n",
    "        ____척추동물____\n",
    "       /              \\\n",
    "   포유류             조류\n",
    "  /    \\            /   \\\n",
    " 개   박쥐        참새   타조\n",
    "```\n",
    "\n",
    "참고로 좀더 실무적인 상속 예제는 GUI의 요소의 계층구조\n",
    "https://math.hws.edu/javanotes/c1/s6.html"
   ]
  },
  {
   "cell_type": "code",
   "execution_count": 8,
   "id": "47687c25-493d-42d8-b4e1-c895586c38c1",
   "metadata": {},
   "outputs": [],
   "source": [
    "class Vertebrate { // 척추동물 클래스\n",
    "    int lifeSpan; // 멤버변수\n",
    "    void move() { // 메서드\n",
    "        System.out.println(\"척추동물이 움직이면 척추척추?\"); // 너무 뜬구름잡는 동작\n",
    "    }\n",
    "}\n",
    "\n",
    "class Mammal extends Vertebrate { // 포유류는 척추동물이므로\n",
    "    void move() {\n",
    "        System.out.println(\"포유류가 터벅터벅 걸어갑니다!\");\n",
    "    }\n",
    "}\n",
    "\n",
    "class Bird extends Vertebrate { // 조류도 척추동물이므로\n",
    "    void move() {\n",
    "        System.out.println(\"조류가 펄럭펄럭 날아갑니다!\");\n",
    "    }\n",
    "}\n",
    "\n",
    "class Dog extends Mammal { // 개는 포유류이다\n",
    "}\n",
    "\n",
    "class Bat extends Mammal { // 박쥐도 포유류이다\n",
    "    void move() {\n",
    "        System.out.println(\"박쥐가 팔락팔락 날아갑니다!\");\n",
    "    }\n",
    "}\n",
    "\n",
    "class Sparrow extends Bird { // 참새는 조류이다\n",
    "}\n",
    "\n",
    "class Ostritch extends Bird { // 타조는 조류이다\n",
    "    void move() {\n",
    "        System.out.println(\"타조가 다다다닥 뛰어갑니다!\");\n",
    "    }\n",
    "}\n",
    "\n",
    "// 여기까지는 계층구조를 상속으로 모델링"
   ]
  },
  {
   "cell_type": "code",
   "execution_count": 9,
   "id": "c2634d42-f2da-4741-989e-43363bd0ae69",
   "metadata": {},
   "outputs": [
    {
     "name": "stdout",
     "output_type": "stream",
     "text": [
      "0\n",
      "척추동물이 움직이면 척추척추?\n"
     ]
    }
   ],
   "source": [
    "Vertebrate a1 = new Vertebrate(); // 척추동물 객체 생성\n",
    "\n",
    "System.out.println( a1.lifeSpan ); // 척추동물 객체의 lifeSpan 속성 출력\n",
    "a1.move(); // 척추동물 객체의 move 메서드 호출"
   ]
  },
  {
   "cell_type": "code",
   "execution_count": 10,
   "id": "54fc8a6f-212b-4e91-b3b9-438c0b85b032",
   "metadata": {},
   "outputs": [
    {
     "name": "stdout",
     "output_type": "stream",
     "text": [
      "0\n",
      "포유류가 터벅터벅 걸어갑니다!\n"
     ]
    }
   ],
   "source": [
    "Mammal a2 = new Mammal(); // 포유류 객체 생성\n",
    "\n",
    "System.out.println( a2.lifeSpan ); // Mammal에는 직접 lifeSpan을 정의하지 않았지만\n",
    "a2.move(); // Mammal에서 오버라이드된 내용의 move로 동작"
   ]
  },
  {
   "cell_type": "code",
   "execution_count": 11,
   "id": "988bb30e-2346-4d93-bf86-109281716594",
   "metadata": {},
   "outputs": [
    {
     "name": "stdout",
     "output_type": "stream",
     "text": [
      "0\n",
      "조류가 펄럭펄럭 날아갑니다!\n"
     ]
    }
   ],
   "source": [
    "Bird a3 = new Bird(); // 조류 객체 생성\n",
    "\n",
    "System.out.println( a3.lifeSpan ); // Bird에는 직접 lifeSpan을 정의하지 않았지만\n",
    "a3.move(); // Bird에서 오버라이드된 내용의 move로 동작"
   ]
  },
  {
   "cell_type": "code",
   "execution_count": 12,
   "id": "fad90bb3-acda-4399-a3ed-2bc700a4b11c",
   "metadata": {},
   "outputs": [
    {
     "name": "stdout",
     "output_type": "stream",
     "text": [
      "0\n",
      "포유류가 터벅터벅 걸어갑니다!\n"
     ]
    }
   ],
   "source": [
    "Dog a4 = new Dog(); // 개 객체 생성\n",
    "// Dog에는 직접 lifeSpan이나 move를 정의하지 않았지만\n",
    "System.out.println( a4.lifeSpan ); // Mammal로부터 상속\n",
    "a4.move(); // Mammal로부터 상속"
   ]
  },
  {
   "cell_type": "code",
   "execution_count": 13,
   "id": "d7464950-f4fb-467a-9373-414cd85c4bc8",
   "metadata": {},
   "outputs": [
    {
     "name": "stdout",
     "output_type": "stream",
     "text": [
      "0\n",
      "조류가 펄럭펄럭 날아갑니다!\n"
     ]
    }
   ],
   "source": [
    "Sparrow a5 = new Sparrow(); // 참새 객체 생성\n",
    "// Sparrow에는 직접 lifeSpan이나 move를 정의하지 않았지만\n",
    "System.out.println( a5.lifeSpan );  // Bird로부터 상속\n",
    "a5.move(); // Bird로부터 상속"
   ]
  },
  {
   "cell_type": "code",
   "execution_count": 14,
   "id": "006bd163-9305-48de-b4ec-3d1f21d7f106",
   "metadata": {},
   "outputs": [
    {
     "name": "stdout",
     "output_type": "stream",
     "text": [
      "0\n",
      "박쥐가 팔락팔락 날아갑니다!\n"
     ]
    }
   ],
   "source": [
    "Bat a6 = new Bat(); // 박취 객체 생성\n",
    "\n",
    "System.out.println( a6.lifeSpan ); // Mammal로부터 상속\n",
    "a6.move(); // Bat에서 오버라이드한 내용으로 동작"
   ]
  },
  {
   "cell_type": "code",
   "execution_count": 15,
   "id": "044b7e5a-dc2a-4b23-a526-63c7ef9347f1",
   "metadata": {},
   "outputs": [
    {
     "name": "stdout",
     "output_type": "stream",
     "text": [
      "0\n",
      "타조가 다다다닥 뛰어갑니다!\n"
     ]
    }
   ],
   "source": [
    "Ostritch a7 = new Ostritch(); // 타조 객체 생성\n",
    "\n",
    "System.out.println( a7.lifeSpan ); // Bird로부터 상속\n",
    "a7.move();// Bird에서 오버라이드한 내용으로 동작"
   ]
  },
  {
   "cell_type": "markdown",
   "id": "f320f348-9af4-4597-8795-a54e0d283e03",
   "metadata": {},
   "source": [
    "<br>\n",
    "\n",
    "오버라이드된 메서드를 활용하는 진가는 언제 나타날까? (여기서 진가란 dynamic dispatch 동적 디스패치)\n",
    " - 상위 클래스 변수에 하위 클래스 객체가 할당/지정/대입되어 있을 때\n",
    " \n",
    "포유동물로부터 내려오는 계층구조를 보고 생각해 봅시다.\n",
    "\n",
    "\n",
    "어떤 박쥐 객체가 있다면 그 객체는\n",
    " - 기본적으로 박쥐인데\n",
    " - 포유류이기도 하고 (왜냐? 모든 박쥐는 포유류이니깐)\n",
    " - 척추동물이기도 하다 (왜냐? 모든 포유류는 척추동물이니깐)\n",
    " \n",
    "어떤 포유류 객체가 있다면 그 객체는\n",
    " - 기본적으로 포유류인데\n",
    " - 척추동물이기도 하다 (왜냐? 모든 포유류는 척추동물이니깐)\n",
    " \n",
    "<br>\n",
    "\n",
    "일반적으로 하위 클래스 객체를 상위 클래스 변수에 대입 가능!\n",
    " - 참고로 교재에서는 하위 클래스에서 상위 클래스로 묵시적 형변환이 이루어진다고 설명"
   ]
  },
  {
   "cell_type": "code",
   "execution_count": 16,
   "id": "d47f43ac-7d85-488f-a6b1-37868a00ccd4",
   "metadata": {},
   "outputs": [
    {
     "name": "stdout",
     "output_type": "stream",
     "text": [
      "박쥐가 팔락팔락 날아갑니다!\n"
     ]
    }
   ],
   "source": [
    "Bat b1 = new Bat();\n",
    "\n",
    "b1.move();"
   ]
  },
  {
   "cell_type": "code",
   "execution_count": 19,
   "id": "80d6e495-ed1d-4d01-ad15-7aeaf588f705",
   "metadata": {},
   "outputs": [
    {
     "name": "stdout",
     "output_type": "stream",
     "text": [
      "박쥐가 팔락팔락 날아갑니다!\n"
     ]
    }
   ],
   "source": [
    "Mammal b2 = new Bat(); // 박쥐 객체를 생성해서 포유류 변수에 대입\n",
    "\n",
    "b2.move(); // 이것의 결과는? 변수의 타입(정적 타입)이 아닌 객체/인스턴스의 타입(동적 타입)에 따라서 동작\n",
    "\n",
    "// 메소드의 호출이 정적 타입이 아닌 동적 타입에 따라 호출되는 것을 dynamic disptach라고 합니다"
   ]
  },
  {
   "cell_type": "code",
   "execution_count": 18,
   "id": "7988712f-724e-4600-82cf-91b6d68fb251",
   "metadata": {},
   "outputs": [
    {
     "name": "stdout",
     "output_type": "stream",
     "text": [
      "박쥐가 팔락팔락 날아갑니다!\n"
     ]
    }
   ],
   "source": [
    "Vertebrate b3 = new Bat(); // 박쥐 객체를 생성해서 척추동물 변수에 대입\n",
    "\n",
    "b3.move(); // 변수의 타입(정적 타입)이 아닌 객체/인스턴스의 타입(동적 타입)에 따라 동작"
   ]
  },
  {
   "cell_type": "code",
   "execution_count": null,
   "id": "79778023-c055-4a66-8a1f-a954968143fd",
   "metadata": {},
   "outputs": [],
   "source": []
  }
 ],
 "metadata": {
  "kernelspec": {
   "display_name": "Java",
   "language": "java",
   "name": "java"
  },
  "language_info": {
   "codemirror_mode": "java",
   "file_extension": ".jshell",
   "mimetype": "text/x-java-source",
   "name": "Java",
   "pygments_lexer": "java",
   "version": "11.0.8+10-LTS"
  }
 },
 "nbformat": 4,
 "nbformat_minor": 5
}
