{
 "cells": [
  {
   "cell_type": "markdown",
   "id": "408a60f1-df47-4d86-8e00-d0944275fdee",
   "metadata": {
    "tags": []
   },
   "source": [
    "# 02주차 강의노트\n",
    "\n",
    "#### 수업 진행 목표\n",
    "- Do it! 자바... 교재 둘러보기\n",
    "- 교재처럼 `.java` 확장자 파일에 작성하는 것과 주피터 환경의 차이점 확인해보기\n",
    "- 기본 자료형(primitive type) vs. 참조 자료형(reference type)\n",
    "- final로 상수 선언\n",
    "- 지역변수 타입 추론\n",
    "\n",
    "교재 첫째마당(01장부터 04장까지)은 스스로 학습할 것. 프로그래밍실습 과목을 1학년 때 충실히 이수하여 그 내용을 제대로 소화하고 있는 학생들이라면 대부분의 내용을 어렵지 않게 스스로 읽어보며 공부할 수 있는 내용이다."
   ]
  },
  {
   "cell_type": "markdown",
   "id": "5e2c66eb-c16b-4790-9a2f-01148c7f40cb",
   "metadata": {},
   "source": [
    "#### 두잇 자바 책에서 좀 개념적으로 바람직하지 않은 표현\n",
    "- 어떤 클래스를 생성한다 (x) <=== 이런 표현을 반복적으로 쓰고 있음\n",
    "- 어떤 클래스의 인스턴스를 생성한다 (o)\n",
    "- 어떤 클래스의 오브젝트를 생성한다 (o)"
   ]
  },
  {
   "cell_type": "markdown",
   "id": "3ae3483a-2aa1-4a98-8dbf-ea2258cf34e5",
   "metadata": {},
   "source": [
    "---\n",
    "## 교재의 개발환경과 주피터 환경의 차이점 확인해보기\n",
    "참고로 우리 수업에서는 패키지를 다루지 않겠습니다.\n",
    "\n",
    "교재의 Hello Java 프로그램을 여기에 작성한다면"
   ]
  },
  {
   "cell_type": "code",
   "execution_count": 1,
   "id": "b9cc10e3-d780-4f33-9d5b-dc4636d72870",
   "metadata": {},
   "outputs": [],
   "source": [
    "// 패키지 선언 제외하고 교재 소스코드 HelloJava.java 그대로 가져온 내용\n",
    "public class HelloJava {\n",
    "    public static void main(String[] args) {\n",
    "        System.out.println(\"Hello, Java\");\n",
    "        System.out.println(\"Bye, Java\");\n",
    "    }\n",
    "}"
   ]
  },
  {
   "cell_type": "code",
   "execution_count": 2,
   "id": "5cf448df-bb46-413f-90ee-47a0cf6e8c7b",
   "metadata": {},
   "outputs": [
    {
     "name": "stdout",
     "output_type": "stream",
     "text": [
      "Hello, Java\n",
      "Bye, Java\n"
     ]
    }
   ],
   "source": [
    "// 위의 코드를 일반적인 자바 개발환경에서 실행한다면 이런 식으로 `main`을 호출하며 프로그램 실행됨\n",
    "HelloJava.main(new String[1])"
   ]
  },
  {
   "cell_type": "markdown",
   "id": "0f41b71b-19d1-44e8-a244-44079b443f40",
   "metadata": {},
   "source": [
    "하지만 우리 Jupyter 환경에서는 굳이 class니 public static main이니\n",
    "이럴 필요 없이 한 문장씩 아래와 같이 실행 가능하다!"
   ]
  },
  {
   "cell_type": "code",
   "execution_count": 3,
   "id": "d96f2261-f69b-4ff7-81d1-2efc52f7fc53",
   "metadata": {},
   "outputs": [
    {
     "name": "stdout",
     "output_type": "stream",
     "text": [
      "Hello, Java\n"
     ]
    }
   ],
   "source": [
    "System.out.println(\"Hello, Java\");"
   ]
  },
  {
   "cell_type": "code",
   "execution_count": 4,
   "id": "4647ed08-db31-483d-bdec-7910c92c8dcf",
   "metadata": {},
   "outputs": [
    {
     "name": "stdout",
     "output_type": "stream",
     "text": [
      "Bye, Java\n"
     ]
    }
   ],
   "source": [
    "System.out.println(\"Bye, Java\");"
   ]
  },
  {
   "cell_type": "code",
   "execution_count": 5,
   "id": "f5d7c87e-e56f-451c-9700-67912bd97b6e",
   "metadata": {},
   "outputs": [
    {
     "name": "stdout",
     "output_type": "stream",
     "text": [
      "Hello, Java\n",
      "Bye, Java\n"
     ]
    }
   ],
   "source": [
    "System.out.println(\"Hello, Java\");\n",
    "System.out.println(\"Bye, Java\");"
   ]
  },
  {
   "cell_type": "markdown",
   "id": "1b7cb12b-76e8-47ed-9443-7ee0cc206eea",
   "metadata": {},
   "source": [
    "----\n",
    "## 기본 자료형(primitive type) vs. 참조 자료형(reference type)\n",
    "primitive type을 \"원시 자료형\"으로 번역하기도 함.\n",
    "\n",
    "기본 자료형은 C와 같은 개념입니다. 차이점은 범위 검사를 좀더 빡빡하게 하므로 C보다 형변환이 엄격한 편이다.\n",
    "\n",
    "C같은 경우는 기본 자료형 외에 구조체 등 복합 자료형도 똑같은 방식으로 작동.\n",
    "\n",
    "하지만 Java의 경우는 기본 자료형이 아닌 참조 자료형은 다른 방식으로 작동. (일관성이 좀 떨어짐)\n",
    "\n",
    "기본 자료형 변수란 크기가 정해진 상자로 이해하면 자연스럽다.\n",
    " - 대입 연산자 `=`는 내용물을 채워넣는다는 의미로 이해할 수 있다.\n",
    " - 다른 변수의 내용을 대입할 때는 복사본을 만들어 채워넣는다 (즉 메모리 내용을 복사한다)\n",
    "\n",
    "참조 자료형은 변수를 상자로 생각하기보다는 이름표/별명/직함 이런 식의 개념으로 이해하는 방법이 자연스럽다.\n",
    " - 고길동을 동네 꼬마들은 `아저씨`라고 부르고\n",
    " - 아들 철수나 딸 영희는 `아버지`라고 부르고\n",
    " - 조카 희동이는 `삼촌`이라고 부르고\n",
    " - 직장에서는 `고과장`이라고 부르고 ...\n",
    "\n",
    "무엇이 다른가? `==` 연산자의 의미 혹은 동작방식이 다름."
   ]
  },
  {
   "cell_type": "code",
   "execution_count": 6,
   "id": "c7d90659-218c-44ed-ab3e-8dfc5c9b1669",
   "metadata": {},
   "outputs": [
    {
     "data": {
      "text/plain": [
       "true"
      ]
     },
     "execution_count": 6,
     "metadata": {},
     "output_type": "execute_result"
    }
   ],
   "source": [
    "int n1 = 10;\n",
    "int n2 = 5 + 5;\n",
    "\n",
    "n1 == n2; // 기본 타입은 내용이 복사되는 방식이므로 그 \"내용\"을 기준으로 ==를 검사"
   ]
  },
  {
   "cell_type": "code",
   "execution_count": 7,
   "id": "c90e1d41-3300-4ede-8573-e41000f5f2b1",
   "metadata": {},
   "outputs": [
    {
     "data": {
      "text/plain": [
       "true"
      ]
     },
     "execution_count": 7,
     "metadata": {},
     "output_type": "execute_result"
    }
   ],
   "source": [
    "10 == 5 + 5"
   ]
  },
  {
   "cell_type": "markdown",
   "id": "c7ae4af7-8530-4f8a-a3fb-a5cd613c325e",
   "metadata": {},
   "source": [
    "**주의**: 실제로 String은 new를 사용 안해도 되는 좀 유별란 타입이지만 일반적인 참조타입처럼 설명하기 위해"
   ]
  },
  {
   "cell_type": "code",
   "execution_count": 8,
   "id": "a5f8057f-9dcb-43f9-87c2-fc002fc106fc",
   "metadata": {},
   "outputs": [
    {
     "data": {
      "text/plain": [
       "고길동"
      ]
     },
     "execution_count": 8,
     "metadata": {},
     "output_type": "execute_result"
    }
   ],
   "source": [
    "new String(\"고길동\")"
   ]
  },
  {
   "cell_type": "code",
   "execution_count": 9,
   "id": "3962a695-b389-40f2-9aa9-aa2ebb5ebc8b",
   "metadata": {},
   "outputs": [
    {
     "data": {
      "text/plain": [
       "고길동"
      ]
     },
     "execution_count": 9,
     "metadata": {},
     "output_type": "execute_result"
    }
   ],
   "source": [
    "new String(\"고\") + new String(\"길동\")"
   ]
  },
  {
   "cell_type": "code",
   "execution_count": 10,
   "id": "f1ace1c5-0006-4ba8-bc05-effb0a5eb4e7",
   "metadata": {},
   "outputs": [
    {
     "data": {
      "text/plain": [
       "false"
      ]
     },
     "execution_count": 10,
     "metadata": {},
     "output_type": "execute_result"
    }
   ],
   "source": [
    "new String(\"고길동\") == new String(\"고\") + new String(\"길동\")"
   ]
  },
  {
   "cell_type": "code",
   "execution_count": 11,
   "id": "d52d4dae-571d-4664-bef4-040d4d00c387",
   "metadata": {},
   "outputs": [
    {
     "data": {
      "text/plain": [
       "false"
      ]
     },
     "execution_count": 11,
     "metadata": {},
     "output_type": "execute_result"
    }
   ],
   "source": [
    "new String(\"고길동\") == new String(\"고길동\") // 심지어 이것도"
   ]
  },
  {
   "cell_type": "code",
   "execution_count": 12,
   "id": "6d9c0872-801e-4118-afd6-bde1b239e49f",
   "metadata": {},
   "outputs": [],
   "source": [
    "// 실제로는 String은 new를 사용 안해도 되는 좀 유별난 타입이지만 일반적인 참조타입처럼 설명하기 위해\n",
    "String s1 = new String(\"고길동\"); // 둘리네 집 아저씨 고길동\n",
    "String s2 = new String(\"고길동\"); // 동명이인인 다른 동네의 고길동"
   ]
  },
  {
   "cell_type": "code",
   "execution_count": 13,
   "id": "3685fce7-50d8-49a2-aa99-173eedaf56ad",
   "metadata": {},
   "outputs": [
    {
     "data": {
      "text/plain": [
       "false"
      ]
     },
     "execution_count": 13,
     "metadata": {},
     "output_type": "execute_result"
    }
   ],
   "source": [
    "s1 == s2"
   ]
  },
  {
   "cell_type": "code",
   "execution_count": 14,
   "id": "700f77bb-365c-4204-b92b-598e95d2e21a",
   "metadata": {},
   "outputs": [],
   "source": [
    "String 둘리네아저씨 = s1; // 고길동을 둘리나 동네 꼬마들은 아저씨라고 부르고\n",
    "String 철수아버지 = s1;   // 아들 철수나 딸 영희는 아버지라고 부르고\n",
    "String 희동이삼촌 = s1;   // 희동이는 삼촌이라 부르고\n",
    "String 영업팀고과장 = s1; // 직장에서는 고과장이라 부르고\n",
    "\n",
    "String 인사부장 = s2; // 같은 직장 다니는 옆동네 동명이인 고길동 아저씨는 인사부장"
   ]
  },
  {
   "cell_type": "code",
   "execution_count": 15,
   "id": "350868b9-f919-4d66-b741-2812cfe109b7",
   "metadata": {},
   "outputs": [
    {
     "data": {
      "text/plain": [
       "true"
      ]
     },
     "execution_count": 15,
     "metadata": {},
     "output_type": "execute_result"
    }
   ],
   "source": [
    "둘리네아저씨 == 철수아버지"
   ]
  },
  {
   "cell_type": "code",
   "execution_count": 16,
   "id": "ad823c89-279d-4afd-93a9-8a056289f23c",
   "metadata": {},
   "outputs": [
    {
     "data": {
      "text/plain": [
       "true"
      ]
     },
     "execution_count": 16,
     "metadata": {},
     "output_type": "execute_result"
    }
   ],
   "source": [
    "철수아버지 == 희동이삼촌"
   ]
  },
  {
   "cell_type": "code",
   "execution_count": 17,
   "id": "5745065a-f6f8-4d7d-ad7a-0eeed3903559",
   "metadata": {},
   "outputs": [
    {
     "data": {
      "text/plain": [
       "true"
      ]
     },
     "execution_count": 17,
     "metadata": {},
     "output_type": "execute_result"
    }
   ],
   "source": [
    "영업팀고과장 == 둘리네아저씨"
   ]
  },
  {
   "cell_type": "code",
   "execution_count": 18,
   "id": "951b80f7-d7c8-4fb7-8d4f-361e495bbc8b",
   "metadata": {},
   "outputs": [
    {
     "data": {
      "text/plain": [
       "false"
      ]
     },
     "execution_count": 18,
     "metadata": {},
     "output_type": "execute_result"
    }
   ],
   "source": [
    "둘리네아저씨 == 인사부장 // 어쩌다 보니 내용(이름)은 같지만 다른 사람이다!!!"
   ]
  },
  {
   "cell_type": "code",
   "execution_count": 19,
   "id": "0c311f97-29f1-4d64-9f68-02d02be6094c",
   "metadata": {},
   "outputs": [
    {
     "name": "stdout",
     "output_type": "stream",
     "text": [
      "10\n",
      "20\n"
     ]
    }
   ],
   "source": [
    "int x = 10;\n",
    "System.out.println(x);\n",
    "x = 20;\n",
    "System.out.println(x);"
   ]
  },
  {
   "cell_type": "code",
   "execution_count": 20,
   "id": "77cc37d9-597f-446b-8a12-18173325337b",
   "metadata": {},
   "outputs": [
    {
     "name": "stdout",
     "output_type": "stream",
     "text": [
      "10\n",
      "20\n"
     ]
    }
   ],
   "source": [
    "// 주피터 환경에서 이런 식으로 작성하면 final이 무시되므로 주의!!!\n",
    "final int y = 10;\n",
    "System.out.println(y);\n",
    "y = 20;\n",
    "System.out.println(y);"
   ]
  },
  {
   "cell_type": "code",
   "execution_count": 21,
   "id": "e82725b9-487a-459d-8950-b7f6e0461f2d",
   "metadata": {},
   "outputs": [
    {
     "ename": "CompilationException",
     "evalue": "",
     "output_type": "error",
     "traceback": [
      "\u001b[1m\u001b[30m|   \u001b[1m\u001b[30m        \u001b[0m\u001b[1m\u001b[30m\u001b[41my\u001b[0m\u001b[1m\u001b[30m = 20; // 처음 초기화(첫번째로 대입)된 값이 아니라 또 다시 대입을 하려고 하면 컴파일 오류! \u001b[0m",
      "\u001b[1m\u001b[31mcannot assign a value to final variable y\u001b[0m",
      ""
     ]
    }
   ],
   "source": [
    "// 일반적인 자바의 클래스 및 메소드 안에서 final을 작성하는 경우에는 검사가 이루어짐\n",
    "public class C {\n",
    "    public static void f() {\n",
    "        final int y = 10;\n",
    "        System.out.println(y);\n",
    "        y = 20; // 처음 초기화(첫번째로 대입)된 값이 아니라 또 다시 대입을 하려고 하면 컴파일 오류! \n",
    "        System.out.println(y);\n",
    "    }\n",
    "}"
   ]
  },
  {
   "cell_type": "code",
   "execution_count": 22,
   "id": "937cf54f-5d87-4256-b165-c346d3a2c2e5",
   "metadata": {},
   "outputs": [
    {
     "ename": "CompilationException",
     "evalue": "",
     "output_type": "error",
     "traceback": [
      "\u001b[1m\u001b[30m|   \u001b[1m\u001b[30m\u001b[0m\u001b[1m\u001b[30m\u001b[41mC\u001b[0m\u001b[1m\u001b[30m.f()\u001b[0m",
      "\u001b[1m\u001b[31mcannot find symbol\u001b[0m",
      "\u001b[1m\u001b[31m  symbol:   variable C\u001b[0m",
      ""
     ]
    }
   ],
   "source": [
    "C.f()"
   ]
  },
  {
   "cell_type": "markdown",
   "id": "45cf0d08-3c3e-4c72-a32e-862db756fa9a",
   "metadata": {},
   "source": [
    "---\n",
    "## 지역변수 타입 추론"
   ]
  },
  {
   "cell_type": "code",
   "execution_count": 23,
   "id": "7654e293-524a-40ea-abf8-fb8e840a9c8c",
   "metadata": {},
   "outputs": [],
   "source": [
    "String s3 = new String(\"고길동\"); // String을 앞에도 쓰고 new 다음에도 쓰고 ... 참 왜 이리 귀찮게"
   ]
  },
  {
   "cell_type": "code",
   "execution_count": 24,
   "id": "9d099095-a343-418c-831f-f5eb980b6ead",
   "metadata": {},
   "outputs": [
    {
     "data": {
      "text/plain": [
       "class java.lang.String"
      ]
     },
     "execution_count": 24,
     "metadata": {},
     "output_type": "execute_result"
    }
   ],
   "source": [
    "s3.getClass()"
   ]
  },
  {
   "cell_type": "code",
   "execution_count": 25,
   "id": "ea31cff5-139b-49ae-be55-8a966b9020c2",
   "metadata": {},
   "outputs": [],
   "source": [
    "var s4 = new String(\"고길동\");"
   ]
  },
  {
   "cell_type": "code",
   "execution_count": 26,
   "id": "ead22f8c-2999-4d93-b825-83d249963750",
   "metadata": {},
   "outputs": [
    {
     "data": {
      "text/plain": [
       "class java.lang.String"
      ]
     },
     "execution_count": 26,
     "metadata": {},
     "output_type": "execute_result"
    }
   ],
   "source": [
    "s4.getClass()"
   ]
  },
  {
   "cell_type": "code",
   "execution_count": null,
   "id": "a2b7d444-1f45-49f9-bee7-8147aa4eb382",
   "metadata": {},
   "outputs": [],
   "source": []
  }
 ],
 "metadata": {
  "kernelspec": {
   "display_name": "Java",
   "language": "java",
   "name": "java"
  },
  "language_info": {
   "codemirror_mode": "java",
   "file_extension": ".jshell",
   "mimetype": "text/x-java-source",
   "name": "Java",
   "pygments_lexer": "java",
   "version": "11.0.8+10-LTS"
  }
 },
 "nbformat": 4,
 "nbformat_minor": 5
}
