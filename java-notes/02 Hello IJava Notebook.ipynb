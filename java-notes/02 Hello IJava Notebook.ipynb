{
 "cells": [
  {
   "cell_type": "markdown",
   "id": "408a60f1-df47-4d86-8e00-d0944275fdee",
   "metadata": {
    "tags": []
   },
   "source": [
    "# 02주차 강의노트\n",
    "\n",
    "#### 수업 진행 목표\n",
    "- Do it! 자바... 교재 둘러보기\n",
    "- 교재처럼 `.java` 확장자 파일에 작성하는 것과 주피터 환경의 차이점 확인해보기\n",
    "- 기본 자료형(pritimive type) vs. 참조 자료형(reference type)\n",
    "- final로 상수 선언\n",
    "- 지역변수 타입 추론\n",
    "\n",
    "교재 첫째마당(01장부터 04장까지)은 스스로 학습할 것. 프로그래밍실습 과목을 1학년 때 충실히 이수하여 그 내용을 제대로 소화하고 있는 학생들이라면 대부분의 내용을 어렵지 않게 스스로 읽어보며 공부할 수 있는 내용이다."
   ]
  },
  {
   "cell_type": "markdown",
   "id": "5e2c66eb-c16b-4790-9a2f-01148c7f40cb",
   "metadata": {},
   "source": [
    "#### 두잇 자바 책에서 좀 개념적으로 바람직하지 않은 표현\n",
    "- 어떤 클래스를 생성한다 (x) <=== 이런 표현을 반복적으로 쓰고 있음\n",
    "- 어떤 클래스의 인스턴스를 생성한다 (o)\n",
    "- 어떤 클래스의 오브젝트를 생성한다 (o)"
   ]
  },
  {
   "cell_type": "markdown",
   "id": "3ae3483a-2aa1-4a98-8dbf-ea2258cf34e5",
   "metadata": {},
   "source": [
    "---\n",
    "교재의 Hello Java 프로그램을 여기에 작성한다면"
   ]
  },
  {
   "cell_type": "code",
   "execution_count": null,
   "id": "b9cc10e3-d780-4f33-9d5b-dc4636d72870",
   "metadata": {},
   "outputs": [],
   "source": []
  }
 ],
 "metadata": {
  "kernelspec": {
   "display_name": "Java",
   "language": "java",
   "name": "java"
  },
  "language_info": {
   "codemirror_mode": "java",
   "file_extension": ".jshell",
   "mimetype": "text/x-java-source",
   "name": "Java",
   "pygments_lexer": "java",
   "version": "11.0.8+10-LTS"
  }
 },
 "nbformat": 4,
 "nbformat_minor": 5
}
