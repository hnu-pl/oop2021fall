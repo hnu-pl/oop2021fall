{
 "cells": [
  {
   "cell_type": "markdown",
   "id": "39b7c7d1-30db-4076-a07d-9dfbfe963a10",
   "metadata": {
    "tags": []
   },
   "source": [
    "# Generics\n",
    "제네릭의 개념에 대해서는 앞서 다루었으므로\n",
    "제네릭을 활용하는 배열과 컬렉션에 대해 알아본다.\n",
    "\n",
    "#### 배열\n",
    "  - `Array`라는 제너릭 타입으로 제공됨\n",
    "  - JVM 타겟의 경우 Java 배열 구현을 활용\n",
    "\n",
    "#### 컬렉션\n",
    "  - read-only와 mutable 인터페이스로 두 벌씩 제공됨\n",
    "    - List, Set, Map (read-only가 기본)\n",
    "    - MutableList, MutableSet, MutableMap (mutable이 긴 이름)\n",
    "      \n",
    "  - 참고로 자바의 경우는 mutable이 기본, immutable (read-only)을 긴 이름으로\n",
    "    - List, Set, Map (mutable)\n",
    "    - ImmutalbeList, ImmutableSet, ImmutableMap\n",
    " \n",
    "  - 공변, 반변, 무변\n",
    "    - 공변(covariant): `out` 키워드\n",
    "    - 반(공)변(contravariant): `in` 키워드\n",
    "    - 무변(invariant): 별도의 추가 키워드 없음\n",
    "\n",
    "\n",
    "참고 링크\n",
    "- https://kotlinlang.org/api/latest/jvm/stdlib/kotlin/-array/\n",
    "- https://kotlinlang.org/docs/collections-overview.html\n",
    "- https://kotlinlang.org/api/latest/jvm/stdlib/kotlin.collections/ "
   ]
  },
  {
   "cell_type": "code",
   "execution_count": 1,
   "id": "0f3d3957-9751-4bc9-966b-6742534b7214",
   "metadata": {},
   "outputs": [
    {
     "data": {
      "text/plain": [
       "1.6.0"
      ]
     },
     "execution_count": 1,
     "metadata": {},
     "output_type": "execute_result"
    }
   ],
   "source": [
    "KotlinVersion.CURRENT // 현재 코틀린 버전 확인"
   ]
  },
  {
   "cell_type": "markdown",
   "id": "df083eb4-62d2-4288-935f-0754cb39bb6d",
   "metadata": {},
   "source": [
    "----\n",
    "## 배열"
   ]
  },
  {
   "cell_type": "code",
   "execution_count": 2,
   "id": "02808073-4f14-44d8-a420-03419b858857",
   "metadata": {},
   "outputs": [
    {
     "data": {
      "text/plain": [
       "[Ljava.lang.String;@5674e1f2"
      ]
     },
     "execution_count": 2,
     "metadata": {},
     "output_type": "execute_result"
    }
   ],
   "source": [
    "val arr: Array<String> = arrayOf(\"a\",\"b\",\"c\",\"d\")\n",
    "\n",
    "arr // java거를 공유하기 때문에 toString이 개판"
   ]
  },
  {
   "cell_type": "code",
   "execution_count": 3,
   "id": "7a901270-cec3-4e82-abbc-1c0ae0278b10",
   "metadata": {},
   "outputs": [
    {
     "data": {
      "text/plain": [
       "[a, b, c, d]"
      ]
     },
     "execution_count": 3,
     "metadata": {},
     "output_type": "execute_result"
    }
   ],
   "source": [
    "arr.contentToString() // 출력을 편하게 도와주는 메소드 제공"
   ]
  },
  {
   "cell_type": "code",
   "execution_count": 4,
   "id": "9941ee10-4128-4fa6-a70c-9aed59b3735a",
   "metadata": {},
   "outputs": [
    {
     "data": {
      "text/plain": [
       "4"
      ]
     },
     "execution_count": 4,
     "metadata": {},
     "output_type": "execute_result"
    }
   ],
   "source": [
    "arr.size"
   ]
  },
  {
   "cell_type": "code",
   "execution_count": 5,
   "id": "8c82fd8c-7c3e-465f-bf06-775849c8ae6b",
   "metadata": {},
   "outputs": [
    {
     "data": {
      "text/plain": [
       "c"
      ]
     },
     "execution_count": 5,
     "metadata": {},
     "output_type": "execute_result"
    }
   ],
   "source": [
    "arr[2]"
   ]
  },
  {
   "cell_type": "code",
   "execution_count": 6,
   "id": "3f732419-2e80-4bb5-aa4e-75156ccb7de2",
   "metadata": {},
   "outputs": [
    {
     "data": {
      "text/plain": [
       "[a, b, cc, d]"
      ]
     },
     "execution_count": 6,
     "metadata": {},
     "output_type": "execute_result"
    }
   ],
   "source": [
    "arr[2] = \"cc\"\n",
    "\n",
    "arr.contentToString()"
   ]
  },
  {
   "cell_type": "code",
   "execution_count": 7,
   "id": "edbc9051-5380-45a4-954b-891830119c46",
   "metadata": {},
   "outputs": [],
   "source": [
    "val n: Int = 1\n",
    "val a: Any = n // Int는 Any로 변환 가능"
   ]
  },
  {
   "cell_type": "code",
   "execution_count": 8,
   "id": "b5e71c8a-cb3e-4a16-a7bc-86baeb8050a8",
   "metadata": {},
   "outputs": [
    {
     "name": "stderr",
     "output_type": "stream",
     "text": [
      "Line_7.jupyter-kts (3:24 - 43) Type mismatch: inferred type is Any but Int was expected\n",
      "Line_7.jupyter-kts (3:24 - 43) Type mismatch: inferred type is Array<Int> but Array<Any> was expected"
     ]
    }
   ],
   "source": [
    "// C<T>에서 T가 공변: T1와 T2의 상하관계가 C<T1>와 C<T2>의 상하관계에서 그대로 적용되는 경우\n",
    "// Array<T>에서 T가 공변이라면 Array<Int>를 Array<Any>로 변환가능해야\n",
    "val arr2: Array<Any> = arrayOf<Int>(1,2,3) "
   ]
  },
  {
   "cell_type": "code",
   "execution_count": 9,
   "id": "de20e122-2d28-448f-9543-1deccab25c56",
   "metadata": {},
   "outputs": [
    {
     "name": "stderr",
     "output_type": "stream",
     "text": [
      "Line_8.jupyter-kts (3:24 - 43) Type mismatch: inferred type is Any but Int was expected\n",
      "Line_8.jupyter-kts (3:24 - 43) Type mismatch: inferred type is Array<Any> but Array<Int> was expected"
     ]
    }
   ],
   "source": [
    "// C<T>에서 T가 반변: T1와 T2의 상하관계가 C<T1>와 C<T2>의 상하관계의 반대로 적용되는 경우\n",
    "// Array<T>에서 T가 반변이라면 Array<Any>를 Array<Int>로 변환가능해야\n",
    "val arr3: Array<Int> = arrayOf<Any>(1,2,3)"
   ]
  },
  {
   "cell_type": "markdown",
   "id": "16505ce8-49c4-46cd-b43b-fd481553e961",
   "metadata": {},
   "source": [
    "그러므로 `Array<T>`에서 `T`는 무변이다. (반변도 공변도 아님)\n",
    " - `T1`와 `T2`가 상하관계에 있더라도\n",
    " - `Array<T1>`과 `Array<T2>`는 상하관계가 전혀 없다"
   ]
  },
  {
   "cell_type": "code",
   "execution_count": 10,
   "id": "e09d8f25-1329-4d8c-9060-91f54f69b862",
   "metadata": {},
   "outputs": [
    {
     "data": {
      "text/plain": [
       "[a, b, cc, d]"
      ]
     },
     "execution_count": 10,
     "metadata": {},
     "output_type": "execute_result"
    }
   ],
   "source": [
    "val a2l: List<String> = arr.asList() // List<String>로 변환\n",
    "\n",
    "a2l"
   ]
  },
  {
   "cell_type": "markdown",
   "id": "153d3d5f-82db-4fc8-8e65-a112e7a5eb90",
   "metadata": {},
   "source": [
    "---\n",
    "## Collection\n",
    "\n",
    "다음을 구분하자\n",
    "- 컨테이너 변수를 `val`과 `var`로 어느 키워드로 선언할지\n",
    "- 컨테이터 변수의 타입을 불변(read-only)으로 할지 mutable로 할지\n",
    "\n",
    "4가지 조합이 가능하겠죠?\n",
    "\n",
    "### List\n"
   ]
  },
  {
   "cell_type": "code",
   "execution_count": 11,
   "id": "5e684403-3f62-4610-a7d5-28e7b78af0b1",
   "metadata": {},
   "outputs": [
    {
     "data": {
      "text/plain": [
       "[a, b, c, d]"
      ]
     },
     "execution_count": 11,
     "metadata": {},
     "output_type": "execute_result"
    }
   ],
   "source": [
    "val li: List<String> = listOf(\"a\",\"b\",\"c\",\"d\")\n",
    "\n",
    "li"
   ]
  },
  {
   "cell_type": "code",
   "execution_count": 12,
   "id": "7656d9f1-0dc0-4115-87d4-b74d9b1bc935",
   "metadata": {},
   "outputs": [
    {
     "data": {
      "text/plain": [
       "class java.util.Arrays$ArrayList"
      ]
     },
     "execution_count": 12,
     "metadata": {},
     "output_type": "execute_result"
    }
   ],
   "source": [
    "li::class"
   ]
  },
  {
   "cell_type": "code",
   "execution_count": 13,
   "id": "7ecf43ae-c346-4704-86fc-967c6b4322c9",
   "metadata": {},
   "outputs": [
    {
     "data": {
      "text/plain": [
       "c"
      ]
     },
     "execution_count": 13,
     "metadata": {},
     "output_type": "execute_result"
    }
   ],
   "source": [
    "li[2] // java에서는 연산자 오버로딩이 없어서 [ ]연산자가 아닌 get 메소드로만 가능"
   ]
  },
  {
   "cell_type": "code",
   "execution_count": 14,
   "id": "72c584ec-a434-4a10-8e64-77735c0a5050",
   "metadata": {},
   "outputs": [
    {
     "data": {
      "text/plain": [
       "c"
      ]
     },
     "execution_count": 14,
     "metadata": {},
     "output_type": "execute_result"
    }
   ],
   "source": [
    "li.get(2) // li[2] 와 같은 의미"
   ]
  },
  {
   "cell_type": "code",
   "execution_count": 15,
   "id": "41d4d384-e6aa-4ea1-830a-087480e25eff",
   "metadata": {},
   "outputs": [
    {
     "name": "stderr",
     "output_type": "stream",
     "text": [
      "Line_14.jupyter-kts (1:1 - 6) Unresolved reference. None of the following candidates is applicable because of receiver type mismatch: \n",
      "public inline operator fun kotlin.text.StringBuilder /* = java.lang.StringBuilder */.set(index: Int, value: Char): Unit defined in kotlin.text\n",
      "Line_14.jupyter-kts (1:3 - 6) No set method providing array access"
     ]
    }
   ],
   "source": [
    "li[2] = \"cc\" // 불변인 List이므로 컴파일 에러"
   ]
  },
  {
   "cell_type": "code",
   "execution_count": 16,
   "id": "2d6b8772-804e-407b-be2f-be82e22d036d",
   "metadata": {},
   "outputs": [],
   "source": [
    "val n2: Int = 1\n",
    "val a2: Any = n2 // Int는 Any로 변환 가능"
   ]
  },
  {
   "cell_type": "code",
   "execution_count": 17,
   "id": "138d0ede-7bbd-4298-a693-215a8928fd68",
   "metadata": {},
   "outputs": [],
   "source": [
    "// List<T>에서 T가 공변이라면 List<Int>를 List<Any>로 변환가능해야\n",
    "val li22 : List<Int> = listOf<Int>(1,2,3,4)\n",
    "val li2  : List<Any> = li22"
   ]
  },
  {
   "cell_type": "code",
   "execution_count": 18,
   "id": "3b17146d-6a60-4104-974a-4fd677bbe429",
   "metadata": {},
   "outputs": [
    {
     "name": "stderr",
     "output_type": "stream",
     "text": [
      "Line_17.jupyter-kts (3:24 - 28) Type mismatch: inferred type is List<Any> but List<Int> was expected"
     ]
    }
   ],
   "source": [
    "// List<T>에서 T가 반변이라면 List<Any>를 List<Int>로 변환가능해야\n",
    "val li33 : List<Any> = listOf<Any>(1,2,3,4)\n",
    "val li3  : List<Int> = li33"
   ]
  },
  {
   "cell_type": "code",
   "execution_count": 19,
   "id": "40f01370-bcc8-458d-93e6-283969bdbed2",
   "metadata": {},
   "outputs": [
    {
     "data": {
      "text/plain": [
       "[a, b, c, d]"
      ]
     },
     "execution_count": 19,
     "metadata": {},
     "output_type": "execute_result"
    }
   ],
   "source": [
    "val mli: MutableList<String> = mutableListOf(\"a\",\"b\",\"c\",\"d\")\n",
    "\n",
    "mli"
   ]
  },
  {
   "cell_type": "code",
   "execution_count": 20,
   "id": "6ba1da5a-79d3-47f6-a96f-23c5b0950a3c",
   "metadata": {},
   "outputs": [
    {
     "data": {
      "text/plain": [
       "c"
      ]
     },
     "execution_count": 20,
     "metadata": {},
     "output_type": "execute_result"
    }
   ],
   "source": [
    "mli[2]"
   ]
  },
  {
   "cell_type": "code",
   "execution_count": 21,
   "id": "b867c2cf-2ede-45a6-a9ec-42c2801d9cf0",
   "metadata": {},
   "outputs": [
    {
     "data": {
      "text/plain": [
       "[a, b, cc, d]"
      ]
     },
     "execution_count": 21,
     "metadata": {},
     "output_type": "execute_result"
    }
   ],
   "source": [
    "mli[2] = \"cc\"\n",
    "\n",
    "mli"
   ]
  },
  {
   "cell_type": "code",
   "execution_count": 22,
   "id": "6e199cc2-4a63-4727-acc0-1cb8e96f2f03",
   "metadata": {},
   "outputs": [
    {
     "name": "stderr",
     "output_type": "stream",
     "text": [
      "Line_21.jupyter-kts (3:32 - 37) Type mismatch: inferred type is MutableList<Int> but MutableList<Any> was expected"
     ]
    }
   ],
   "source": [
    "// MutableList<T>에서 T가 공변이라면 MutableList<Int>를 MutableList<Any>로 변환가능해야\n",
    "val mli22 : MutableList<Int> = mutableListOf<Int>(1,2,3,4)\n",
    "val mli2  : MutableList<Any> = mli22"
   ]
  },
  {
   "cell_type": "code",
   "execution_count": 23,
   "id": "9a665cdf-e3e9-4d32-9bea-08ab0e66a3d7",
   "metadata": {},
   "outputs": [
    {
     "name": "stderr",
     "output_type": "stream",
     "text": [
      "Line_22.jupyter-kts (3:32 - 37) Type mismatch: inferred type is MutableList<Any> but MutableList<Int> was expected"
     ]
    }
   ],
   "source": [
    "// MutableList<T>에서 T가 반변이라면 List<Int>를 List<Any>로 변환가능해야\n",
    "val mli33 : MutableList<Any> = mutableListOf<Any>(1,2,3,4)\n",
    "val mli3  : MutableList<Int> = mli33"
   ]
  },
  {
   "cell_type": "markdown",
   "id": "be83b13b-fe28-44ae-b802-0bb237e21450",
   "metadata": {},
   "source": [
    "### Set\n",
    "스스로 학습"
   ]
  },
  {
   "cell_type": "markdown",
   "id": "9cced693-526e-47a8-bcc8-84be593f3645",
   "metadata": {},
   "source": [
    "### Map\n",
    "스스로 학습"
   ]
  },
  {
   "cell_type": "markdown",
   "id": "620bb68c-9c7b-4843-b02c-9ef7b0b7ce0b",
   "metadata": {},
   "source": [
    "----"
   ]
  },
  {
   "cell_type": "markdown",
   "id": "0a9d1342-33f5-43b1-b9b4-ece9bc247160",
   "metadata": {},
   "source": [
    "## Contravariant generic parameter example\n",
    "반변 제네릭 매개변수 예제"
   ]
  },
  {
   "cell_type": "code",
   "execution_count": 24,
   "id": "6163d59c-3a87-4748-977f-b66709e7eef0",
   "metadata": {},
   "outputs": [],
   "source": [
    "class Bed<in T>() {\n",
    "    fun sleep(x : T) { } // x를 침대에 집어넣어서 재우는 함수\n",
    "}"
   ]
  },
  {
   "cell_type": "code",
   "execution_count": 25,
   "id": "4ed54d19-d6c5-43c0-b265-659ab4ac5077",
   "metadata": {},
   "outputs": [],
   "source": [
    "open class Animal()\n",
    "class Cat() : Animal()\n",
    "class Dog() : Animal()"
   ]
  },
  {
   "cell_type": "code",
   "execution_count": 26,
   "id": "80561c94-3cee-4aa0-971b-7aa200479a6c",
   "metadata": {},
   "outputs": [],
   "source": [
    "val bed1: Bed<Animal> = Bed<Animal>()"
   ]
  },
  {
   "cell_type": "code",
   "execution_count": 27,
   "id": "1db5fa7b-2571-4163-abd1-d3190fc6b125",
   "metadata": {},
   "outputs": [],
   "source": [
    "val bed2: Bed<Cat> = Bed<Cat>()"
   ]
  },
  {
   "cell_type": "code",
   "execution_count": 28,
   "id": "03449316-50eb-4e32-8e60-3af2a1d9dc4e",
   "metadata": {},
   "outputs": [],
   "source": [
    "// 고양이만 재우면 되는 침대 bed3가 필요한 경우에는\n",
    "// 개,고양이 등 다양한 동물이 잘 수 있는 침대를 사용해도 된다\n",
    "val bed3: Bed<Cat> = Bed<Animal>()\n",
    "// Animal이 Cat의 상위개념           (Cat이 Animal로 자연스럽게 변환 가능)\n",
    "// Bed<Cat>이 Bed<Animal>의 상위개념 (Bed<Animal>이 Bed<Cat>으로 자연스럽게 변환 가능)\n",
    "// 그러므로 Bed<T>에서 T는 반변(contravariant)"
   ]
  },
  {
   "cell_type": "code",
   "execution_count": 29,
   "id": "26220160-f51e-41fd-bd28-3de8b8b1b740",
   "metadata": {},
   "outputs": [
    {
     "name": "stderr",
     "output_type": "stream",
     "text": [
      "Line_28.jupyter-kts (3:25 - 35) Type mismatch: inferred type is Line_24.Animal but Line_24.Dog was expected\n",
      "Line_28.jupyter-kts (3:25 - 35) Type mismatch: inferred type is Line_23.Bed<Line_24.Dog> but Line_23.Bed<Line_24.Animal> was expected"
     ]
    }
   ],
   "source": [
    "// 개,고양이 등 다양한 동물이 잘 수 있는 침대가 필요한 경우에\n",
    "// 개 전용 침대를 제공하는 것은 곤란하다 (고양이가 오면 못재움)\n",
    "val bed4: Bed<Animal> = Bed<Dog>()"
   ]
  },
  {
   "cell_type": "markdown",
   "id": "4562e71b-6ff1-4d73-9351-a7fc95b50ee3",
   "metadata": {},
   "source": [
    "## Covariant generic parameter example\n",
    "공변 제네릭 매개변수 예제\n"
   ]
  },
  {
   "cell_type": "code",
   "execution_count": 30,
   "id": "db4e3f4e-9ff1-4a35-ab45-e22d61503877",
   "metadata": {},
   "outputs": [],
   "source": [
    "// elem 하나로 PairFactory를 생성하면 (elem,elem) 순서쌍을 만들어내는 공장 클래스\n",
    "class PairFactory<out T>(val elem: T) {\n",
    "    fun produce() : Pair<T,T> = Pair(elem,elem)\n",
    "}"
   ]
  },
  {
   "cell_type": "code",
   "execution_count": 31,
   "id": "bb8889f1-f5d5-4f34-8644-6b23cc488cb5",
   "metadata": {},
   "outputs": [
    {
     "data": {
      "text/plain": [
       "(12, 12)"
      ]
     },
     "execution_count": 31,
     "metadata": {},
     "output_type": "execute_result"
    }
   ],
   "source": [
    "val pf1 = PairFactory(12)\n",
    "\n",
    "pf1.produce()"
   ]
  },
  {
   "cell_type": "code",
   "execution_count": 32,
   "id": "e6c258aa-28cd-4325-b9cb-3549c0905081",
   "metadata": {},
   "outputs": [
    {
     "name": "stderr",
     "output_type": "stream",
     "text": [
      "Line_31.jupyter-kts (1:1 - 9) Val cannot be reassigned"
     ]
    }
   ],
   "source": [
    "pf1.elem = 100 // val이므로 재지정 불가"
   ]
  },
  {
   "cell_type": "code",
   "execution_count": 33,
   "id": "23670767-c6fa-4a9a-bff1-93af13a6dc32",
   "metadata": {},
   "outputs": [
    {
     "data": {
      "text/plain": [
       "(hello, hello)"
      ]
     },
     "execution_count": 33,
     "metadata": {},
     "output_type": "execute_result"
    }
   ],
   "source": [
    "val pf2 = PairFactory(\"hello\")\n",
    "\n",
    "pf2.produce()"
   ]
  },
  {
   "cell_type": "markdown",
   "id": "532121c7-d416-4e9e-bb9c-ce2a35578965",
   "metadata": {},
   "source": [
    "## Invairiant generic parameter example\n",
    "무변 제네릭 매개변수 예제\n",
    "\n",
    "`C<T>`의 `T`타입의 `var`로 정의한 mutable 멤버 변수가 있다면 공변이 될 수 없다! \n",
    "  - `val`로 정의한 read-only 변수는 읽기(`get() : T`메소드가 제공)만 가능\n",
    "  - `var`로 정의한 mutable 변수는 쓰기(`set(x : T)`메소드도 제공)도 가능"
   ]
  },
  {
   "cell_type": "code",
   "execution_count": 34,
   "id": "1f80dbad-84b4-4d27-9b88-d62861ea8d09",
   "metadata": {},
   "outputs": [],
   "source": [
    "// elem 하나로 PairFactory를 생성하면 (elem,elem) 순서쌍을 만들어내는 공장 클래스\n",
    "// 그런데 elem을 다른 값으로 변경 가능\n",
    "\n",
    "// class MutablePairFactory<out T>(var elem: T) { // 이것도 오류\n",
    "// class MutablePairFactory<in T>(var elem: T) { // 이것도 오류\n",
    "\n",
    "class MutablePairFactory<T>(var elem: T) {\n",
    "    fun produce() : Pair<T,T> = Pair(elem,elem)\n",
    "}"
   ]
  },
  {
   "cell_type": "code",
   "execution_count": 35,
   "id": "711678ce-7b3f-4711-8e7b-bae9fdbec5b6",
   "metadata": {},
   "outputs": [
    {
     "data": {
      "text/plain": [
       "(12, 12)"
      ]
     },
     "execution_count": 35,
     "metadata": {},
     "output_type": "execute_result"
    }
   ],
   "source": [
    "val pf2 = MutablePairFactory(12)\n",
    "\n",
    "pf1.produce()"
   ]
  },
  {
   "cell_type": "code",
   "execution_count": 36,
   "id": "119448a0-bb18-4f18-9bf7-a875a0d42585",
   "metadata": {},
   "outputs": [
    {
     "data": {
      "text/plain": [
       "(100, 100)"
      ]
     },
     "execution_count": 36,
     "metadata": {},
     "output_type": "execute_result"
    }
   ],
   "source": [
    "pf2.elem = 100 // var 이므로 재지정 가능\n",
    "\n",
    "pf2.produce()"
   ]
  }
 ],
 "metadata": {
  "kernelspec": {
   "display_name": "Kotlin",
   "language": "kotlin",
   "name": "kotlin"
  },
  "language_info": {
   "codemirror_mode": "kotlin",
   "file_extension": ".kt",
   "mimetype": "text/x-kotlin",
   "name": "kotlin",
   "nbconvert_exporter": "",
   "pygments_lexer": "kotlin",
   "version": "1.6.0-dev-1733"
  }
 },
 "nbformat": 4,
 "nbformat_minor": 5
}
