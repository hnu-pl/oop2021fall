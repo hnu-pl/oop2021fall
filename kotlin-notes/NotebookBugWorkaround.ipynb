{
 "cells": [
  {
   "cell_type": "markdown",
   "id": "49d6d0a9-82f2-4d89-a318-bb979c43b860",
   "metadata": {},
   "source": [
    "# Kotlin 노트북 버그 우회 방법\n",
    "\n",
    "HW3이나 HW4를 하다 보면 추가로 전역 함수를 정의할 경우 다음과 같은 문제점을 경험하는 경우가 꽤 있을 것.\n",
    "\n",
    "다른 곳에서는 전역 함수나 변수를 잘 활용할 수 있는데 주 생성자에서 `:` 다음에 부모 클래스의 생성자를 호출할 때 전역 함수나 변수를 사용하면 에러가 난다."
   ]
  },
  {
   "cell_type": "code",
   "execution_count": 1,
   "id": "4f599b91-6ad5-4734-bfb8-a5fd51b70b02",
   "metadata": {},
   "outputs": [],
   "source": [
    "fun f(i: Int) = i + 1"
   ]
  },
  {
   "cell_type": "code",
   "execution_count": 2,
   "id": "9c4165c0-b6b9-4345-9c63-dce94e3591ad",
   "metadata": {},
   "outputs": [
    {
     "name": "stderr",
     "output_type": "stream",
     "text": [
      "Backend Internal error: Exception during file facade code generation\n",
      "File being compiled: mock://Line_1.jupyter-kts\n",
      "The root cause java.lang.RuntimeException was thrown at: org.jetbrains.kotlin.codegen.ImplementationBodyCodegen.generateConstructors(ImplementationBodyCodegen.java:469)"
     ]
    }
   ],
   "source": [
    "open class P1(val y: Int)\n",
    "class C1(val x: Int) : P1(f(x)) { // 보통의 Kotlin 개발환경이라면 작동해야 하는 코드지만 여기 노트북에선 안됨\n",
    "    override fun toString() = \"($x,$y)\"\n",
    "}"
   ]
  },
  {
   "cell_type": "markdown",
   "id": "dd5bf0d2-04b4-4896-bf7d-b2d15a805561",
   "metadata": {},
   "source": [
    "아래와 같이 전역 정의 대신 싱글톤 오브젝트 안에다 정의하면 우회 가능하다."
   ]
  },
  {
   "cell_type": "code",
   "execution_count": 3,
   "id": "19779c70-1c68-4b89-80da-32345f67d255",
   "metadata": {},
   "outputs": [],
   "source": [
    "object Global { // 싱글톤 오브젝트 안에 함수 정의 활용\n",
    "    fun f(i: Int) = i + 1\n",
    "}"
   ]
  },
  {
   "cell_type": "code",
   "execution_count": 4,
   "id": "e2d565bf-3cf3-4b9a-853c-8c0fdd416fe9",
   "metadata": {},
   "outputs": [],
   "source": [
    "open class P2(val y: Int)\n",
    "class C2(val x: Int) : P2(Global.f(x)) {\n",
    "    override fun toString() = \"($x,$y)\"\n",
    "}"
   ]
  },
  {
   "cell_type": "code",
   "execution_count": 5,
   "id": "3df9d872-a033-4bed-9f16-7e6c90fb95a7",
   "metadata": {},
   "outputs": [
    {
     "data": {
      "text/plain": [
       "(10,11)"
      ]
     },
     "execution_count": 5,
     "metadata": {},
     "output_type": "execute_result"
    }
   ],
   "source": [
    "C2(10)"
   ]
  },
  {
   "cell_type": "code",
   "execution_count": null,
   "id": "b9b82293-a97f-45f5-95e0-1ae76d07439d",
   "metadata": {},
   "outputs": [],
   "source": []
  }
 ],
 "metadata": {
  "kernelspec": {
   "display_name": "Kotlin",
   "language": "kotlin",
   "name": "kotlin"
  },
  "language_info": {
   "codemirror_mode": "kotlin",
   "file_extension": ".kt",
   "mimetype": "text/x-kotlin",
   "name": "kotlin",
   "nbconvert_exporter": "",
   "pygments_lexer": "kotlin",
   "version": "1.6.0-dev-1733"
  }
 },
 "nbformat": 4,
 "nbformat_minor": 5
}
