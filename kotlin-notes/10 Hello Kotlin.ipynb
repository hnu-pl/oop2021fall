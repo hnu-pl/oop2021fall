{
 "cells": [
  {
   "cell_type": "markdown",
   "id": "38f13a6d-e6f7-405d-a119-8173f45c2039",
   "metadata": {},
   "source": [
    "# Hello Kotlin"
   ]
  },
  {
   "cell_type": "markdown",
   "id": "22dec1c3-0550-4ded-86d4-b945c97d77fb",
   "metadata": {},
   "source": [
    "## 변수\n",
    "`val`이나 `var` 키워드로 선언\n",
    "\n",
    "`val`로 선언한 변수는 재지정 불가! (Java에서 final 변수와 마찬가지)"
   ]
  },
  {
   "cell_type": "code",
   "execution_count": 1,
   "id": "9b6ea72c-dbc6-4646-aed6-c71ff3593c18",
   "metadata": {},
   "outputs": [
    {
     "name": "stdout",
     "output_type": "stream",
     "text": [
      "3\n"
     ]
    }
   ],
   "source": [
    "val x = 3 // 불변 immutable\n",
    "println(3)\n",
    "// x = 4 // 에러가 남."
   ]
  },
  {
   "cell_type": "code",
   "execution_count": 2,
   "id": "41110806-3e2e-4888-8077-41d0265e1946",
   "metadata": {},
   "outputs": [
    {
     "name": "stdout",
     "output_type": "stream",
     "text": [
      "4\n"
     ]
    }
   ],
   "source": [
    "var y = 4 // 가변 mutable\n",
    "println(y)\n",
    "y = 5 // 재지정 가능"
   ]
  },
  {
   "cell_type": "markdown",
   "id": "560b2c6f-832d-4016-889b-3e54d4bc3f1c",
   "metadata": {},
   "source": [
    "## 연산자\n",
    "다른 부분은 교재를 찾아보기\n",
    "\n",
    "`==`과 `===`에 대해서만 짚고 넘어갑시다 (Java 쓰다 Kotlin 쓰다 하면 헷갈리는 ...)\n",
    "- Kotlin에서 `===`는 소위 object equality라고 하는 (Java에서 `==`에 해당) \n",
    "- Kotlin에서 `==`는 내용이 같은지를 검사 (Java에서 대략 equals메소드에 해당)"
   ]
  },
  {
   "cell_type": "code",
   "execution_count": 3,
   "id": "7115b737-3c05-4c8d-91fc-9c61b30e2849",
   "metadata": {},
   "outputs": [],
   "source": [
    "val n1 : Int = 3\n",
    "val n2 : Int = 3\n",
    "// 기본타입에서는 == 와 === 가 같다 "
   ]
  },
  {
   "cell_type": "code",
   "execution_count": 4,
   "id": "b1f3f3a5-f69b-43c8-b0bc-6f87a29272d0",
   "metadata": {},
   "outputs": [
    {
     "data": {
      "text/plain": [
       "true"
      ]
     },
     "execution_count": 4,
     "metadata": {},
     "output_type": "execute_result"
    }
   ],
   "source": [
    "n1 == n2"
   ]
  },
  {
   "cell_type": "code",
   "execution_count": 5,
   "id": "c370ef5d-e852-4189-a357-20ffc21d5e6d",
   "metadata": {},
   "outputs": [
    {
     "data": {
      "text/plain": [
       "true"
      ]
     },
     "execution_count": 5,
     "metadata": {},
     "output_type": "execute_result"
    }
   ],
   "source": [
    "n1 === n2"
   ]
  },
  {
   "cell_type": "code",
   "execution_count": 6,
   "id": "a93f11b1-4e32-4ebf-8557-4898e6edcd19",
   "metadata": {},
   "outputs": [],
   "source": [
    "data class MyPair(val x : Int, val y : Int)\n",
    "// 참조타입에서는 ...\n",
    "val s1 = MyPair(3,4)\n",
    "val s2 = MyPair(3,4)"
   ]
  },
  {
   "cell_type": "code",
   "execution_count": 7,
   "id": "5b64f3e4-f42e-41c2-8b26-bdcb3c490e74",
   "metadata": {},
   "outputs": [
    {
     "data": {
      "text/plain": [
       "true"
      ]
     },
     "execution_count": 7,
     "metadata": {},
     "output_type": "execute_result"
    }
   ],
   "source": [
    "s1 == s2 // 내용은 같다"
   ]
  },
  {
   "cell_type": "code",
   "execution_count": 8,
   "id": "d14f5b73-f82f-4a61-86ce-8ddf092e3016",
   "metadata": {},
   "outputs": [
    {
     "data": {
      "text/plain": [
       "false"
      ]
     },
     "execution_count": 8,
     "metadata": {},
     "output_type": "execute_result"
    }
   ],
   "source": [
    "s1 === s2 // 하지만 별개의 객체이다"
   ]
  },
  {
   "cell_type": "markdown",
   "id": "d7a08ac4-69cb-49eb-9fbb-0bc3df2e9cc7",
   "metadata": {},
   "source": [
    "## 타입\n",
    "\n",
    "- 변수를 초기화하는 식으로부터 타입을 유추할 수 있는 경우는 변수를 적어주지 않아도 됨\n",
    "  - 참고로 최근 Java 버전에도 이런 기능이 있다\n",
    "- 타입을 적는 경우는 변수 이름 오른쪽 `:` 다음에\n",
    "  - 참고로 함수 파라메터에는 생략하지 못하므로 반드시 타입을 명세해야 함"
   ]
  },
  {
   "cell_type": "code",
   "execution_count": 9,
   "id": "e4ab8e76-1039-40e3-b55f-db19b43043d9",
   "metadata": {},
   "outputs": [
    {
     "data": {
      "text/plain": [
       "class kotlin.Int"
      ]
     },
     "execution_count": 9,
     "metadata": {},
     "output_type": "execute_result"
    }
   ],
   "source": [
    "x::class // ::class 를 뒤에 붙여서 타입을 알아볼 수 있다"
   ]
  },
  {
   "cell_type": "code",
   "execution_count": 10,
   "id": "51ff4735-4384-4401-aa3a-4173c43d4bf1",
   "metadata": {},
   "outputs": [
    {
     "name": "stderr",
     "output_type": "stream",
     "text": [
      "Line_9.jupyter-kts (1:19 - 21) The integer literal does not conform to the expected type String"
     ]
    }
   ],
   "source": [
    "val x2 : String = 25"
   ]
  },
  {
   "cell_type": "code",
   "execution_count": 11,
   "id": "e8e3c759-1441-4f5a-82d9-a4fe332d9574",
   "metadata": {},
   "outputs": [],
   "source": [
    "val x3 : Int = 25"
   ]
  },
  {
   "cell_type": "markdown",
   "id": "aa2f122f-9b8f-4346-989e-4a165b55d3ab",
   "metadata": {},
   "source": [
    "## 함수\n",
    "\n",
    "- 클래스 안에 선언하는 메소드가 아닌 클래스 밖에서도 그냥 함수 선언 가능\n",
    "- `fun` 키워드로 정의 \n",
    "  - 람다식이라는 것으로 함수를 정의할 수도 있는데 이건 다음 기회에\n",
    "- 함수도 다른 값처럼 변수에 지정할 수도 있다\n",
    "- 함수의 타입\n",
    "- 디폴트 인자"
   ]
  },
  {
   "cell_type": "code",
   "execution_count": 12,
   "id": "96c2f5f3-4156-479b-ab95-06cca2e0f3a4",
   "metadata": {},
   "outputs": [],
   "source": [
    "// f1 : (Int) -> String\n",
    "fun f1(x : Int) : String {\n",
    "    return \"Hello number \" + x\n",
    "}"
   ]
  },
  {
   "cell_type": "code",
   "execution_count": 13,
   "id": "15ea5d2f-60e3-434b-8b92-c7fa4900a377",
   "metadata": {},
   "outputs": [
    {
     "data": {
      "text/plain": [
       "Hello number 135"
      ]
     },
     "execution_count": 13,
     "metadata": {},
     "output_type": "execute_result"
    }
   ],
   "source": [
    "f1(135)"
   ]
  },
  {
   "cell_type": "code",
   "execution_count": 14,
   "id": "50288b02-7f1d-465b-a092-8b86d237e375",
   "metadata": {},
   "outputs": [],
   "source": [
    "// f2 : (Int) -> Int\n",
    "fun f2(x : Int) : Int {\n",
    "    return x + x\n",
    "}"
   ]
  },
  {
   "cell_type": "code",
   "execution_count": 15,
   "id": "cd42ad38-7eb5-4376-9c5e-a1dfd07c87a0",
   "metadata": {},
   "outputs": [
    {
     "data": {
      "text/plain": [
       "20"
      ]
     },
     "execution_count": 15,
     "metadata": {},
     "output_type": "execute_result"
    }
   ],
   "source": [
    "f2(10)"
   ]
  },
  {
   "cell_type": "code",
   "execution_count": 16,
   "id": "6a590e76-20c6-459e-8fbe-993cb37443c2",
   "metadata": {},
   "outputs": [
    {
     "data": {
      "text/plain": [
       "40"
      ]
     },
     "execution_count": 16,
     "metadata": {},
     "output_type": "execute_result"
    }
   ],
   "source": [
    "f2(f2(10))"
   ]
  },
  {
   "cell_type": "code",
   "execution_count": 17,
   "id": "41d00f54-d00b-40d9-bcae-7ed8ff14136a",
   "metadata": {},
   "outputs": [],
   "source": [
    "// fun으로 정의한 (전역) 함수를 변수에 지정하거나 할 때는 앞에 ::를\n",
    "val vf1 : (Int) -> String = ::f1"
   ]
  },
  {
   "cell_type": "code",
   "execution_count": 18,
   "id": "8938397b-a63e-44b8-bd9a-519978a0e656",
   "metadata": {},
   "outputs": [
    {
     "data": {
      "text/plain": [
       "Hello number 135"
      ]
     },
     "execution_count": 18,
     "metadata": {},
     "output_type": "execute_result"
    }
   ],
   "source": [
    "vf1(135)"
   ]
  },
  {
   "cell_type": "code",
   "execution_count": 19,
   "id": "14e8d3d8-44ad-4417-923a-f1fd86b992f0",
   "metadata": {},
   "outputs": [],
   "source": [
    "val vf2 : (Int) -> Int = ::f2"
   ]
  },
  {
   "cell_type": "code",
   "execution_count": 20,
   "id": "5813365e-e430-4b24-b0c4-c21f635e89c2",
   "metadata": {},
   "outputs": [
    {
     "data": {
      "text/plain": [
       "20"
      ]
     },
     "execution_count": 20,
     "metadata": {},
     "output_type": "execute_result"
    }
   ],
   "source": [
    "vf2(10)"
   ]
  },
  {
   "cell_type": "markdown",
   "id": "7d37d4ee-f2a6-4a84-af35-2277081fed82",
   "metadata": {},
   "source": [
    "함수라는 값을 변수에 지정할 수 있으면\n",
    "- 함수의 파라메터로 넘길 수도 있겠네!\n",
    "- 함수의 리턴값으로 돌려줄 수도 있겠네!\n",
    "\n",
    "실제로 그렇다."
   ]
  },
  {
   "cell_type": "code",
   "execution_count": 21,
   "id": "69cc002b-bd07-4aa8-a5ba-5c25f7c5afd0",
   "metadata": {},
   "outputs": [],
   "source": [
    "// 함수값을 파라메터로 받거나 리턴값으로 돌려주는 함수를 고차함수라고 한다\n",
    "fun twice( f : (Int) -> Int, x : Int ) : Int {\n",
    "    return f(f(x))\n",
    "}"
   ]
  },
  {
   "cell_type": "code",
   "execution_count": 22,
   "id": "cd3ac711-5228-4d4d-80d1-5a823248b46f",
   "metadata": {},
   "outputs": [
    {
     "data": {
      "text/plain": [
       "40"
      ]
     },
     "execution_count": 22,
     "metadata": {},
     "output_type": "execute_result"
    }
   ],
   "source": [
    "twice( ::f2, 10 )"
   ]
  },
  {
   "cell_type": "code",
   "execution_count": 23,
   "id": "9a60863f-be04-4a70-9cdb-64c5d5555aba",
   "metadata": {},
   "outputs": [
    {
     "data": {
      "text/plain": [
       "40"
      ]
     },
     "execution_count": 23,
     "metadata": {},
     "output_type": "execute_result"
    }
   ],
   "source": [
    "twice( vf2, 10 )"
   ]
  },
  {
   "cell_type": "code",
   "execution_count": 24,
   "id": "d7cc0ebd-372e-4642-a800-b32bcb186a93",
   "metadata": {},
   "outputs": [],
   "source": [
    "// 간단하게 리턴만 하는 함수는 좀더 간단한 함수 정의 문법 사용 가능\n",
    "// 수학에서는 간단한 문법을 쓰는데 ... f(x) = x + 100\n",
    "// 코틀린에서 간단한 함수 정의 문법을 써서 리턴 타입은 유추가 가능하면\n",
    "// 함수 리턴 타입 생략 가능\n",
    "fun f3(x : Int) = x + 100"
   ]
  },
  {
   "cell_type": "code",
   "execution_count": 25,
   "id": "5b0d3a03-bf04-4bce-a527-0d596b181e0b",
   "metadata": {},
   "outputs": [
    {
     "data": {
      "text/plain": [
       "205"
      ]
     },
     "execution_count": 25,
     "metadata": {},
     "output_type": "execute_result"
    }
   ],
   "source": [
    "twice( ::f3, 5 )"
   ]
  },
  {
   "cell_type": "code",
   "execution_count": 26,
   "id": "89b33dc2-946f-412e-97a1-de7a996ebf78",
   "metadata": {},
   "outputs": [],
   "source": [
    "// name 인자를 생략하면 \"아무개\" 로 취급하고 싶다면\n",
    "// Java라면 fun f4() = ... 이런 식으로 함수를 하나 더 정의해서 오버로딩하는 방법밖에 없지만\n",
    "fun f4(name : String = \"아무개\") = \"Hello \" + name"
   ]
  },
  {
   "cell_type": "code",
   "execution_count": 27,
   "id": "ad7fbb06-4206-4a1e-bb79-416d63beb99f",
   "metadata": {},
   "outputs": [
    {
     "data": {
      "text/plain": [
       "Hello 홍길동"
      ]
     },
     "execution_count": 27,
     "metadata": {},
     "output_type": "execute_result"
    }
   ],
   "source": [
    "f4(\"홍길동\")"
   ]
  },
  {
   "cell_type": "code",
   "execution_count": 28,
   "id": "238c004e-0167-4781-9946-0e735989ef56",
   "metadata": {},
   "outputs": [
    {
     "data": {
      "text/plain": [
       "Hello 아무개"
      ]
     },
     "execution_count": 28,
     "metadata": {},
     "output_type": "execute_result"
    }
   ],
   "source": [
    "f4()"
   ]
  },
  {
   "cell_type": "code",
   "execution_count": 29,
   "id": "ffd00d0c-4787-42dc-b764-a6303a8a6340",
   "metadata": {},
   "outputs": [
    {
     "data": {
      "text/plain": [
       "Hello 김철수"
      ]
     },
     "execution_count": 29,
     "metadata": {},
     "output_type": "execute_result"
    }
   ],
   "source": [
    "// 코틀린에서는 가독성을 위해 함수 파라메터의 이름을 이용해서 호출 가능\n",
    "f4(name = \"김철수\")"
   ]
  },
  {
   "cell_type": "markdown",
   "id": "5b038ea6-c248-46c5-a7aa-e9ba59b36ba8",
   "metadata": {},
   "source": [
    "<br>\n",
    "\n",
    "`Unit`\n",
    "- 프로시저(특별한 값을 리턴하지 않는 함수)의 리턴 타입\n",
    "- Java에서 void에 해당\n",
    "\n",
    "표준라이브러리 println 같은 것의 리턴타입이 바로 `Unit`\n",
    "\n",
    "중괄호 써서 작성하는 함수 정의에 리턴타입을 적지 않으면 `Unit`으로 간주"
   ]
  },
  {
   "cell_type": "code",
   "execution_count": 30,
   "id": "3993659b-8146-45dd-9f66-3e8cbf3f5e89",
   "metadata": {},
   "outputs": [],
   "source": [
    "fun printHello() {\n",
    "    println(\"Hello\") \n",
    "}"
   ]
  },
  {
   "cell_type": "markdown",
   "id": "a73fccef-a26e-4f0c-8252-2f35fbf4d4e6",
   "metadata": {},
   "source": [
    "## 클래스 생성자, 멤버변수, 메소드\n",
    "- 주 생성자 (클래스 시작 부분에 파라메터만 적고 하는 일은 변수 초기화만)\n",
    "- 부 생성자 (클래스 내부에 보통의 메소드와 비슷하게 정의)"
   ]
  },
  {
   "cell_type": "code",
   "execution_count": 31,
   "id": "a19e52e1-cd9b-4276-891d-be7ddc380e55",
   "metadata": {},
   "outputs": [],
   "source": [
    "// 정수 두개로 이루어지는 클래스\n",
    "class IntPair constructor(_x : Int, _y : Int) {\n",
    "    val x : Int = _x\n",
    "    val y : Int = _y\n",
    "    \n",
    "    /*\n",
    "    constructor(_x : Int, _y : Int) {\n",
    "        x = _x\n",
    "        y = _y\n",
    "    }\n",
    "    */\n",
    "\n",
    "    override fun toString() = \"(\"+x+\",\"+y+\")\"\n",
    "}"
   ]
  },
  {
   "cell_type": "code",
   "execution_count": 32,
   "id": "96265910-0909-4bfd-a61a-dd8539707221",
   "metadata": {},
   "outputs": [
    {
     "name": "stdout",
     "output_type": "stream",
     "text": [
      "4\n",
      "5\n"
     ]
    }
   ],
   "source": [
    "val ip1 = IntPair(4,5)\n",
    "\n",
    "println(ip1.x)\n",
    "println(ip1.y)"
   ]
  },
  {
   "cell_type": "code",
   "execution_count": 33,
   "id": "7bdbb592-6a00-4858-b507-f93212d608e5",
   "metadata": {},
   "outputs": [
    {
     "data": {
      "text/plain": [
       "(4,5)"
      ]
     },
     "execution_count": 33,
     "metadata": {},
     "output_type": "execute_result"
    }
   ],
   "source": [
    "ip1"
   ]
  },
  {
   "cell_type": "code",
   "execution_count": 34,
   "id": "9e327e51-011e-4f59-9583-4dbc3dc62686",
   "metadata": {},
   "outputs": [],
   "source": [
    "// 정수 두개로 이루어지는 클래스를 더 간단한 문법의 주생성자!\n",
    "// 생성자의 정의와 속성(멤버 변수)의 정의를 한꺼번에 해결\n",
    "// 파라메터 앞에다 val이나 var로 불변 또는 가변 속성을 정의\n",
    "class IntPair2(val x : Int, val y : Int) {\n",
    "    override fun toString() = \"(\"+x+\",\"+y+\")\"\n",
    "}"
   ]
  },
  {
   "cell_type": "code",
   "execution_count": 35,
   "id": "645624b4-0ea3-497e-a8e8-938c651c850c",
   "metadata": {},
   "outputs": [
    {
     "name": "stdout",
     "output_type": "stream",
     "text": [
      "4\n",
      "5\n"
     ]
    }
   ],
   "source": [
    "val ip2 = IntPair2(4,5)\n",
    "\n",
    "println(ip2.x)\n",
    "println(ip2.y)"
   ]
  },
  {
   "cell_type": "code",
   "execution_count": 36,
   "id": "daf1b498-9901-41d6-8362-3444cbaa76bb",
   "metadata": {},
   "outputs": [
    {
     "data": {
      "text/plain": [
       "(4,5)"
      ]
     },
     "execution_count": 36,
     "metadata": {},
     "output_type": "execute_result"
    }
   ],
   "source": [
    "ip2"
   ]
  },
  {
   "cell_type": "markdown",
   "id": "6277372f-78b0-4cd5-92e1-af481a154628",
   "metadata": {},
   "source": [
    "## 제네릭\n",
    "\n",
    "Java의 실수(역사적으로 꼬여버린 ... 제네릭이 진짜 일반적이지 않다)\n",
    " - 기본타입 - 제네릭 파라메터로 불가능\n",
    " - 참조타입 - 제네릭 파라메터로 가능\n",
    "\n",
    "예를 들면 자바에서는 `C<int>`같은 것은 불가능!\n",
    "그래서 `C<Integer>`라는 식으로\n",
    "`int` 타입을 감싸고 있는 클래스인 `Integer`를 정의해서 그걸로 제네릭을 활용해야 하는 귀찮음.\n",
    "\n",
    "자바에서 `Integer`같은 클래스를 래퍼(wrapper) 클래스라고 합니다. (Do it! 자바 교재 참고)"
   ]
  },
  {
   "cell_type": "code",
   "execution_count": 37,
   "id": "8e10e7bb-e147-475b-bf8b-8df367cda510",
   "metadata": {},
   "outputs": [],
   "source": [
    "data class Pair<T>(val x : T, val y : T)"
   ]
  },
  {
   "cell_type": "code",
   "execution_count": 38,
   "id": "74890769-22f2-497b-bc2c-b0f8d482e3f5",
   "metadata": {},
   "outputs": [
    {
     "data": {
      "text/plain": [
       "Pair(x=3, y=4)"
      ]
     },
     "execution_count": 38,
     "metadata": {},
     "output_type": "execute_result"
    }
   ],
   "source": [
    "var p1 = Pair<Int>(3,4) // 코틀린은 new 키워드가 없음, 기본타입도 제너릭으로 파라메터 가능!!!\n",
    "\n",
    "p1"
   ]
  },
  {
   "cell_type": "code",
   "execution_count": 39,
   "id": "a13f4376-421e-4b51-97d4-4066687bcec8",
   "metadata": {},
   "outputs": [
    {
     "data": {
      "text/plain": [
       "Pair(x=3.4, y=5.3)"
      ]
     },
     "execution_count": 39,
     "metadata": {},
     "output_type": "execute_result"
    }
   ],
   "source": [
    "var p2 = Pair<Double>(3.4,5.3) // 기본타입도 제너릭으로 파라메터 가능!!!\n",
    "\n",
    "p2"
   ]
  },
  {
   "cell_type": "code",
   "execution_count": 40,
   "id": "677ef608-cd58-4341-a137-d8adc8d52eda",
   "metadata": {},
   "outputs": [
    {
     "data": {
      "text/plain": [
       "Pair(x=Hello, y=Kotlin)"
      ]
     },
     "execution_count": 40,
     "metadata": {},
     "output_type": "execute_result"
    }
   ],
   "source": [
    "var p3 = Pair<String>(\"Hello\",\"Kotlin\") // 참조타입도 당연 가능\n",
    "\n",
    "p3"
   ]
  },
  {
   "cell_type": "code",
   "execution_count": null,
   "id": "2a17bd0c-2446-4f91-8337-cda433242b09",
   "metadata": {},
   "outputs": [],
   "source": []
  }
 ],
 "metadata": {
  "kernelspec": {
   "display_name": "Kotlin",
   "language": "kotlin",
   "name": "kotlin"
  },
  "language_info": {
   "codemirror_mode": "kotlin",
   "file_extension": ".kt",
   "mimetype": "text/x-kotlin",
   "name": "kotlin",
   "nbconvert_exporter": "",
   "pygments_lexer": "kotlin",
   "version": "1.6.0-dev-1733"
  }
 },
 "nbformat": 4,
 "nbformat_minor": 5
}
