{
 "cells": [
  {
   "cell_type": "markdown",
   "id": "fab8ba87-4956-4438-879d-61195f0b52f6",
   "metadata": {},
   "source": [
    "## 14 Functional Programming\n",
    "\n",
    "자바는 처음에는 객체지향 프로그래밍만을 염두에 두고 설계되었다.\n",
    "이후에 제네릭도 추가되고 최근 들어서는 함수형 프로그래밍에 대한 지원을 위한 기능도 추가되고 있다.\n",
    "\n",
    "코틀린은 시작부터 객체지향과 함께 함수형 프로그래밍에 대한 지원도 고려하는 멀티 패러다임 언어를 표방하고 출시함. Java와 달리 `(T1) -> T2` 형태의 함수 타입을 언어에서 직접 지원함으로써 함수를 자연스럽게 변수에 지정하는 등 함수를 다른 객체와 다름없이 활용. Java에는 함수형 프로그래밍을 위해서 별도로 함수라는 개념의 인터페이스를 따로 정의해서 그 함수 인터페이스를 구현하는 클래스의 객체를 생성해는 방식으로 조금 우회적으로 지원.\n",
    "\n",
    "일단 컬렉션을 제대로 활용하기 위해서라도 람다식, 고차함수 등\n",
    "함수형 프로그래밍에 대한 기초적인 이해가 있어야 한다.\n",
    "(이건 요즘 다른 언어의 표준라이브러리에서도 마찬가지)\n",
    "이와 관련된 우리말로 된 유투브 영상 두 개를 소개한다.\n",
    "- [함수형 프로그래밍이 뭔가요](https://youtu.be/jVG5jvOzu9Y)\n",
    "  (얄팍한 코딩사전)\n",
    "- [라인 백엔드 개발자의 함수형 프로그래밍 언어 실전 사용기](https://youtu.be/H6JxxWL6bJI)\n",
    "  (라인개발실록)\n",
    "\n",
    "우리 교재 03장과 09장의 내용을 따라가 보자.\n",
    "\n",
    "03장\n",
    " - 순수 함수: 수학의 함수\n",
    " - 람다식\n",
    "    - 정수식은 변수를 정의하지 않고도 `3 + 4` 이런 식으로 작성 가능\n",
    "    - 문자열 관련 식도 변수를 정의하지 않고 `\"hello\".length` 이런 식으로 작성 가능\n",
    "    - 함수라는 것은 왜 꼭 함수의 이름이 필요하지? 그렇지 않아 람다식이 있다면\n",
    "       - $(\\lambda x. x + 3)$이라고 쓰면 $x$에 어떤 값을 받아서 $x+3$을 결과로 계산해내는 함수를 표현하는 식 \n",
    "       - `{ x -> x + 3 }`\n",
    " - 고차함수\n",
    " - 컬렉션에서 고차함수와 람다식의 활용"
   ]
  },
  {
   "cell_type": "code",
   "execution_count": 1,
   "id": "1341313e-5a4b-42fe-97d7-50693e0a18ea",
   "metadata": {},
   "outputs": [
    {
     "name": "stderr",
     "output_type": "stream",
     "text": [
      "Line_0.jupyter-kts (1:3 - 4) Cannot infer a type for this parameter. Please specify it explicitly."
     ]
    }
   ],
   "source": [
    "{ x -> x + 3 } // 문법이 틀린 건 아닌데 타입을 자동으로 코틀린 컴파일러가 못 알아내는 상황"
   ]
  },
  {
   "cell_type": "code",
   "execution_count": 2,
   "id": "20c2d0e8-ff6b-4bdf-8f2a-c3433d6ce204",
   "metadata": {},
   "outputs": [
    {
     "data": {
      "text/plain": [
       "(kotlin.Int) -> kotlin.Int"
      ]
     },
     "execution_count": 2,
     "metadata": {},
     "output_type": "execute_result"
    }
   ],
   "source": [
    "{ x : Int -> x + 3 }.toString() // 일반적인 Kotlin 개발환경에서는 toString을 이용해서 함수의 타입을 출력해줌"
   ]
  },
  {
   "cell_type": "code",
   "execution_count": 3,
   "id": "d61694f9-8a0d-4d4c-83d4-ce72640ab3cb",
   "metadata": {},
   "outputs": [
    {
     "name": "stderr",
     "output_type": "stream",
     "text": [
      "Enclosing constructor not found\n",
      "java.lang.InternalError: Enclosing constructor not found\n",
      "\tat java.lang.Class.getEnclosingConstructor(Class.java:1211)\n",
      "\tat kotlin.reflect.jvm.internal.impl.descriptors.runtime.structure.ReflectClassUtilKt.getClassId(reflectClassUtil.kt:62)\n",
      "\tat kotlin.reflect.jvm.internal.RuntimeTypeMapper.mapJvmClassToKotlinClassId(RuntimeTypeMapper.kt:272)\n",
      "\tat kotlin.reflect.jvm.internal.KClassImpl.getClassId(KClassImpl.kt:186)\n",
      "\tat kotlin.reflect.jvm.internal.KClassImpl.access$getClassId$p(KClassImpl.kt:44)\n",
      "\tat kotlin.reflect.jvm.internal.KClassImpl$Data$descriptor$2.invoke(KClassImpl.kt:49)\n",
      "\tat kotlin.reflect.jvm.internal.KClassImpl$Data$descriptor$2.invoke(KClassImpl.kt:47)\n",
      "\tat kotlin.reflect.jvm.internal.ReflectProperties$LazySoftVal.invoke(ReflectProperties.java:93)\n",
      "\tat kotlin.reflect.jvm.internal.ReflectProperties$Val.getValue(ReflectProperties.java:32)\n",
      "\tat kotlin.reflect.jvm.internal.KClassImpl$Data.getDescriptor(KClassImpl.kt)\n",
      "\tat kotlin.reflect.jvm.internal.KClassImpl$Data$supertypes$2.invoke(KClassImpl.kt:125)\n",
      "\tat kotlin.reflect.jvm.internal.KClassImpl$Data$supertypes$2.invoke(KClassImpl.kt:47)\n",
      "\tat kotlin.reflect.jvm.internal.ReflectProperties$LazySoftVal.invoke(ReflectProperties.java:93)\n",
      "\tat kotlin.reflect.jvm.internal.ReflectProperties$Val.getValue(ReflectProperties.java:32)\n",
      "\tat kotlin.reflect.jvm.internal.KClassImpl$Data.getSupertypes(KClassImpl.kt)\n",
      "\tat kotlin.reflect.jvm.internal.KClassImpl.getSupertypes(KClassImpl.kt:254)\n",
      "\tat kotlin.reflect.full.KClasses.getSuperclasses(KClasses.kt:184)\n",
      "\tat kotlin.reflect.full.KClasses$isSubclassOf$1.get(KClasses.kt:233)\n",
      "\tat kotlin.jvm.internal.PropertyReference1.invoke(PropertyReference1.java:35)\n",
      "\tat kotlin.reflect.full.KClasses$sam$org_jetbrains_kotlin_utils_DFS_Neighbors$0.getNeighbors(KClasses.kt)\n",
      "\tat kotlin.reflect.jvm.internal.impl.utils.DFS.doDfs(DFS.java:98)\n",
      "\tat kotlin.reflect.jvm.internal.impl.utils.DFS.dfs(DFS.java:27)\n",
      "\tat kotlin.reflect.jvm.internal.impl.utils.DFS.dfs(DFS.java:37)\n",
      "\tat kotlin.reflect.jvm.internal.impl.utils.DFS.ifAny(DFS.java:47)\n",
      "\tat kotlin.reflect.full.KClasses.isSubclassOf(KClasses.kt:233)\n",
      "\tat org.jetbrains.kotlinx.jupyter.api.SubtypeRendererTypeHandler.acceptsType(renderersHandling.kt:138)\n",
      "\tat org.jetbrains.kotlinx.jupyter.api.RendererTypeHandler$DefaultImpls.accepts(renderersHandling.kt:62)\n",
      "\tat org.jetbrains.kotlinx.jupyter.api.PrecompiledRendererTypeHandler$DefaultImpls.accepts(renderersHandling.kt)\n",
      "\tat org.jetbrains.kotlinx.jupyter.api.SubtypeRendererTypeHandler.accepts(renderersHandling.kt:117)\n",
      "\tat org.jetbrains.kotlinx.jupyter.codegen.RenderersProcessorImpl.renderResult(RenderersProcessorImpl.kt:20)\n",
      "\tat org.jetbrains.kotlinx.jupyter.ReplForJupyterImpl$evalEx$1$rendered$1$1.invoke(repl.kt:405)\n",
      "\tat org.jetbrains.kotlinx.jupyter.config.LoggingKt.catchAll(logging.kt:41)\n",
      "\tat org.jetbrains.kotlinx.jupyter.config.LoggingKt.catchAll$default(logging.kt:40)\n",
      "\tat org.jetbrains.kotlinx.jupyter.ReplForJupyterImpl$evalEx$1.invoke(repl.kt:404)\n",
      "\tat org.jetbrains.kotlinx.jupyter.ReplForJupyterImpl$evalEx$1.invoke(repl.kt:383)\n",
      "\tat org.jetbrains.kotlinx.jupyter.ReplForJupyterImpl.withEvalContext(repl.kt:347)\n",
      "\tat org.jetbrains.kotlinx.jupyter.ReplForJupyterImpl.evalEx(repl.kt:383)\n",
      "\tat org.jetbrains.kotlinx.jupyter.ReplForJupyterImpl.eval(repl.kt:434)\n",
      "\tat org.jetbrains.kotlinx.jupyter.ProtocolKt$shellMessagesHandler$res$1.invoke(protocol.kt:296)\n",
      "\tat org.jetbrains.kotlinx.jupyter.ProtocolKt$shellMessagesHandler$res$1.invoke(protocol.kt:295)\n",
      "\tat org.jetbrains.kotlinx.jupyter.JupyterConnection$runExecution$execThread$1.invoke(connection.kt:162)\n",
      "\tat org.jetbrains.kotlinx.jupyter.JupyterConnection$runExecution$execThread$1.invoke(connection.kt:160)\n",
      "\tat kotlin.concurrent.ThreadsKt$thread$thread$1.run(Thread.kt:30)\n",
      "\n"
     ]
    },
    {
     "data": {
      "text/plain": [
       "null"
      ]
     },
     "execution_count": 3,
     "metadata": {},
     "output_type": "execute_result"
    }
   ],
   "source": [
    "{ x : Int -> x + 3 } // 컴파일은 되는데 함수를 기본적으로 출력하는 방법을 노트북의 Kotlin 커널에서 지원하지 않음"
   ]
  },
  {
   "cell_type": "code",
   "execution_count": 4,
   "id": "83556cb6-84b6-420b-9d63-955f45518a19",
   "metadata": {},
   "outputs": [
    {
     "data": {
      "text/plain": [
       "8"
      ]
     },
     "execution_count": 4,
     "metadata": {},
     "output_type": "execute_result"
    }
   ],
   "source": [
    "// 함수에 이름을 붙이지 않고도 람다식을 활용해 바로 함수 호출 가능\n",
    "{ x : Int -> x + 3 }( 5 )"
   ]
  },
  {
   "cell_type": "code",
   "execution_count": 5,
   "id": "f877c04c-0068-4a6c-87b9-a6a14ce1cbc9",
   "metadata": {},
   "outputs": [
    {
     "data": {
      "text/plain": [
       "5"
      ]
     },
     "execution_count": 5,
     "metadata": {},
     "output_type": "execute_result"
    }
   ],
   "source": [
    "{ x : Int -> x + 3 } 5 // 주의: 괄호 빼고도 실행은 되는데 이상한 결과"
   ]
  },
  {
   "cell_type": "code",
   "execution_count": 6,
   "id": "ef5f7ff6-81a1-498d-b32b-ee8f4c7719cf",
   "metadata": {},
   "outputs": [],
   "source": [
    "fun f1(x : Int) = x + 3"
   ]
  },
  {
   "cell_type": "code",
   "execution_count": 7,
   "id": "316a3f6f-b186-4569-9171-54919cb58f68",
   "metadata": {},
   "outputs": [
    {
     "name": "stderr",
     "output_type": "stream",
     "text": [
      "Line_6.jupyter-kts (1:1 - 3) Function invocation 'f1(...)' expected\n",
      "Line_6.jupyter-kts (1:1 - 3) No value passed for parameter 'x'"
     ]
    }
   ],
   "source": [
    "f1 5 // fun으로 정의된 함수 이름인 경우에는 함수 호출 괄호 생략 불가능"
   ]
  },
  {
   "cell_type": "code",
   "execution_count": 8,
   "id": "405bc3ec-98ee-48fa-aa67-177f16bb2e13",
   "metadata": {},
   "outputs": [],
   "source": [
    "// 이름 붙이는 거 가능 그냥 변수 선언하면\n",
    "val f2 = { x : Int -> x + 3 }"
   ]
  },
  {
   "cell_type": "code",
   "execution_count": 9,
   "id": "69c74ecd-302f-49fc-b0ed-494a62b68ea2",
   "metadata": {},
   "outputs": [
    {
     "data": {
      "text/plain": [
       "7"
      ]
     },
     "execution_count": 9,
     "metadata": {},
     "output_type": "execute_result"
    }
   ],
   "source": [
    "f2(4)"
   ]
  },
  {
   "cell_type": "code",
   "execution_count": 10,
   "id": "469c3712-d98c-488d-95ad-555f50bb19cb",
   "metadata": {},
   "outputs": [
    {
     "data": {
      "text/plain": [
       "8"
      ]
     },
     "execution_count": 10,
     "metadata": {},
     "output_type": "execute_result"
    }
   ],
   "source": [
    "f2(5)"
   ]
  },
  {
   "cell_type": "markdown",
   "id": "c9064342-047c-49c7-adaf-b37ac6a3d5f2",
   "metadata": {},
   "source": [
    "참고로 fun으로 정의한 함수 이름과 람다식으로 정의한 변수는 미묘한 차이가 있긴 있다.\n",
    "\n",
    "미묘한 차이가 뭔지 궁금한 분들은 교재 10장 참고"
   ]
  },
  {
   "cell_type": "code",
   "execution_count": 11,
   "id": "92744f6f-cd1b-476a-a46b-4409e4f4afaa",
   "metadata": {},
   "outputs": [],
   "source": [
    "val f3 : (Int) -> Int = { x : Int -> x + 3 }"
   ]
  },
  {
   "cell_type": "code",
   "execution_count": 12,
   "id": "5d968da0-dc9c-4868-92c5-553811b5c417",
   "metadata": {},
   "outputs": [
    {
     "data": {
      "text/plain": [
       "13"
      ]
     },
     "execution_count": 12,
     "metadata": {},
     "output_type": "execute_result"
    }
   ],
   "source": [
    "f3(10)"
   ]
  },
  {
   "cell_type": "code",
   "execution_count": 13,
   "id": "62aaeff3-ef60-46d6-bfdc-953a6b2e5017",
   "metadata": {},
   "outputs": [],
   "source": [
    "val f4 : (Int) -> Int = { x -> x + 3 } // 람다식에서 파라메터의 타입 생략 가능 왜냐하면 앞에다 타입을 적어놓아서"
   ]
  },
  {
   "cell_type": "code",
   "execution_count": 14,
   "id": "0b254c0e-128e-412c-bb83-3b32d976d5d6",
   "metadata": {},
   "outputs": [
    {
     "data": {
      "text/plain": [
       "23"
      ]
     },
     "execution_count": 14,
     "metadata": {},
     "output_type": "execute_result"
    }
   ],
   "source": [
    "f4(20)"
   ]
  },
  {
   "cell_type": "code",
   "execution_count": 15,
   "id": "f3fb3c8d-ba1a-4799-939a-0f593e0c5f5c",
   "metadata": {},
   "outputs": [],
   "source": [
    "// 인자가 여러개인 함수\n",
    "val g1 : (Int, Int) -> Int = { x, y -> x + y }"
   ]
  },
  {
   "cell_type": "code",
   "execution_count": 16,
   "id": "fd7b4daa-3472-40a9-9b4a-ede2c82340ba",
   "metadata": {},
   "outputs": [
    {
     "data": {
      "text/plain": [
       "5"
      ]
     },
     "execution_count": 16,
     "metadata": {},
     "output_type": "execute_result"
    }
   ],
   "source": [
    "g1(2,3)"
   ]
  },
  {
   "cell_type": "code",
   "execution_count": 17,
   "id": "3c5d03d0-9e55-4c96-8107-77a38b604cbc",
   "metadata": {},
   "outputs": [],
   "source": [
    "val g2 = { x:Int, y:Int -> x + y }"
   ]
  },
  {
   "cell_type": "code",
   "execution_count": 18,
   "id": "7d5c91c2-4df3-41d2-949f-bb9f478a9b1f",
   "metadata": {},
   "outputs": [
    {
     "data": {
      "text/plain": [
       "9"
      ]
     },
     "execution_count": 18,
     "metadata": {},
     "output_type": "execute_result"
    }
   ],
   "source": [
    "g2(4,5)"
   ]
  },
  {
   "cell_type": "markdown",
   "id": "536b9f69-82db-4236-a9f7-21ffb72250c2",
   "metadata": {},
   "source": [
    "-----\n",
    "## 고차함수 Higher-Order Function\n",
    "어떤 함수가 함수를 인자로 받거나 결과값이 함수인 경우에 고차함수라고 한다.\n",
    "\n",
    "우리가 이미 중고등학교 수학 시간을 통해서 아주 잘 알고 있는 고차함수의 개념 - 함수의 합성\n",
    "\n",
    "함수 $f : B \\to C$와 함수 $g: A \\to B$를 합성한 합성함수를 $g \\circ f$라고 표시한다.\n",
    "\n",
    "함수 합성의 결과를 $h = g \\circ f$라고 하자.\n",
    "\n",
    "이 함수 합성이라는 계산 결과도 함수 $h: A \\to C$ \n",
    "\n",
    "$(f \\circ g)(x) = f(g(x))$\n",
    "\n",
    "합수 합성 연산자($\\circ$)는 두개의 함수를 인자로 받어서 결과로 새로운 함수를 계산하니까\n",
    "이런 것을 프로그램으로 작성하면 우리는 이걸 합성함수라고 말한다는 것이다.\n",
    "\n",
    "코틀린으로 해보자."
   ]
  },
  {
   "cell_type": "code",
   "execution_count": 19,
   "id": "aadac6f5-03b9-464e-981a-a85711532d40",
   "metadata": {},
   "outputs": [],
   "source": [
    "// 우선 A,B,C가 모두 정수(Int)인 경우에 함수 합성을 정의해 보자\n",
    "\n",
    "fun composeInt( f: (Int)->Int, g: (Int)->Int ) : (Int) -> Int = { x -> f(g(x)) }"
   ]
  },
  {
   "cell_type": "code",
   "execution_count": 20,
   "id": "e97902bb-615b-45ef-b84b-ddbd999c589d",
   "metadata": {},
   "outputs": [
    {
     "data": {
      "text/plain": [
       "(kotlin.Int) -> kotlin.Int"
      ]
     },
     "execution_count": 20,
     "metadata": {},
     "output_type": "execute_result"
    }
   ],
   "source": [
    "val h1 = composeInt( { x -> x*2 }, { x -> x+1 } )\n",
    "\n",
    "h1.toString()"
   ]
  },
  {
   "cell_type": "code",
   "execution_count": 21,
   "id": "de7d6089-5e0c-4461-b548-df0384e7bade",
   "metadata": {},
   "outputs": [
    {
     "data": {
      "text/plain": [
       "202"
      ]
     },
     "execution_count": 21,
     "metadata": {},
     "output_type": "execute_result"
    }
   ],
   "source": [
    "h1(100) // 100에 +1을 하면 101이 되고 그걸 *2하면 202가 되니까"
   ]
  },
  {
   "cell_type": "code",
   "execution_count": 22,
   "id": "513787db-910f-49db-a8a9-76db685e8948",
   "metadata": {},
   "outputs": [],
   "source": [
    "// 일반적으로 A,B,C 타입일 때, 즉 제네릭 함수로 작성해 보자\n",
    "\n",
    "fun <A,B,C> compose( f : (B) -> C, g : (A) -> B ) : (A) -> C =  { x -> f(g(x)) }"
   ]
  },
  {
   "cell_type": "code",
   "execution_count": 23,
   "id": "21aeeb91-0c8e-4dba-9f02-a2ecffaa5fb5",
   "metadata": {},
   "outputs": [
    {
     "data": {
      "text/plain": [
       "(A) -> C"
      ]
     },
     "execution_count": 23,
     "metadata": {},
     "output_type": "execute_result"
    }
   ],
   "source": [
    "val h2 = compose( { x:Int -> x*2 }, { x:Int -> x+1 } )\n",
    "\n",
    "h2.toString() // 아쉬운 부분 JVM의 한계 실행시간에 제네릭 타입 정보는 모두 지워야 하기 때문"
   ]
  },
  {
   "cell_type": "code",
   "execution_count": 24,
   "id": "a2a1a1f3-3d07-41d0-a27d-e96cd5c6afdf",
   "metadata": {},
   "outputs": [
    {
     "data": {
      "text/plain": [
       "202"
      ]
     },
     "execution_count": 24,
     "metadata": {},
     "output_type": "execute_result"
    }
   ],
   "source": [
    "h2(100) // h1과 마찬가지로 동작하는 함수이다"
   ]
  },
  {
   "cell_type": "code",
   "execution_count": 25,
   "id": "15625dc0-c1f1-4cdc-9105-269d41e75dd2",
   "metadata": {},
   "outputs": [
    {
     "data": {
      "text/plain": [
       "hellohello"
      ]
     },
     "execution_count": 25,
     "metadata": {},
     "output_type": "execute_result"
    }
   ],
   "source": [
    "{ x:String -> x + x }(\"hello\")"
   ]
  },
  {
   "cell_type": "code",
   "execution_count": 26,
   "id": "29197487-d227-4fe1-ac7a-8389929f3cc9",
   "metadata": {},
   "outputs": [],
   "source": [
    "// A=String, B=String, C=Int 인 경우\n",
    "val h3 = compose( { x:String -> x.length } , { x:String -> x + x } )"
   ]
  },
  {
   "cell_type": "code",
   "execution_count": 27,
   "id": "1cc4783e-ac00-4cbc-83c7-1ec5b643d387",
   "metadata": {},
   "outputs": [
    {
     "data": {
      "text/plain": [
       "10"
      ]
     },
     "execution_count": 27,
     "metadata": {},
     "output_type": "execute_result"
    }
   ],
   "source": [
    "h3(\"hello\") // \"hello\"를 두배로 이어붙이면 \"hellohello\"니까 그 길이는 10이 된다"
   ]
  },
  {
   "cell_type": "markdown",
   "id": "c8e76d3c-85d0-4e92-9892-2756c9c12487",
   "metadata": {},
   "source": [
    "----\n",
    "## 람다식의 인자 개수가 한개일 때 `it` 키워드로 간소화"
   ]
  },
  {
   "cell_type": "code",
   "execution_count": 28,
   "id": "4d5309e4-a787-4b39-bcf7-0d6f21a3c408",
   "metadata": {},
   "outputs": [
    {
     "data": {
      "text/plain": [
       "13"
      ]
     },
     "execution_count": 28,
     "metadata": {},
     "output_type": "execute_result"
    }
   ],
   "source": [
    "{ x: Int, y: Int -> x + y }(3,10) // 두개 이상일 때는 람다식의 함수 인자에 이름을 붙여서 활용"
   ]
  },
  {
   "cell_type": "code",
   "execution_count": 29,
   "id": "c45b9d43-cec8-4ea0-8dec-4e8ff62461ec",
   "metadata": {},
   "outputs": [
    {
     "name": "stderr",
     "output_type": "stream",
     "text": [
      "Line_28.jupyter-kts (2:3 - 5) Unresolved reference: it\n",
      "Line_28.jupyter-kts (2:12 - 13) Too many arguments for public abstract operator fun invoke(): [ERROR : <ERROR FUNCTION RETURN TYPE>] defined in kotlin.Function0"
     ]
    }
   ],
   "source": [
    "// { x: Int -> x + 1 }\n",
    "{ it + 1 }(5) // 원래는 이런 식으로 쓰는데 지금 문제는 it의 타입을 코틀린이 알아내지 못해서"
   ]
  },
  {
   "cell_type": "code",
   "execution_count": 30,
   "id": "cfdc22de-9fba-4779-a82a-351574552a08",
   "metadata": {},
   "outputs": [
    {
     "data": {
      "text/plain": [
       "202"
      ]
     },
     "execution_count": 30,
     "metadata": {},
     "output_type": "execute_result"
    }
   ],
   "source": [
    "  // composeInt( { x -> x*2 }, { x -> x+1 } )\n",
    "val h4 = composeInt( { it*2 }, { it+1 } ) // 인자 개수가 1개이고 무슨 타입인지 확실한 곳에서는 it으로 간소화 가능\n",
    "\n",
    "h4(100)"
   ]
  },
  {
   "cell_type": "markdown",
   "id": "aa6b092f-8b4f-4738-9131-2e27e3cb0c8d",
   "metadata": {},
   "source": [
    "----\n",
    "## 컨테이너에서 고차함수와 람다식 활용\n",
    "컨테이너의 메소드 중에 고차함수가 꽤 있다."
   ]
  },
  {
   "cell_type": "code",
   "execution_count": 31,
   "id": "0ef81b5d-e0fa-48c3-9087-c94735dc60fe",
   "metadata": {},
   "outputs": [
    {
     "data": {
      "text/plain": [
       "[1, 2, 3, 4, 5, 6, 7, 8, 9, 10]"
      ]
     },
     "execution_count": 31,
     "metadata": {},
     "output_type": "execute_result"
    }
   ],
   "source": [
    "val l1 = listOf(1,2,3,4,5,6,7,8,9,10)\n",
    "\n",
    "l1"
   ]
  },
  {
   "cell_type": "code",
   "execution_count": 32,
   "id": "95074ec1-9885-4926-aaf4-04f8afc713f1",
   "metadata": {},
   "outputs": [
    {
     "data": {
      "text/plain": [
       "[2, 4, 6, 8, 10]"
      ]
     },
     "execution_count": 32,
     "metadata": {},
     "output_type": "execute_result"
    }
   ],
   "source": [
    "// l1중에서 짝수인 것만 골라서 새로운 리스트를 만들려면?\n",
    "\n",
    "// filter라는 메소드는\n",
    "// \"어떤 조건을 만족할 때 true, 만족하지 않으면 false를 리턴하는 함수\"를 인자로 받아서\n",
    "// 만족하는 경우의 원소들만 모아서 새로운 리스트를 계산하는 고차함수이다\n",
    "\n",
    "l1.filter( { x -> x%2 == 0 } ) // 짝수 조건"
   ]
  },
  {
   "cell_type": "code",
   "execution_count": 33,
   "id": "77018fc0-e31a-46dd-9056-042f7c807f44",
   "metadata": {},
   "outputs": [
    {
     "data": {
      "text/plain": [
       "[1, 3, 5, 7, 9]"
      ]
     },
     "execution_count": 33,
     "metadata": {},
     "output_type": "execute_result"
    }
   ],
   "source": [
    "l1.filter( { x -> x%2 != 0 } ) // 홀수 조건"
   ]
  },
  {
   "cell_type": "markdown",
   "id": "5667c348-36c5-4c3c-8221-196962a80bf0",
   "metadata": {},
   "source": [
    "이거 말고도 all, any, fold.., reduce... 등등 고차함수 메소드들이 컨테이너에는 많이 있다.\n",
    "\n",
    "고차함수의 개념을 이해하고 활용할 수 있으면 이런 메소드의 정의가 무엇인지 책이나 온라인 매뉴얼에서 찾아가면서 활용하면 됩니다."
   ]
  }
 ],
 "metadata": {
  "kernelspec": {
   "display_name": "Kotlin",
   "language": "kotlin",
   "name": "kotlin"
  },
  "language_info": {
   "codemirror_mode": "kotlin",
   "file_extension": ".kt",
   "mimetype": "text/x-kotlin",
   "name": "kotlin",
   "nbconvert_exporter": "",
   "pygments_lexer": "kotlin",
   "version": "1.6.0-dev-1733"
  }
 },
 "nbformat": 4,
 "nbformat_minor": 5
}
