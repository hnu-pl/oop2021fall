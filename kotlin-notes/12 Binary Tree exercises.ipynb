{
 "cells": [
  {
   "cell_type": "markdown",
   "id": "3b0f41f4-6150-43e2-bf61-feed8f1b9ff0",
   "metadata": {},
   "source": [
    "# Binary Tree exercises\n",
    "\n",
    "- 이산수학에서 그래프 다루면서 트리에 대해 다루긴 했으므로 프로그래밍을 해보지는 않았어도 정의는 알고 있어야 한다\n",
    "- 데이터구조 과목에서도 자세히 다루고 또 관련 내용을 공부해 본 사람들은 사람들은 프로그램으로도 처리할 줄 알 것이다\n",
    "\n",
    "이진트리(Tree) 귀납적(재귀적) 정의를 복습\n",
    "- 어떤 노드(Node)에\n",
    "    - 데이타(v)가 하나 있고\n",
    "    - 왼쪽 하위트리(left)도 이진트리이고\n",
    "    - 오른쪽 하위트리(right)도 이진트리이면\n",
    "    \n",
    "  이 노드를 포함한 트리는 이진트리가 된다\n",
    "- 아무것도 없는 상태(null 혹은 Null)도 이진트리다\n",
    "\n",
    "```\n",
    "         2\n",
    "       /   \\\n",
    "     3      1\n",
    "   /  \\    / \\\n",
    "  .    .   .  .\n",
    "```\n",
    "\n",
    "```\n",
    "         2\n",
    "       /   \\\n",
    "     3      .\n",
    "   /  \\  \n",
    "  .    .\n",
    "```"
   ]
  },
  {
   "cell_type": "markdown",
   "id": "7715c05e-f55f-49a4-99fc-fd0eff4e2648",
   "metadata": {},
   "source": [
    "---\n",
    "## (버전0): `null`을 이용한 이진트리 정의\n",
    "\n",
    "`Node`가 곧 이진트리의 정의나 마찬가지\n",
    "\n",
    "예외적으로, `null`이 될 수 있는 가능성도 있으므로 이진트라는 것은 곧 `Node?` 타입이다\n",
    "\n",
    "이진트리의 타입을 따로 정의할 필요가 없어서 일단 시작은 간단\n",
    "\n",
    "(좀더 코드 가독성을 높이려면 typealias를 사용하면 좋음)\n",
    "\n",
    "\n",
    "트리에 포함된 데이터의 개수를 계산하는 size 메소드를 하나 정의해 보자"
   ]
  },
  {
   "cell_type": "code",
   "execution_count": 1,
   "id": "971d499d-fb5f-45c9-a964-051e39a2053d",
   "metadata": {},
   "outputs": [],
   "source": [
    "data class Node0(val v: Int, val left: Node0?, val right: Node0?) {\n",
    "    fun size() : Int {\n",
    "        // 1 + left의 데이터 개수 + right의 데이터 개수\n",
    "        // null인지 아닌지 항상 신경쓰면서 검사를 해야\n",
    "        var lSize = 0\n",
    "        var rSize = 0\n",
    "        if (left != null)  lSize = left.size()  // 여기에서는 왜 ?.가 아닌 .을 써도 될까?\n",
    "        if (right != null) rSize = right.size() // 이것에 대해서는 smart cast 관련해 교재를 찾아보세요\n",
    "        return 1 + lSize + rSize\n",
    "    }\n",
    "}\n",
    "\n",
    "typealias Tree0 = Node0? // C에서 typedef와 비슷 (typealias 정의가 재귀적으로 돌고 돌면 안됨!)\n",
    "// data class Node0(val v: Int, val left: Tree0, val right: Tree0)"
   ]
  },
  {
   "cell_type": "code",
   "execution_count": 2,
   "id": "7ea726eb-1ea3-4237-8661-03d348ea21a0",
   "metadata": {},
   "outputs": [
    {
     "data": {
      "text/plain": [
       "Node0(v=2, left=Node0(v=3, left=null, right=null), right=null)"
      ]
     },
     "execution_count": 2,
     "metadata": {},
     "output_type": "execute_result"
    }
   ],
   "source": [
    "/*\n",
    "         2\n",
    "       /   \\\n",
    "     3      .\n",
    "   /  \\  \n",
    "  .    .\n",
    "\n",
    "*/\n",
    "\n",
    "val t0 : Tree0 = Node0(2, Node0(3, null, null), null)\n",
    "\n",
    "t0"
   ]
  },
  {
   "cell_type": "code",
   "execution_count": 3,
   "id": "3278b731-d0ab-439a-917f-616906727eca",
   "metadata": {},
   "outputs": [
    {
     "data": {
      "text/plain": [
       "2"
      ]
     },
     "execution_count": 3,
     "metadata": {},
     "output_type": "execute_result"
    }
   ],
   "source": [
    "t0.size()"
   ]
  },
  {
   "cell_type": "markdown",
   "id": "93cf9fff-bdf7-4e93-bd14-99e5b7b738ef",
   "metadata": {},
   "source": [
    "----\n",
    "## (버전1): 널 오브젝트(null object) 패턴을 이용한 이진트리 정의\n",
    "\n",
    "참고로 null object 패턴과는 별개로 이진트리보다 더 일반적인 트리 구조(대표적인 예로 파일 시스템의 디렉토리/파일 구조라던가)를 객체지향 용어로는 composite 패턴이라고 부른다. \n",
    "\n",
    "\n",
    "`null`을 대신해서 쓸 수 있는 오브젝트라는 뜻에서 널오브젝트 패턴이라 부름"
   ]
  },
  {
   "cell_type": "code",
   "execution_count": 4,
   "id": "089f74b8-a5ac-45f1-b163-73156559fa83",
   "metadata": {},
   "outputs": [],
   "source": [
    "abstract class Tree1() // Tree1을 그냥 만들진 못하고 Node1이나 Null1으로 생성해야 하므로 추상 클래스\n",
    "data class Node1(val v: Int, val left: Tree1, val right: Tree1) : Tree1()\n",
    "class Null1() : Tree1() // 아무 데이터도 포함하지 않으면 data class로 하고싶어도 정의 못함"
   ]
  },
  {
   "cell_type": "code",
   "execution_count": 5,
   "id": "0474304b-5306-4f00-828f-966426dd718f",
   "metadata": {},
   "outputs": [
    {
     "data": {
      "text/plain": [
       "Node1(v=2, left=Node1(v=3, left=Line_5$Null1@32f232a5, right=Line_5$Null1@32f232a5), right=Line_5$Null1@32f232a5)"
      ]
     },
     "execution_count": 5,
     "metadata": {},
     "output_type": "execute_result"
    }
   ],
   "source": [
    "val null1 = Null1()\n",
    "\n",
    "val t1 : Tree1 = Node1(2, Node1(3, null1, null1), null1)\n",
    "\n",
    "t1 // Null1의 toString을 오버라이딩하면 좀더 간단하게 출력 가능한데 굳이 여기서 그러지는 않겠음"
   ]
  },
  {
   "cell_type": "code",
   "execution_count": 6,
   "id": "aa808837-299b-4bf3-8740-cef3a3e84ade",
   "metadata": {},
   "outputs": [
    {
     "data": {
      "text/plain": [
       "false"
      ]
     },
     "execution_count": 6,
     "metadata": {},
     "output_type": "execute_result"
    }
   ],
   "source": [
    "val nu1 = Null1()\n",
    "val nu2 = Null1()\n",
    "\n",
    "nu1 === nu2 // 매번 다른 오브젝트가 생성됨"
   ]
  },
  {
   "cell_type": "markdown",
   "id": "4d6ac9e7-25ff-4bed-9006-82b57716bd07",
   "metadata": {},
   "source": [
    "----\n",
    "## (버전2): 널 오브젝트를 싱글턴으로 하고 `sealed` 클래스도 활용\n",
    "\n",
    "아무 데이터도 포함하지 않는 데이터 클래스에 해당하는 것은 싱글턴 오브젝트가 되는 것이 맞다.\n",
    "\n",
    "그래서 코틀린의 `object` 키워드 활용\n",
    "\n",
    "일반적은 코틀린 소스코드 파일이라면 sealed 클래스와 하위 클래스를 같은 레벨에서 정의해도 되는데\n",
    "노트북 환경에서는 sealed 클래스의 하위 클래스를 sealed 클래스 내부에 정의해야만 유의미한 차이를 볼 수 있다\n",
    "\n",
    "```kotlin\n",
    "sealed abstract class Tree2() { // sealed가 아닐 때와의 차이점에 대해서 교재 참고\n",
    "    abstract fun size() : Int // 추상 메소드\n",
    "}\n",
    "\n",
    "data class Node2(val v: Int, val left: Tree2, val right: Tree2) : Tree2() {\n",
    "    override fun size() = 1 + left.size() + right.size()\n",
    "}\n",
    "\n",
    "object Null2 : Tree2() {\n",
    "    override fun toString() = \"Null2\"\n",
    "    override fun size() = 0\n",
    "}\n",
    "```\n",
    "\n",
    "sealed 클래스는 하위 클래스가 같은 파일 또는 내부 클래스로 정의된 것으로 한정됨.\n",
    "그러니까 다른 곳에서 새로운 하위 클래스를 추가로 정의하는 것을 막는다."
   ]
  },
  {
   "cell_type": "code",
   "execution_count": 7,
   "id": "5583d42d-6051-4269-9de6-776c652725fa",
   "metadata": {},
   "outputs": [],
   "source": [
    "sealed abstract class Tree2() { // sealed가 아닐때와 차이점에 대해서 교재 참고\n",
    "    abstract fun size() : Int // 추상 메소드\n",
    "\n",
    "    data class Node2(val v: Int, val left: Tree2, val right: Tree2) : Tree2() {\n",
    "        override fun size() = 1 + left.size() + right.size()\n",
    "    }\n",
    "    \n",
    "    object Null2 : Tree2() {\n",
    "        override fun toString() = \"Null2\"\n",
    "        override fun size() = 0\n",
    "    }\n",
    "}"
   ]
  },
  {
   "cell_type": "code",
   "execution_count": 8,
   "id": "0f4bf4b3-5b0a-4112-bb17-2fa68f32f211",
   "metadata": {},
   "outputs": [
    {
     "data": {
      "text/plain": [
       "Node2(v=2, left=Node2(v=3, left=Null2, right=Null2), right=Null2)"
      ]
     },
     "execution_count": 8,
     "metadata": {},
     "output_type": "execute_result"
    }
   ],
   "source": [
    "val t2 : Tree2 = Tree2.Node2(2, Tree2.Node2(3, Tree2.Null2, Tree2.Null2), Tree2.Null2)\n",
    "\n",
    "t2"
   ]
  },
  {
   "cell_type": "code",
   "execution_count": 9,
   "id": "2e4e6764-dd69-459b-8876-a91908ea00a0",
   "metadata": {},
   "outputs": [
    {
     "data": {
      "text/plain": [
       "2"
      ]
     },
     "execution_count": 9,
     "metadata": {},
     "output_type": "execute_result"
    }
   ],
   "source": [
    "t2.size()"
   ]
  },
  {
   "cell_type": "code",
   "execution_count": 10,
   "id": "e937ccf0-426e-4e43-af1a-ad6b7d820fe8",
   "metadata": {},
   "outputs": [
    {
     "data": {
      "text/plain": [
       "many"
      ]
     },
     "execution_count": 10,
     "metadata": {},
     "output_type": "execute_result"
    }
   ],
   "source": [
    "// java에서 switch 문과 비슷한 기능\n",
    "val n: Int = 5\n",
    "\n",
    "when(n) {\n",
    "    1 -> \"one\"\n",
    "    2 -> \"two\"\n",
    "    3 -> \"three\"\n",
    "    else -> \"many\" // 다른 나머지 경우\n",
    "}"
   ]
  },
  {
   "cell_type": "code",
   "execution_count": 11,
   "id": "823109f9-0264-4257-85d7-c08677212d04",
   "metadata": {},
   "outputs": [
    {
     "data": {
      "text/plain": [
       "Null2"
      ]
     },
     "execution_count": 11,
     "metadata": {},
     "output_type": "execute_result"
    }
   ],
   "source": [
    "val t3: Tree2 = Tree2.Null2\n",
    "\n",
    "when(t3) {\n",
    "    is Tree2.Null2 -> \"Null2\" // Tree2를 sealad 클래스로 정의한 경우에는 \n",
    "    is Tree2.Node2 -> \"Node2\" // 두가지 경우만으로 모든 경우를 다 고려한 것으로 판단된다\n",
    "    // else -> \"something else\" // sealed가 아니면 혹시 다른 곳에서 Tree2를 상속한 하위 클래스가 있을지도 모르니까\n",
    "}"
   ]
  },
  {
   "cell_type": "code",
   "execution_count": null,
   "id": "ca1c487f-13d9-427e-b163-ce88f7c7fdf3",
   "metadata": {},
   "outputs": [],
   "source": []
  }
 ],
 "metadata": {
  "kernelspec": {
   "display_name": "Kotlin",
   "language": "kotlin",
   "name": "kotlin"
  },
  "language_info": {
   "codemirror_mode": "kotlin",
   "file_extension": ".kt",
   "mimetype": "text/x-kotlin",
   "name": "kotlin",
   "nbconvert_exporter": "",
   "pygments_lexer": "kotlin",
   "version": "1.6.0-dev-1733"
  }
 },
 "nbformat": 4,
 "nbformat_minor": 5
}
