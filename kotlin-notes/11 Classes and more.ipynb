{
 "cells": [
  {
   "cell_type": "markdown",
   "id": "d3aed051-296f-47ae-86cd-bfb6fdcb509c",
   "metadata": {},
   "source": [
    "# Classes and more\n"
   ]
  },
  {
   "cell_type": "markdown",
   "id": "4e711f64-0996-42ce-be4d-c68cc7a16871",
   "metadata": {},
   "source": [
    "---\n",
    "## 코틀린의 클래스 계층 구조와 오버라이딩\n",
    "\n",
    "```\n",
    "           척추동물\n",
    "        /          \\\n",
    "   포유류            조류\n",
    " /      \\          /    \\\n",
    "개     박쥐      비둘기   타조\n",
    "```\n",
    "\n",
    "\n",
    "코틀린은 상속 가능한 상황을 **예외적**이라고 본다!\n",
    "\n",
    "코틀린에서는 그냥 class가 Java로 따지자면 상속이 안되는 final class에 해당한다\n",
    "\n",
    "자바의 보통 클래스처럼 상속해서 하위 클래스를 둘 수 있는 클래스는 open class로 정의해야\n",
    "\n",
    "마찬가지로 메소드도 기본적으로 오버라이드를 금지 (Java로 따지지면 final 메소드에 해당)\n",
    "\n",
    "오버라이드가 가능한 메소드는 open 키워드를 붙여서 정의해야\n",
    "\n",
    "OOP의 핵심 개념이 상속인 것처럼 많이들 이야기하는데\n",
    " - 상속으로 구성하는 클래스 계층구조는 최소한도로 정말 꼭 필요한 곳에만 써야 한다!\n",
    " - 상속보다는 인터페이스를 잘 활용하는 것이 좋다"
   ]
  },
  {
   "cell_type": "code",
   "execution_count": 1,
   "id": "c50f3e69-795f-40cf-99ed-b3d34d78da2b",
   "metadata": {},
   "outputs": [],
   "source": [
    "abstract /*open*/ class Vertebre() { // 포유류 추상 클래스\n",
    "    abstract /*open*/ fun move() // 추상 메소드\n",
    "}\n",
    "\n",
    "abstract class Mammal() : Vertebre() { // 척추동물\n",
    "    override fun move() = println(\"터벅터벅\")\n",
    "}\n",
    "\n",
    "abstract class Bird() : Vertebre() { // 조류\n",
    "    override fun move() = println(\"펄럭펄럭\")\n",
    "}\n",
    "\n",
    "class Dog() : Mammal() // 개\n",
    "\n",
    "class Bat() : Mammal() { // 박쥐\n",
    "    override fun move() = println(\"팔랑팔랑\")\n",
    "}\n",
    "\n",
    "class Dove() : Bird() // 비둘기\n",
    "\n",
    "class Ostrich() : Bird() { // 타조\n",
    "    override fun move() = println(\"타다다다\")\n",
    "}"
   ]
  },
  {
   "cell_type": "code",
   "execution_count": 2,
   "id": "7ec0c683-c843-42c7-96b5-17634f8a5bd3",
   "metadata": {},
   "outputs": [
    {
     "name": "stderr",
     "output_type": "stream",
     "text": [
      "Line_1.jupyter-kts (1:10 - 20) Cannot create an instance of an abstract class"
     ]
    }
   ],
   "source": [
    "val v1 = Vertebre() // 추상 클래스이므로 그 자체로 인스턴스를 만들 수 없음\n",
    "\n",
    "v1.move()"
   ]
  },
  {
   "cell_type": "code",
   "execution_count": 3,
   "id": "81638934-85f0-4601-b4fa-dae4a79cdad4",
   "metadata": {},
   "outputs": [
    {
     "name": "stderr",
     "output_type": "stream",
     "text": [
      "Line_2.jupyter-kts (1:10 - 18) Cannot create an instance of an abstract class"
     ]
    }
   ],
   "source": [
    "val m1 = Mammal()\n",
    "\n",
    "m1.move()"
   ]
  },
  {
   "cell_type": "code",
   "execution_count": 4,
   "id": "1130d335-d38c-462a-bb92-02eace0f830a",
   "metadata": {},
   "outputs": [
    {
     "name": "stderr",
     "output_type": "stream",
     "text": [
      "Line_3.jupyter-kts (1:10 - 16) Cannot create an instance of an abstract class"
     ]
    }
   ],
   "source": [
    "val b1 = Bird()\n",
    "\n",
    "b1.move()"
   ]
  },
  {
   "cell_type": "code",
   "execution_count": 5,
   "id": "74c597fd-8cfb-4f51-bec2-434a1fd9c6a7",
   "metadata": {},
   "outputs": [
    {
     "name": "stdout",
     "output_type": "stream",
     "text": [
      "터벅터벅\n"
     ]
    }
   ],
   "source": [
    "val d1 = Dog()\n",
    "\n",
    "d1.move()"
   ]
  },
  {
   "cell_type": "code",
   "execution_count": 6,
   "id": "f75b6e74-b0e9-4d88-9a8f-d6faac332711",
   "metadata": {},
   "outputs": [
    {
     "name": "stdout",
     "output_type": "stream",
     "text": [
      "팔랑팔랑\n"
     ]
    }
   ],
   "source": [
    "val bat1 = Bat()\n",
    "\n",
    "bat1.move()"
   ]
  },
  {
   "cell_type": "code",
   "execution_count": 7,
   "id": "c3a0e0dc-1150-425c-9d11-05c1c68453b7",
   "metadata": {},
   "outputs": [
    {
     "name": "stdout",
     "output_type": "stream",
     "text": [
      "펄럭펄럭\n"
     ]
    }
   ],
   "source": [
    "val dove1 = Dove()\n",
    "\n",
    "dove1.move()"
   ]
  },
  {
   "cell_type": "code",
   "execution_count": 8,
   "id": "9cc8e948-4e78-4615-9053-2501a9d73c6d",
   "metadata": {},
   "outputs": [
    {
     "name": "stdout",
     "output_type": "stream",
     "text": [
      "타다다다\n"
     ]
    }
   ],
   "source": [
    "val o1 = Ostrich()\n",
    "\n",
    "o1.move()"
   ]
  },
  {
   "cell_type": "markdown",
   "id": "7888907d-af5c-46ab-8991-c0a7d44290fa",
   "metadata": {},
   "source": [
    "----\n",
    "## `this`, `super`\n",
    "Java와 비슷"
   ]
  },
  {
   "cell_type": "markdown",
   "id": "67f3abdc-ea94-463f-a136-ce3949b0d8cd",
   "metadata": {},
   "source": [
    "----\n",
    "## 변수 초기화와 `null`\n",
    "\n",
    "Java는 변수를 초기화하지 않으면 기본값으로 초기화\n",
    " - 기본타입의 경우 예를 들면 int 같은 정수 타입은 0이라던가\n",
    " - 참조타입은 초기화하지 않은 기본값이 `null`\n",
    "   - 이게 굉장히 많음 문제를 일으킴!!!\n",
    "   - `null`이 아닌지 검사하느라 노이로제 걸릴 지경\n",
    "\n",
    "코틀린의 경우는 초기화하지 않으면 에러가 난다!\n",
    " - 지연 초기화라는 방법도 있지만 이건 수업에선 다루지 않기로 (궁금하면 각자 교재를 찾아보기)\n",
    " - 그러니까 코틀린의 경우 참조타입이 `null`이 될 수 없다! (왜냐? 항상 초기화해야 하기 때문)\n",
    " - 코틀린의 타입은 기본적으로  non-null type \n",
    " \n",
    "그렇다고 코틀린에 `null`이 없는 것은 아님\n",
    " - 타입 뒤에 물음표 기호(`?`)를 붙이면 `null`인 가능성을 포함 \n",
    " - nullable type도 초기화는 반드시 필요하다"
   ]
  },
  {
   "cell_type": "code",
   "execution_count": 9,
   "id": "43e6d268-235d-49a0-8ad4-b2993a3ab2c3",
   "metadata": {},
   "outputs": [
    {
     "name": "stderr",
     "output_type": "stream",
     "text": [
      "Line_8.jupyter-kts (1:1 - 13) Property must be initialized or be abstract"
     ]
    }
   ],
   "source": [
    "val n3 : Int"
   ]
  },
  {
   "cell_type": "code",
   "execution_count": 10,
   "id": "dbba6609-d8ef-45b8-903d-8f0801ded649",
   "metadata": {},
   "outputs": [],
   "source": [
    "val n4 : Int = 13 // 반드시 초기화"
   ]
  },
  {
   "cell_type": "code",
   "execution_count": 11,
   "id": "ddbb934b-04f5-4ea0-a950-a552e0d00a9f",
   "metadata": {},
   "outputs": [
    {
     "name": "stderr",
     "output_type": "stream",
     "text": [
      "Line_10.jupyter-kts (1:19 - 23) Null can not be a value of a non-null type String"
     ]
    }
   ],
   "source": [
    "val s3 : String = null // null로 초기화"
   ]
  },
  {
   "cell_type": "code",
   "execution_count": 12,
   "id": "3d28516c-22d3-4572-be32-8f229d97f20d",
   "metadata": {},
   "outputs": [
    {
     "name": "stderr",
     "output_type": "stream",
     "text": [
      "Line_11.jupyter-kts (3:6 - 10) Null can not be a value of a non-null type String"
     ]
    }
   ],
   "source": [
    "var s2 : String = \"hello\"\n",
    "\n",
    "s2 = null // null로 재지정 불가"
   ]
  },
  {
   "cell_type": "code",
   "execution_count": 13,
   "id": "33a4d558-30df-44d7-987a-80536ad82c50",
   "metadata": {},
   "outputs": [],
   "source": [
    "val s4 : String? = null // 자바처럼 null이 될 수도 있는"
   ]
  },
  {
   "cell_type": "code",
   "execution_count": 14,
   "id": "e0d65241-805c-4052-9cba-f8cf8a54b12a",
   "metadata": {},
   "outputs": [],
   "source": [
    "var s5 : String? = \"hello\"\n",
    "\n",
    "s5 = null"
   ]
  },
  {
   "cell_type": "code",
   "execution_count": 15,
   "id": "cbd5645f-c772-4ce2-aeb0-8590c2d9c817",
   "metadata": {},
   "outputs": [
    {
     "name": "stderr",
     "output_type": "stream",
     "text": [
      "Line_14.jupyter-kts (1:1 - 17) Property must be initialized or be abstract"
     ]
    }
   ],
   "source": [
    "val s6 : String? // 물음표가 붙은 nullable type이라도 초기화를 해야 함"
   ]
  },
  {
   "cell_type": "markdown",
   "id": "b01dee5e-ee1a-4450-8b66-3a17b4e8c142",
   "metadata": {},
   "source": [
    "----\n",
    "## `Any`\n",
    "\n",
    "Java에서 모든 참조타입의 상위 클래스가 Object인 것처럼\n",
    " - Java에서는 기본타입 제외\n",
    "\n",
    "`Any`는 모든 코틀린 타입의 상위 클래스\n",
    " - 코틀린에서는 `Int`의 상위 클래스이기도 \n",
    " - 코틀린에서는 기본타입도 다른 클래스로 정의된 타입과 마찬가지로 일관되게 처리함\n",
    " \n",
    "주의!\n",
    " - `Any`도 non-null type이다\n",
    " - null인 경우를 포함하려는 경우라면 `Any?` 타입을 써야\n",
    " \n",
    "대략 비유하자면 Java의 Object는 `Any`보다는 `Any?`에 가깝다 (왜냐하면 null이 될 수 있으니까)"
   ]
  },
  {
   "cell_type": "code",
   "execution_count": 16,
   "id": "4e17795c-371d-4701-b63d-d94ecd51f502",
   "metadata": {},
   "outputs": [
    {
     "data": {
      "text/plain": [
       "true"
      ]
     },
     "execution_count": 16,
     "metadata": {},
     "output_type": "execute_result"
    }
   ],
   "source": [
    "\"hello\" is Any // is는 Java에서 instanceof에 해당"
   ]
  },
  {
   "cell_type": "code",
   "execution_count": 17,
   "id": "5b89ae9f-52a9-4b6b-bac3-b2a98e0446b6",
   "metadata": {},
   "outputs": [
    {
     "data": {
      "text/plain": [
       "true"
      ]
     },
     "execution_count": 17,
     "metadata": {},
     "output_type": "execute_result"
    }
   ],
   "source": [
    "3 is Any"
   ]
  },
  {
   "cell_type": "markdown",
   "id": "0bbefeec-acaf-4481-be43-87104cf882b8",
   "metadata": {},
   "source": [
    "----\n",
    "## `object`\n",
    "현재 유효 범위 안에서 유일무이한 객체를 만든다 (그리고 그 객체의 타입도 같이 정의됨)\n",
    "\n",
    "- 클래스 밖에서 사용하면 싱글턴 타입과 객체를 함께 정의\n",
    "  - 참고로 Java에서는 싱글턴 객체를 만들려면 별도의 좀 노력이 필요\n",
    "- 클래스 안에서 사용하면 마치 Java의 static 속성 및 메소드와 같은 역할을 할 수도 있다\n",
    "\n",
    "코틀린에서 프로시저(특정 값을 리턴하지 않는 함수)의 리턴 타입인 `Unit`이 이런 싱글턴 객체에 해당\n",
    " - 어차피 `Unit`이라는 타입을 가진 객체는 유일이무이하기 때문에 그냥 똑같은 이름으로 부르도록 한다는 이야기\n",
    " - 클래스 정의와 함게 객체도 정의됨 (별도로 생성자를 불러서 만들어지는 것이 아니라 그냥 클래스 정의하면서 생김)"
   ]
  },
  {
   "cell_type": "code",
   "execution_count": 18,
   "id": "801c67f8-8310-4c6c-b61f-def43cdaec5a",
   "metadata": {},
   "outputs": [
    {
     "data": {
      "text/plain": [
       "true"
      ]
     },
     "execution_count": 18,
     "metadata": {},
     "output_type": "execute_result"
    }
   ],
   "source": [
    "(3+4) is Int"
   ]
  },
  {
   "cell_type": "code",
   "execution_count": 19,
   "id": "2389251c-e200-49fa-a6e3-6ab5549ef914",
   "metadata": {},
   "outputs": [
    {
     "data": {
      "text/plain": [
       "true"
      ]
     },
     "execution_count": 19,
     "metadata": {},
     "output_type": "execute_result"
    }
   ],
   "source": [
    "Unit is Unit // Unit이라는 녀석은 Unit이라는 타입이다"
   ]
  },
  {
   "cell_type": "code",
   "execution_count": 20,
   "id": "e05c0b81-6350-4ff6-b22a-749dbcf80903",
   "metadata": {},
   "outputs": [],
   "source": [
    "object MyUnit // MyUnit은 타입 이름이기도 하면서 MyUnit이라는 이름의 객체가 만들어짐\n",
    "              // 그런데 생성자가 없으므로 더 이상 다른 MyUnit 타입의 객체는 존재할 수 없죠\n",
    "              // 그러니까 이 세상에(이 프로그램에) 존재하는 유일한 MyUnit 타입의 객체를\n",
    "              // 타입 이름과 같은 MyUnit으로 부른다"
   ]
  },
  {
   "cell_type": "markdown",
   "id": "18d90514-a01d-4f41-ab52-0d37d6f2de23",
   "metadata": {},
   "source": [
    "----\n",
    "## data class\n",
    "\n",
    "복잡한 다른 기능을 가진 객체가 아니라 그냥 데이터를 표현하는 것이 주요 기능인 경우\n",
    "\n",
    "예를 들면 수학에서 순서쌍 (x,y)같은 경우 그냥 두 개의 데이터를 모아 놓은 객체\n",
    "\n",
    "Java에서는 이런 간단한 순서쌍 객체를 쓸만하게 정의하기 위해서 상당히 긴 코드가 필요\n",
    "  - equals, hashCode, toString, copy 등의 메소드를 오버라이드 해야 함\n",
    "  - 근데 이 내용이 항상 비슷한 방식으로 정해져 있다\n",
    "    - 예를 들면 순서쌍 (x1,y1)과 (x2,y2)가 같은 내용인지는 x1과 x2가 같은 내용이고 y1과 y2까 같은 내용인지 검사\n",
    "    \n",
    "코틀린의 data class는 이런 항상 비슷한 방식으로 처리하는 순수한 데이터 표현 목적의 클래스 기능을 자동으로 알아서 만들어줌"
   ]
  },
  {
   "cell_type": "code",
   "execution_count": 21,
   "id": "e6e9d90b-6610-47da-a5d9-4c7eb3e8894a",
   "metadata": {},
   "outputs": [],
   "source": [
    "class MyPair(val x: Int, val y: Int) {\n",
    "    override fun toString() = \"(x=\"+x+\", y=\"+y+\")\"\n",
    "    // 이게 끝이 아니고 다른 여러가지 것들도 오버라라이딩해야 좀 쓸만한 ...\n",
    "}"
   ]
  },
  {
   "cell_type": "code",
   "execution_count": 22,
   "id": "4d5567bb-230a-47b3-8c7a-ad46da55123b",
   "metadata": {},
   "outputs": [
    {
     "data": {
      "text/plain": [
       "(x=3, y=4)"
      ]
     },
     "execution_count": 22,
     "metadata": {},
     "output_type": "execute_result"
    }
   ],
   "source": [
    "val p1 = MyPair(3,4)\n",
    "\n",
    "p1"
   ]
  },
  {
   "cell_type": "code",
   "execution_count": 24,
   "id": "d9e01dd4-8a15-46fc-8fec-a0fc7932b865",
   "metadata": {},
   "outputs": [
    {
     "data": {
      "text/plain": [
       "false"
      ]
     },
     "execution_count": 24,
     "metadata": {},
     "output_type": "execute_result"
    }
   ],
   "source": [
    "val p2 = MyPair(3,4)\n",
    "\n",
    "p1 == p2 // 같은 내용입니까?"
   ]
  },
  {
   "cell_type": "code",
   "execution_count": 45,
   "id": "fa50fc4c-f4b8-4b84-9164-597f38efd8be",
   "metadata": {},
   "outputs": [],
   "source": [
    "data class Pair(val x: Int, val y: Int) {\n",
    "    // 굳이 필요하다면 자동으로 만들어주는 내용과 다른 내용으로 수동으로도 오버라이딩 가능\n",
    "    // override fun toString() = \"(x=\"+x+\", y=\"+y+\")\"\n",
    "}"
   ]
  },
  {
   "cell_type": "code",
   "execution_count": 46,
   "id": "2e94d103-4c36-42f9-b4ea-ba2bc91be952",
   "metadata": {},
   "outputs": [
    {
     "data": {
      "text/plain": [
       "Pair(x=5, y=6)"
      ]
     },
     "execution_count": 46,
     "metadata": {},
     "output_type": "execute_result"
    }
   ],
   "source": [
    "val p3 = Pair(5,6)\n",
    "\n",
    "p3"
   ]
  },
  {
   "cell_type": "code",
   "execution_count": 47,
   "id": "5577925e-602d-435f-b7c7-f3937c1c1de5",
   "metadata": {},
   "outputs": [
    {
     "data": {
      "text/plain": [
       "true"
      ]
     },
     "execution_count": 47,
     "metadata": {},
     "output_type": "execute_result"
    }
   ],
   "source": [
    "val p4 = Pair(5,6)\n",
    "\n",
    "p3 == p4 // 같은 내용입니까?"
   ]
  },
  {
   "cell_type": "code",
   "execution_count": 48,
   "id": "355f1568-f7af-421b-afee-1e5485293905",
   "metadata": {},
   "outputs": [
    {
     "data": {
      "text/plain": [
       "false"
      ]
     },
     "execution_count": 48,
     "metadata": {},
     "output_type": "execute_result"
    }
   ],
   "source": [
    "p3 === p4 // 같은 객체입니까?"
   ]
  },
  {
   "cell_type": "code",
   "execution_count": null,
   "id": "1453ec0b-4212-44ea-99da-e32ab9761fee",
   "metadata": {},
   "outputs": [],
   "source": []
  }
 ],
 "metadata": {
  "kernelspec": {
   "display_name": "Kotlin",
   "language": "kotlin",
   "name": "kotlin"
  },
  "language_info": {
   "codemirror_mode": "kotlin",
   "file_extension": ".kt",
   "mimetype": "text/x-kotlin",
   "name": "kotlin",
   "nbconvert_exporter": "",
   "pygments_lexer": "kotlin",
   "version": "1.6.0-dev-1733"
  }
 },
 "nbformat": 4,
 "nbformat_minor": 5
}
